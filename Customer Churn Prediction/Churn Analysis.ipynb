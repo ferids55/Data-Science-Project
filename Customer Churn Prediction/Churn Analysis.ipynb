{
 "cells": [
  {
   "cell_type": "markdown",
   "metadata": {
    "id": "XKvicntZlgfm"
   },
   "source": [
    "# CUSTOMER CHURN ANALYSIS"
   ]
  },
  {
   "cell_type": "markdown",
   "metadata": {
    "id": "QrJobP_qC1dK"
   },
   "source": [
    "## Import Library"
   ]
  },
  {
   "cell_type": "code",
   "execution_count": 40,
   "metadata": {
    "id": "9teGuu2bsswm"
   },
   "outputs": [],
   "source": [
    "# Library for data analysis\n",
    "import numpy as np\n",
    "import pandas as pd\n",
    "\n",
    "# Library for visualization\n",
    "import matplotlib.pyplot as plt\n",
    "import seaborn as sns\n",
    "%matplotlib inline\n",
    "\n",
    "# Library for machine learning\n",
    "from sklearn.model_selection import train_test_split, cross_val_score\n",
    "from sklearn.metrics import confusion_matrix, classification_report\n",
    "from sklearn.metrics import roc_curve, roc_auc_score\n",
    "from sklearn.linear_model import LogisticRegression\n",
    "import xgboost as xgb\n",
    "\n",
    "# Setting parameter kernel\n",
    "plt.rcParams['figure.figsize'] = [10,6]\n",
    "sns.set_style('darkgrid')\n",
    "\n",
    "import warnings\n",
    "warnings.filterwarnings('ignore')"
   ]
  },
  {
   "cell_type": "markdown",
   "metadata": {
    "id": "g-U1Zp2fC9I5"
   },
   "source": [
    "## Data Preparation"
   ]
  },
  {
   "cell_type": "markdown",
   "metadata": {
    "id": "icwotiDIDCs5"
   },
   "source": [
    "### Import Raw Data"
   ]
  },
  {
   "cell_type": "code",
   "execution_count": 41,
   "metadata": {
    "colab": {
     "base_uri": "https://localhost:8080/",
     "height": 204
    },
    "id": "Q4dqezCs_K0l",
    "outputId": "1a2ec0c6-40d4-4ae1-f289-f278f07a52cf"
   },
   "outputs": [
    {
     "data": {
      "text/html": [
       "<div>\n",
       "<style scoped>\n",
       "    .dataframe tbody tr th:only-of-type {\n",
       "        vertical-align: middle;\n",
       "    }\n",
       "\n",
       "    .dataframe tbody tr th {\n",
       "        vertical-align: top;\n",
       "    }\n",
       "\n",
       "    .dataframe thead th {\n",
       "        text-align: right;\n",
       "    }\n",
       "</style>\n",
       "<table border=\"1\" class=\"dataframe\">\n",
       "  <thead>\n",
       "    <tr style=\"text-align: right;\">\n",
       "      <th></th>\n",
       "      <th>no</th>\n",
       "      <th>Row_Num</th>\n",
       "      <th>Customer_ID</th>\n",
       "      <th>Product</th>\n",
       "      <th>First_Transaction</th>\n",
       "      <th>Last_Transaction</th>\n",
       "      <th>Average_Transaction_Amount</th>\n",
       "      <th>Count_Transaction</th>\n",
       "    </tr>\n",
       "  </thead>\n",
       "  <tbody>\n",
       "    <tr>\n",
       "      <th>0</th>\n",
       "      <td>1</td>\n",
       "      <td>1</td>\n",
       "      <td>29531</td>\n",
       "      <td>Jaket</td>\n",
       "      <td>1466304274396</td>\n",
       "      <td>1538718482608</td>\n",
       "      <td>1467681</td>\n",
       "      <td>22</td>\n",
       "    </tr>\n",
       "    <tr>\n",
       "      <th>1</th>\n",
       "      <td>2</td>\n",
       "      <td>2</td>\n",
       "      <td>29531</td>\n",
       "      <td>Sepatu</td>\n",
       "      <td>1406077331494</td>\n",
       "      <td>1545735761270</td>\n",
       "      <td>1269337</td>\n",
       "      <td>41</td>\n",
       "    </tr>\n",
       "    <tr>\n",
       "      <th>2</th>\n",
       "      <td>3</td>\n",
       "      <td>3</td>\n",
       "      <td>141526</td>\n",
       "      <td>Tas</td>\n",
       "      <td>1493349147000</td>\n",
       "      <td>1548322802000</td>\n",
       "      <td>310915</td>\n",
       "      <td>30</td>\n",
       "    </tr>\n",
       "    <tr>\n",
       "      <th>3</th>\n",
       "      <td>4</td>\n",
       "      <td>4</td>\n",
       "      <td>141526</td>\n",
       "      <td>Jaket</td>\n",
       "      <td>1493362372547</td>\n",
       "      <td>1547643603911</td>\n",
       "      <td>722632</td>\n",
       "      <td>27</td>\n",
       "    </tr>\n",
       "    <tr>\n",
       "      <th>4</th>\n",
       "      <td>5</td>\n",
       "      <td>5</td>\n",
       "      <td>37545</td>\n",
       "      <td>Sepatu</td>\n",
       "      <td>1429178498531</td>\n",
       "      <td>1542891221530</td>\n",
       "      <td>1775036</td>\n",
       "      <td>25</td>\n",
       "    </tr>\n",
       "  </tbody>\n",
       "</table>\n",
       "</div>"
      ],
      "text/plain": [
       "   no  Row_Num  Customer_ID Product  First_Transaction  Last_Transaction  \\\n",
       "0   1        1        29531   Jaket      1466304274396     1538718482608   \n",
       "1   2        2        29531  Sepatu      1406077331494     1545735761270   \n",
       "2   3        3       141526     Tas      1493349147000     1548322802000   \n",
       "3   4        4       141526   Jaket      1493362372547     1547643603911   \n",
       "4   5        5        37545  Sepatu      1429178498531     1542891221530   \n",
       "\n",
       "   Average_Transaction_Amount  Count_Transaction  \n",
       "0                     1467681                 22  \n",
       "1                     1269337                 41  \n",
       "2                      310915                 30  \n",
       "3                      722632                 27  \n",
       "4                     1775036                 25  "
      ]
     },
     "execution_count": 41,
     "metadata": {},
     "output_type": "execute_result"
    }
   ],
   "source": [
    "# Read file as dataframe\n",
    "df = pd.read_csv('https://dqlab-dataset.s3-ap-southeast-1.amazonaws.com/data_retail.csv', sep = ';')\n",
    "# Print first five rows\n",
    "df.head()"
   ]
  },
  {
   "cell_type": "code",
   "execution_count": 42,
   "metadata": {
    "colab": {
     "base_uri": "https://localhost:8080/"
    },
    "id": "U-hQKo1P_Si-",
    "outputId": "30fabff3-5e47-471e-8622-ce45081ae378"
   },
   "outputs": [
    {
     "name": "stdout",
     "output_type": "stream",
     "text": [
      "Info dataset:\n",
      "<class 'pandas.core.frame.DataFrame'>\n",
      "RangeIndex: 100000 entries, 0 to 99999\n",
      "Data columns (total 8 columns):\n",
      " #   Column                      Non-Null Count   Dtype \n",
      "---  ------                      --------------   ----- \n",
      " 0   no                          100000 non-null  int64 \n",
      " 1   Row_Num                     100000 non-null  int64 \n",
      " 2   Customer_ID                 100000 non-null  int64 \n",
      " 3   Product                     100000 non-null  object\n",
      " 4   First_Transaction           100000 non-null  int64 \n",
      " 5   Last_Transaction            100000 non-null  int64 \n",
      " 6   Average_Transaction_Amount  100000 non-null  int64 \n",
      " 7   Count_Transaction           100000 non-null  int64 \n",
      "dtypes: int64(7), object(1)\n",
      "memory usage: 6.1+ MB\n"
     ]
    }
   ],
   "source": [
    "print('Info dataset:')\n",
    "df.info()"
   ]
  },
  {
   "cell_type": "markdown",
   "metadata": {
    "id": "zQv5oBkiDW6E"
   },
   "source": [
    "### Data Wrangling"
   ]
  },
  {
   "cell_type": "code",
   "execution_count": 43,
   "metadata": {
    "colab": {
     "base_uri": "https://localhost:8080/",
     "height": 204
    },
    "id": "jpCpi3V__dPd",
    "outputId": "de577839-6973-48ae-a5f9-2ea5fb1239d2"
   },
   "outputs": [
    {
     "data": {
      "text/html": [
       "<div>\n",
       "<style scoped>\n",
       "    .dataframe tbody tr th:only-of-type {\n",
       "        vertical-align: middle;\n",
       "    }\n",
       "\n",
       "    .dataframe tbody tr th {\n",
       "        vertical-align: top;\n",
       "    }\n",
       "\n",
       "    .dataframe thead th {\n",
       "        text-align: right;\n",
       "    }\n",
       "</style>\n",
       "<table border=\"1\" class=\"dataframe\">\n",
       "  <thead>\n",
       "    <tr style=\"text-align: right;\">\n",
       "      <th></th>\n",
       "      <th>First_Transaction</th>\n",
       "      <th>Last_Transaction</th>\n",
       "    </tr>\n",
       "  </thead>\n",
       "  <tbody>\n",
       "    <tr>\n",
       "      <th>0</th>\n",
       "      <td>2016-06-19 02:44:34.395999908</td>\n",
       "      <td>2018-10-05 05:48:02.608000040</td>\n",
       "    </tr>\n",
       "    <tr>\n",
       "      <th>1</th>\n",
       "      <td>2014-07-23 01:02:11.493999958</td>\n",
       "      <td>2018-12-25 11:02:41.269999981</td>\n",
       "    </tr>\n",
       "    <tr>\n",
       "      <th>2</th>\n",
       "      <td>2017-04-28 03:12:27.000000000</td>\n",
       "      <td>2019-01-24 09:40:02.000000000</td>\n",
       "    </tr>\n",
       "    <tr>\n",
       "      <th>3</th>\n",
       "      <td>2017-04-28 06:52:52.546999931</td>\n",
       "      <td>2019-01-16 13:00:03.911000013</td>\n",
       "    </tr>\n",
       "    <tr>\n",
       "      <th>4</th>\n",
       "      <td>2015-04-16 10:01:38.530999899</td>\n",
       "      <td>2018-11-22 12:53:41.529999970</td>\n",
       "    </tr>\n",
       "  </tbody>\n",
       "</table>\n",
       "</div>"
      ],
      "text/plain": [
       "              First_Transaction              Last_Transaction\n",
       "0 2016-06-19 02:44:34.395999908 2018-10-05 05:48:02.608000040\n",
       "1 2014-07-23 01:02:11.493999958 2018-12-25 11:02:41.269999981\n",
       "2 2017-04-28 03:12:27.000000000 2019-01-24 09:40:02.000000000\n",
       "3 2017-04-28 06:52:52.546999931 2019-01-16 13:00:03.911000013\n",
       "4 2015-04-16 10:01:38.530999899 2018-11-22 12:53:41.529999970"
      ]
     },
     "execution_count": 43,
     "metadata": {},
     "output_type": "execute_result"
    }
   ],
   "source": [
    "# Change format column First_Transaction and Last Transaction\n",
    "df['First_Transaction'] = pd.to_datetime(df['First_Transaction']/1000, unit='s', origin='1970-01-01')\n",
    "df['Last_Transaction'] = pd.to_datetime(df['Last_Transaction']/1000, unit='s', origin='1970-01-01')\n",
    "# View new format\n",
    "df[['First_Transaction','Last_Transaction']].head()"
   ]
  },
  {
   "cell_type": "code",
   "execution_count": 44,
   "metadata": {
    "colab": {
     "base_uri": "https://localhost:8080/"
    },
    "id": "uXl_A6HLAJqc",
    "outputId": "3d937c79-8f54-4f95-d02b-48ef22d49557"
   },
   "outputs": [
    {
     "name": "stdout",
     "output_type": "stream",
     "text": [
      "2019-02-01 23:57:57.286000013\n"
     ]
    }
   ],
   "source": [
    "# Check Last Transaction update\n",
    "print(max(df['Last_Transaction']))"
   ]
  },
  {
   "cell_type": "code",
   "execution_count": 45,
   "metadata": {
    "id": "iJru4s6gCGCG"
   },
   "outputs": [],
   "source": [
    "# Create new column is_Churn\n",
    "df.loc[df['Last_Transaction'] <= '2018-08-01', 'is_Churn'] = True \n",
    "df.loc[df['Last_Transaction'] > '2018-08-01', 'is_Churn'] = False "
   ]
  },
  {
   "cell_type": "code",
   "execution_count": 46,
   "metadata": {
    "id": "AXBmEwkvAm1Y"
   },
   "outputs": [],
   "source": [
    "# Remove unnecessary columns\n",
    "del df['no']\n",
    "del df['Row_Num']"
   ]
  },
  {
   "cell_type": "markdown",
   "metadata": {
    "id": "O0m8d_8BD807"
   },
   "source": [
    "### Clean Dataset"
   ]
  },
  {
   "cell_type": "code",
   "execution_count": 47,
   "metadata": {
    "colab": {
     "base_uri": "https://localhost:8080/",
     "height": 204
    },
    "id": "K6wT10UND8Rr",
    "outputId": "bd5bbb83-eae8-437e-8e3f-7d4627f0ba21"
   },
   "outputs": [
    {
     "data": {
      "text/html": [
       "<div>\n",
       "<style scoped>\n",
       "    .dataframe tbody tr th:only-of-type {\n",
       "        vertical-align: middle;\n",
       "    }\n",
       "\n",
       "    .dataframe tbody tr th {\n",
       "        vertical-align: top;\n",
       "    }\n",
       "\n",
       "    .dataframe thead th {\n",
       "        text-align: right;\n",
       "    }\n",
       "</style>\n",
       "<table border=\"1\" class=\"dataframe\">\n",
       "  <thead>\n",
       "    <tr style=\"text-align: right;\">\n",
       "      <th></th>\n",
       "      <th>Customer_ID</th>\n",
       "      <th>Product</th>\n",
       "      <th>First_Transaction</th>\n",
       "      <th>Last_Transaction</th>\n",
       "      <th>Average_Transaction_Amount</th>\n",
       "      <th>Count_Transaction</th>\n",
       "      <th>is_Churn</th>\n",
       "    </tr>\n",
       "  </thead>\n",
       "  <tbody>\n",
       "    <tr>\n",
       "      <th>0</th>\n",
       "      <td>29531</td>\n",
       "      <td>Jaket</td>\n",
       "      <td>2016-06-19 02:44:34.395999908</td>\n",
       "      <td>2018-10-05 05:48:02.608000040</td>\n",
       "      <td>1467681</td>\n",
       "      <td>22</td>\n",
       "      <td>False</td>\n",
       "    </tr>\n",
       "    <tr>\n",
       "      <th>1</th>\n",
       "      <td>29531</td>\n",
       "      <td>Sepatu</td>\n",
       "      <td>2014-07-23 01:02:11.493999958</td>\n",
       "      <td>2018-12-25 11:02:41.269999981</td>\n",
       "      <td>1269337</td>\n",
       "      <td>41</td>\n",
       "      <td>False</td>\n",
       "    </tr>\n",
       "    <tr>\n",
       "      <th>2</th>\n",
       "      <td>141526</td>\n",
       "      <td>Tas</td>\n",
       "      <td>2017-04-28 03:12:27.000000000</td>\n",
       "      <td>2019-01-24 09:40:02.000000000</td>\n",
       "      <td>310915</td>\n",
       "      <td>30</td>\n",
       "      <td>False</td>\n",
       "    </tr>\n",
       "    <tr>\n",
       "      <th>3</th>\n",
       "      <td>141526</td>\n",
       "      <td>Jaket</td>\n",
       "      <td>2017-04-28 06:52:52.546999931</td>\n",
       "      <td>2019-01-16 13:00:03.911000013</td>\n",
       "      <td>722632</td>\n",
       "      <td>27</td>\n",
       "      <td>False</td>\n",
       "    </tr>\n",
       "    <tr>\n",
       "      <th>4</th>\n",
       "      <td>37545</td>\n",
       "      <td>Sepatu</td>\n",
       "      <td>2015-04-16 10:01:38.530999899</td>\n",
       "      <td>2018-11-22 12:53:41.529999970</td>\n",
       "      <td>1775036</td>\n",
       "      <td>25</td>\n",
       "      <td>False</td>\n",
       "    </tr>\n",
       "  </tbody>\n",
       "</table>\n",
       "</div>"
      ],
      "text/plain": [
       "   Customer_ID Product             First_Transaction  \\\n",
       "0        29531   Jaket 2016-06-19 02:44:34.395999908   \n",
       "1        29531  Sepatu 2014-07-23 01:02:11.493999958   \n",
       "2       141526     Tas 2017-04-28 03:12:27.000000000   \n",
       "3       141526   Jaket 2017-04-28 06:52:52.546999931   \n",
       "4        37545  Sepatu 2015-04-16 10:01:38.530999899   \n",
       "\n",
       "               Last_Transaction  Average_Transaction_Amount  \\\n",
       "0 2018-10-05 05:48:02.608000040                     1467681   \n",
       "1 2018-12-25 11:02:41.269999981                     1269337   \n",
       "2 2019-01-24 09:40:02.000000000                      310915   \n",
       "3 2019-01-16 13:00:03.911000013                      722632   \n",
       "4 2018-11-22 12:53:41.529999970                     1775036   \n",
       "\n",
       "   Count_Transaction is_Churn  \n",
       "0                 22    False  \n",
       "1                 41    False  \n",
       "2                 30    False  \n",
       "3                 27    False  \n",
       "4                 25    False  "
      ]
     },
     "execution_count": 47,
     "metadata": {},
     "output_type": "execute_result"
    }
   ],
   "source": [
    "# View first five rows after cleaning data\n",
    "df.head()"
   ]
  },
  {
   "cell_type": "code",
   "execution_count": 48,
   "metadata": {
    "colab": {
     "base_uri": "https://localhost:8080/"
    },
    "id": "27pHBW83DqOt",
    "outputId": "0a7de5a4-4d62-4f2a-ab43-d396c6415fab"
   },
   "outputs": [
    {
     "name": "stdout",
     "output_type": "stream",
     "text": [
      "<class 'pandas.core.frame.DataFrame'>\n",
      "RangeIndex: 100000 entries, 0 to 99999\n",
      "Data columns (total 7 columns):\n",
      " #   Column                      Non-Null Count   Dtype         \n",
      "---  ------                      --------------   -----         \n",
      " 0   Customer_ID                 100000 non-null  int64         \n",
      " 1   Product                     100000 non-null  object        \n",
      " 2   First_Transaction           100000 non-null  datetime64[ns]\n",
      " 3   Last_Transaction            100000 non-null  datetime64[ns]\n",
      " 4   Average_Transaction_Amount  100000 non-null  int64         \n",
      " 5   Count_Transaction           100000 non-null  int64         \n",
      " 6   is_Churn                    100000 non-null  object        \n",
      "dtypes: datetime64[ns](2), int64(3), object(2)\n",
      "memory usage: 5.3+ MB\n"
     ]
    }
   ],
   "source": [
    "# View info dataset\n",
    "df.info()"
   ]
  },
  {
   "cell_type": "markdown",
   "metadata": {
    "id": "PSpJ9pGdDuMY"
   },
   "source": [
    "## Data Visualization"
   ]
  },
  {
   "cell_type": "markdown",
   "metadata": {
    "id": "KVvRLer9EGpf"
   },
   "source": [
    "### Customer Acquisition By Year"
   ]
  },
  {
   "cell_type": "code",
   "execution_count": 49,
   "metadata": {
    "colab": {
     "base_uri": "https://localhost:8080/"
    },
    "id": "oSy1r8FOD1_2",
    "outputId": "b5fc0e6b-831e-4dc9-bd51-4edb5445f52e"
   },
   "outputs": [
    {
     "data": {
      "text/plain": [
       "Year_First_Transaction\n",
       "2013     1007\n",
       "2014     4954\n",
       "2015    11235\n",
       "2016    17656\n",
       "2017    31828\n",
       "2018    30327\n",
       "2019     2993\n",
       "Name: Customer_ID, dtype: int64"
      ]
     },
     "execution_count": 49,
     "metadata": {},
     "output_type": "execute_result"
    }
   ],
   "source": [
    "# Create new column Year First Transaction\n",
    "df['Year_First_Transaction'] = df['First_Transaction'].dt.year\n",
    "# Create new column Last Transaction\n",
    "df['Year_Last_Transaction'] = df['Last_Transaction'].dt.year\n",
    "# Grouping Number of Customers by Year\n",
    "cust_by_year = df.groupby(['Year_First_Transaction'])['Customer_ID'].count()\n",
    "cust_by_year"
   ]
  },
  {
   "cell_type": "code",
   "execution_count": 50,
   "metadata": {
    "colab": {
     "base_uri": "https://localhost:8080/",
     "height": 435
    },
    "id": "b7BQ7IKYE3VC",
    "outputId": "479acf45-1af8-46d0-d095-38426cf7415a"
   },
   "outputs": [
    {
     "data": {
      "text/plain": [
       "Text(0, 0.5, 'Number of Customers')"
      ]
     },
     "execution_count": 50,
     "metadata": {},
     "output_type": "execute_result"
    },
    {
     "data": {
      "image/png": "[encoded data removed]",
      "text/plain": [
       "<Figure size 720x432 with 1 Axes>"
      ]
     },
     "metadata": {},
     "output_type": "display_data"
    }
   ],
   "source": [
    "# Plotting number of customers by year\n",
    "sns.barplot(x = cust_by_year.index, y = cust_by_year, palette='Set2')\n",
    "plt.title('Graph of Customer Acquisition', fontsize=15, pad=15)\n",
    "plt.xlabel('Year Transaction', fontsize=12)\n",
    "plt.ylabel('Number of Customers', fontsize=12)"
   ]
  },
  {
   "cell_type": "markdown",
   "metadata": {
    "id": "fOJtRBqMFQ0s"
   },
   "source": [
    "### Transaction by Year"
   ]
  },
  {
   "cell_type": "code",
   "execution_count": 51,
   "metadata": {
    "colab": {
     "base_uri": "https://localhost:8080/"
    },
    "id": "CB5ggqaFEOdX",
    "outputId": "ab7e9283-e753-4203-ba40-f54f58c478a8"
   },
   "outputs": [
    {
     "data": {
      "text/plain": [
       "Year_First_Transaction\n",
       "2013     23154\n",
       "2014    165494\n",
       "2015    297445\n",
       "2016    278707\n",
       "2017    299199\n",
       "2018     99989\n",
       "2019      5862\n",
       "Name: Count_Transaction, dtype: int64"
      ]
     },
     "execution_count": 51,
     "metadata": {},
     "output_type": "execute_result"
    }
   ],
   "source": [
    "# Grouping total Count Transaction by Year\n",
    "trans_by_year = df.groupby(['Year_First_Transaction'])['Count_Transaction'].sum()\n",
    "trans_by_year"
   ]
  },
  {
   "cell_type": "code",
   "execution_count": 52,
   "metadata": {
    "colab": {
     "base_uri": "https://localhost:8080/",
     "height": 435
    },
    "id": "dhadPoNWFxb0",
    "outputId": "7ec11d56-7992-43a6-e910-322ed66c1504"
   },
   "outputs": [
    {
     "data": {
      "text/plain": [
       "Text(0, 0.5, 'Total Transactions')"
      ]
     },
     "execution_count": 52,
     "metadata": {},
     "output_type": "execute_result"
    },
    {
     "data": {
      "image/png": "[encoded data removed]",
      "text/plain": [
       "<Figure size 720x432 with 1 Axes>"
      ]
     },
     "metadata": {},
     "output_type": "display_data"
    }
   ],
   "source": [
    "# Plotting total transactions by year\n",
    "sns.barplot(x = trans_by_year.index, y = trans_by_year, palette='Set2')\n",
    "plt.title('Graph of Transaction Customer', fontsize=15, pad=15)\n",
    "plt.xlabel('Year Transaction', fontsize=12)\n",
    "plt.ylabel('Total Transactions', fontsize=12)"
   ]
  },
  {
   "cell_type": "markdown",
   "metadata": {
    "id": "VvRWMjL9Gdwk"
   },
   "source": [
    "### Average Transaction Amount by Year"
   ]
  },
  {
   "cell_type": "code",
   "execution_count": 53,
   "metadata": {
    "colab": {
     "base_uri": "https://localhost:8080/"
    },
    "id": "lK7GwawcE1Cg",
    "outputId": "26b18723-c1f7-47e2-d370-8cdd9cc711eb"
   },
   "outputs": [
    {
     "data": {
      "text/html": [
       "<div>\n",
       "<style scoped>\n",
       "    .dataframe tbody tr th:only-of-type {\n",
       "        vertical-align: middle;\n",
       "    }\n",
       "\n",
       "    .dataframe tbody tr th {\n",
       "        vertical-align: top;\n",
       "    }\n",
       "\n",
       "    .dataframe thead th {\n",
       "        text-align: right;\n",
       "    }\n",
       "</style>\n",
       "<table border=\"1\" class=\"dataframe\">\n",
       "  <thead>\n",
       "    <tr style=\"text-align: right;\">\n",
       "      <th></th>\n",
       "      <th>Product</th>\n",
       "      <th>Year_First_Transaction</th>\n",
       "      <th>Average_Transaction_Amount</th>\n",
       "    </tr>\n",
       "  </thead>\n",
       "  <tbody>\n",
       "    <tr>\n",
       "      <th>0</th>\n",
       "      <td>Baju</td>\n",
       "      <td>2017</td>\n",
       "      <td>1.490890e+06</td>\n",
       "    </tr>\n",
       "    <tr>\n",
       "      <th>1</th>\n",
       "      <td>Baju</td>\n",
       "      <td>2018</td>\n",
       "      <td>1.570201e+06</td>\n",
       "    </tr>\n",
       "    <tr>\n",
       "      <th>2</th>\n",
       "      <td>Baju</td>\n",
       "      <td>2019</td>\n",
       "      <td>1.383645e+06</td>\n",
       "    </tr>\n",
       "    <tr>\n",
       "      <th>3</th>\n",
       "      <td>Jaket</td>\n",
       "      <td>2014</td>\n",
       "      <td>1.467937e+06</td>\n",
       "    </tr>\n",
       "    <tr>\n",
       "      <th>4</th>\n",
       "      <td>Jaket</td>\n",
       "      <td>2015</td>\n",
       "      <td>1.296265e+06</td>\n",
       "    </tr>\n",
       "    <tr>\n",
       "      <th>5</th>\n",
       "      <td>Jaket</td>\n",
       "      <td>2016</td>\n",
       "      <td>1.317344e+06</td>\n",
       "    </tr>\n",
       "    <tr>\n",
       "      <th>6</th>\n",
       "      <td>Jaket</td>\n",
       "      <td>2017</td>\n",
       "      <td>1.369034e+06</td>\n",
       "    </tr>\n",
       "    <tr>\n",
       "      <th>7</th>\n",
       "      <td>Jaket</td>\n",
       "      <td>2018</td>\n",
       "      <td>1.419074e+06</td>\n",
       "    </tr>\n",
       "    <tr>\n",
       "      <th>8</th>\n",
       "      <td>Jaket</td>\n",
       "      <td>2019</td>\n",
       "      <td>1.447536e+06</td>\n",
       "    </tr>\n",
       "    <tr>\n",
       "      <th>9</th>\n",
       "      <td>Sepatu</td>\n",
       "      <td>2013</td>\n",
       "      <td>1.396499e+06</td>\n",
       "    </tr>\n",
       "    <tr>\n",
       "      <th>10</th>\n",
       "      <td>Sepatu</td>\n",
       "      <td>2014</td>\n",
       "      <td>1.427063e+06</td>\n",
       "    </tr>\n",
       "    <tr>\n",
       "      <th>11</th>\n",
       "      <td>Sepatu</td>\n",
       "      <td>2015</td>\n",
       "      <td>1.428235e+06</td>\n",
       "    </tr>\n",
       "    <tr>\n",
       "      <th>12</th>\n",
       "      <td>Sepatu</td>\n",
       "      <td>2016</td>\n",
       "      <td>1.425938e+06</td>\n",
       "    </tr>\n",
       "    <tr>\n",
       "      <th>13</th>\n",
       "      <td>Sepatu</td>\n",
       "      <td>2017</td>\n",
       "      <td>1.407275e+06</td>\n",
       "    </tr>\n",
       "    <tr>\n",
       "      <th>14</th>\n",
       "      <td>Sepatu</td>\n",
       "      <td>2018</td>\n",
       "      <td>1.346824e+06</td>\n",
       "    </tr>\n",
       "    <tr>\n",
       "      <th>15</th>\n",
       "      <td>Sepatu</td>\n",
       "      <td>2019</td>\n",
       "      <td>1.338180e+06</td>\n",
       "    </tr>\n",
       "    <tr>\n",
       "      <th>16</th>\n",
       "      <td>Tas</td>\n",
       "      <td>2017</td>\n",
       "      <td>1.109583e+06</td>\n",
       "    </tr>\n",
       "    <tr>\n",
       "      <th>17</th>\n",
       "      <td>Tas</td>\n",
       "      <td>2018</td>\n",
       "      <td>1.337614e+06</td>\n",
       "    </tr>\n",
       "    <tr>\n",
       "      <th>18</th>\n",
       "      <td>Tas</td>\n",
       "      <td>2019</td>\n",
       "      <td>1.287529e+06</td>\n",
       "    </tr>\n",
       "  </tbody>\n",
       "</table>\n",
       "</div>"
      ],
      "text/plain": [
       "   Product  Year_First_Transaction  Average_Transaction_Amount\n",
       "0     Baju                    2017                1.490890e+06\n",
       "1     Baju                    2018                1.570201e+06\n",
       "2     Baju                    2019                1.383645e+06\n",
       "3    Jaket                    2014                1.467937e+06\n",
       "4    Jaket                    2015                1.296265e+06\n",
       "5    Jaket                    2016                1.317344e+06\n",
       "6    Jaket                    2017                1.369034e+06\n",
       "7    Jaket                    2018                1.419074e+06\n",
       "8    Jaket                    2019                1.447536e+06\n",
       "9   Sepatu                    2013                1.396499e+06\n",
       "10  Sepatu                    2014                1.427063e+06\n",
       "11  Sepatu                    2015                1.428235e+06\n",
       "12  Sepatu                    2016                1.425938e+06\n",
       "13  Sepatu                    2017                1.407275e+06\n",
       "14  Sepatu                    2018                1.346824e+06\n",
       "15  Sepatu                    2019                1.338180e+06\n",
       "16     Tas                    2017                1.109583e+06\n",
       "17     Tas                    2018                1.337614e+06\n",
       "18     Tas                    2019                1.287529e+06"
      ]
     },
     "execution_count": 53,
     "metadata": {},
     "output_type": "execute_result"
    }
   ],
   "source": [
    "# Grouping Average Transaction Amount by Product and Year\n",
    "avg_trans_amount = df.groupby(['Product', 'Year_First_Transaction'])['Average_Transaction_Amount'].mean().reset_index()\n",
    "avg_trans_amount"
   ]
  },
  {
   "cell_type": "code",
   "execution_count": 54,
   "metadata": {
    "colab": {
     "base_uri": "https://localhost:8080/"
    },
    "id": "bQU3U814HQJc",
    "outputId": "73c4bdd6-9c80-4368-a632-d07d0aa3a4b2"
   },
   "outputs": [
    {
     "data": {
      "text/plain": [
       "Text(0, 0.5, 'Average Transaction Amount')"
      ]
     },
     "execution_count": 54,
     "metadata": {},
     "output_type": "execute_result"
    },
    {
     "data": {
      "image/png": "[encoded data removed]",
      "text/plain": [
       "<Figure size 720x432 with 1 Axes>"
      ]
     },
     "metadata": {},
     "output_type": "display_data"
    }
   ],
   "source": [
    "# Plotting by Product\n",
    "sns.pointplot(data = avg_trans_amount, x='Year_First_Transaction', \n",
    "              y='Average_Transaction_Amount', hue='Product')\n",
    "plt.legend(loc='upper right', bbox_to_anchor=(1.15, 1.01))\n",
    "plt.title('Average Transaction Amount by Year', fontsize=15, pad=15)\n",
    "plt.xlabel('Year Transaction', fontsize=12)\n",
    "plt.ylabel('Average Transaction Amount', fontsize=12)"
   ]
  },
  {
   "cell_type": "markdown",
   "metadata": {
    "id": "N7CclMwnI8T8"
   },
   "source": [
    "### Churn Customer Proportion"
   ]
  },
  {
   "cell_type": "code",
   "execution_count": 55,
   "metadata": {
    "colab": {
     "base_uri": "https://localhost:8080/",
     "height": 142
    },
    "id": "plqgPOQOHlg2",
    "outputId": "f348d65d-3458-40c5-cc17-5a03d79079d2"
   },
   "outputs": [
    {
     "data": {
      "text/html": [
       "<div>\n",
       "<style scoped>\n",
       "    .dataframe tbody tr th:only-of-type {\n",
       "        vertical-align: middle;\n",
       "    }\n",
       "\n",
       "    .dataframe tbody tr th {\n",
       "        vertical-align: top;\n",
       "    }\n",
       "\n",
       "    .dataframe thead th {\n",
       "        text-align: right;\n",
       "    }\n",
       "</style>\n",
       "<table border=\"1\" class=\"dataframe\">\n",
       "  <thead>\n",
       "    <tr style=\"text-align: right;\">\n",
       "      <th>Product</th>\n",
       "      <th>Baju</th>\n",
       "      <th>Jaket</th>\n",
       "      <th>Sepatu</th>\n",
       "      <th>Tas</th>\n",
       "    </tr>\n",
       "    <tr>\n",
       "      <th>is_Churn</th>\n",
       "      <th></th>\n",
       "      <th></th>\n",
       "      <th></th>\n",
       "      <th></th>\n",
       "    </tr>\n",
       "  </thead>\n",
       "  <tbody>\n",
       "    <tr>\n",
       "      <th>False</th>\n",
       "      <td>1268</td>\n",
       "      <td>11123</td>\n",
       "      <td>16064</td>\n",
       "      <td>4976</td>\n",
       "    </tr>\n",
       "    <tr>\n",
       "      <th>True</th>\n",
       "      <td>2144</td>\n",
       "      <td>23827</td>\n",
       "      <td>33090</td>\n",
       "      <td>7508</td>\n",
       "    </tr>\n",
       "  </tbody>\n",
       "</table>\n",
       "</div>"
      ],
      "text/plain": [
       "Product   Baju  Jaket  Sepatu   Tas\n",
       "is_Churn                           \n",
       "False     1268  11123   16064  4976\n",
       "True      2144  23827   33090  7508"
      ]
     },
     "execution_count": 55,
     "metadata": {},
     "output_type": "execute_result"
    }
   ],
   "source": [
    "# Create pivot table\n",
    "churn_prop = df.pivot_table(index='is_Churn', \n",
    "                        columns='Product',\n",
    "                        values='Customer_ID', \n",
    "                        aggfunc='count', \n",
    "                        fill_value=0)\n",
    "churn_prop"
   ]
  },
  {
   "cell_type": "code",
   "execution_count": 56,
   "metadata": {
    "colab": {
     "base_uri": "https://localhost:8080/",
     "height": 443
    },
    "id": "K27E_F4xILMB",
    "outputId": "78be93a4-6140-4f40-9cec-8f3f0f8026f0"
   },
   "outputs": [
    {
     "data": {
      "image/png": "[encoded data removed]",
      "text/plain": [
       "<Figure size 720x432 with 4 Axes>"
      ]
     },
     "metadata": {},
     "output_type": "display_data"
    }
   ],
   "source": [
    "# Plotting churn proportion using pie plot\n",
    "churn_prop.plot.pie(subplots=True, layout=(2,2), autopct='%1.0f%%', \n",
    "                    legend=False, title='Churn Proportion by Product')\n",
    "plt.tight_layout()"
   ]
  },
  {
   "cell_type": "markdown",
   "metadata": {
    "id": "WT24zxcQjUyW"
   },
   "source": [
    "### Distribution Count Transaction"
   ]
  },
  {
   "cell_type": "code",
   "execution_count": 57,
   "metadata": {
    "id": "wnF4JbvWjeSe"
   },
   "outputs": [],
   "source": [
    "# Create function distribution count transaction\n",
    "def distribution_count_trans(row):\n",
    "    if row['Count_Transaction'] == 1:\n",
    "        val = '1'\n",
    "    elif (row['Count_Transaction'] > 1 and row['Count_Transaction'] <= 3):\n",
    "        val ='2 - 3'\n",
    "    elif (row['Count_Transaction'] > 3 and row['Count_Transaction'] <= 6):\n",
    "        val ='4 - 6'\n",
    "    elif (row['Count_Transaction'] > 6 and row['Count_Transaction'] <= 10):\n",
    "        val ='7 - 10'\n",
    "    else:\n",
    "        val ='> 10'\n",
    "    return val"
   ]
  },
  {
   "cell_type": "code",
   "execution_count": 58,
   "metadata": {
    "colab": {
     "base_uri": "https://localhost:8080/"
    },
    "id": "3Jsvoquu-61x",
    "outputId": "6a6f7538-e476-487d-a6c7-a86e5ccf9abb"
   },
   "outputs": [
    {
     "data": {
      "text/plain": [
       "Count_Transaction_Group\n",
       "1         49255\n",
       "2 - 3     14272\n",
       "4 - 6     12126\n",
       "7 - 10     2890\n",
       "> 10      21457\n",
       "Name: Customer_ID, dtype: int64"
      ]
     },
     "execution_count": 58,
     "metadata": {},
     "output_type": "execute_result"
    }
   ],
   "source": [
    "# Apply function to new column\n",
    "df['Count_Transaction_Group'] = df.apply(distribution_count_trans, axis=1)\n",
    "# Grouping Number of Customers by Count Transaaction Group\n",
    "count_trans_group = df.groupby(['Count_Transaction_Group'])['Customer_ID'].count()\n",
    "count_trans_group"
   ]
  },
  {
   "cell_type": "code",
   "execution_count": 59,
   "metadata": {
    "colab": {
     "base_uri": "https://localhost:8080/"
    },
    "id": "E3rlQB3flINJ",
    "outputId": "fe08a750-0d1a-4ce3-b441-e35ddc7cbab6"
   },
   "outputs": [
    {
     "data": {
      "text/plain": [
       "Text(0, 0.5, 'Number of Customers')"
      ]
     },
     "execution_count": 59,
     "metadata": {},
     "output_type": "execute_result"
    },
    {
     "data": {
      "image/png": "[encoded data removed]",
      "text/plain": [
       "<Figure size 720x432 with 1 Axes>"
      ]
     },
     "metadata": {},
     "output_type": "display_data"
    }
   ],
   "source": [
    "# Plotting count transaction group \n",
    "sns.barplot(x = count_trans_group.index, y = count_trans_group, palette='Set2')\n",
    "plt.title('Customer Distribution by Count Transaction Group', fontsize=15, pad=15)\n",
    "plt.xlabel('Transaction Group', fontsize=12)\n",
    "plt.ylabel('Number of Customers', fontsize=12)"
   ]
  },
  {
   "cell_type": "markdown",
   "metadata": {
    "id": "-XV94RLCopbH"
   },
   "source": [
    "### Distribution Average Transaction"
   ]
  },
  {
   "cell_type": "code",
   "execution_count": 60,
   "metadata": {
    "id": "IUagNsOGlt6L"
   },
   "outputs": [],
   "source": [
    "# Create function distribution average transaction\n",
    "def distribution_avg_trans(row):\n",
    "    if (row['Average_Transaction_Amount'] >= 100000 and row['Average_Transaction_Amount'] <= 200000):\n",
    "        val ='100.000 - 250.000'\n",
    "    elif (row['Average_Transaction_Amount'] > 250000 and row['Average_Transaction_Amount'] <= 500000):\n",
    "        val ='>250.000 - 500.000'\n",
    "    elif (row['Average_Transaction_Amount'] > 500000 and row['Average_Transaction_Amount'] <= 750000):\n",
    "        val ='>500.000 - 750.000'\n",
    "    elif (row['Average_Transaction_Amount'] > 750000 and row['Average_Transaction_Amount'] <= 1000000):\n",
    "        val ='>750.000 - 1.000.000'\n",
    "    elif (row['Average_Transaction_Amount'] > 1000000 and row['Average_Transaction_Amount'] <= 2500000):\n",
    "        val ='>1.000.000 - 2.500.000'\n",
    "    elif (row['Average_Transaction_Amount'] > 2500000 and row['Average_Transaction_Amount'] <= 5000000):\n",
    "        val ='>2.500.000 - 5.000.000'\n",
    "    elif (row['Average_Transaction_Amount'] > 5000000 and row['Average_Transaction_Amount'] <= 10000000):\n",
    "        val ='>5.000.000 - 10.000.000'\n",
    "    else:\n",
    "        val ='>10.000.000'\n",
    "    return val"
   ]
  },
  {
   "cell_type": "code",
   "execution_count": 61,
   "metadata": {
    "colab": {
     "base_uri": "https://localhost:8080/"
    },
    "id": "Z97waDlCo90t",
    "outputId": "14166fc0-1545-4164-a59d-7d96279e7c3a"
   },
   "outputs": [
    {
     "data": {
      "text/plain": [
       "Average_Transaction_Amount_Group\n",
       "100.000 - 250.000           4912\n",
       ">1.000.000 - 2.500.000     32819\n",
       ">10.000.000                 3227\n",
       ">2.500.000 - 5.000.000      9027\n",
       ">250.000 - 500.000         18857\n",
       ">5.000.000 - 10.000.000     3689\n",
       ">500.000 - 750.000         15171\n",
       ">750.000 - 1.000.000       12298\n",
       "Name: Customer_ID, dtype: int64"
      ]
     },
     "execution_count": 61,
     "metadata": {},
     "output_type": "execute_result"
    }
   ],
   "source": [
    "# Apply function to new column\n",
    "df['Average_Transaction_Amount_Group'] = df.apply(distribution_avg_trans, axis=1)\n",
    "# Grouping Number of Customers by Average Transaction Amount Group\n",
    "avg_trans_group = df.groupby(['Average_Transaction_Amount_Group'])['Customer_ID'].count()\n",
    "avg_trans_group"
   ]
  },
  {
   "cell_type": "code",
   "execution_count": 62,
   "metadata": {
    "colab": {
     "base_uri": "https://localhost:8080/"
    },
    "id": "DNaFoqYkpYnH",
    "outputId": "1949401d-4319-48dc-d246-01176262060b"
   },
   "outputs": [
    {
     "data": {
      "text/plain": [
       "Text(0, 0.5, 'Average Transaction Amount Group')"
      ]
     },
     "execution_count": 62,
     "metadata": {},
     "output_type": "execute_result"
    },
    {
     "data": {
      "image/png": "[encoded data removed]",
      "text/plain": [
       "<Figure size 720x432 with 1 Axes>"
      ]
     },
     "metadata": {},
     "output_type": "display_data"
    }
   ],
   "source": [
    "# Plotting average transaction amount group\n",
    "orders = ['100.000 - 250.000', '>250.000 - 500.000', '>500.000 - 750.000',\n",
    "          '>750.000 - 1.000.000', '>1.000.000 - 2.500.000', '>2.500.000 - 5.000.000',\n",
    "          '>5.000.000 - 10.000.000', '>10.000.000']\n",
    "sns.barplot(x = avg_trans_group, y = avg_trans_group.index, order=orders, palette='Set2')\n",
    "plt.title('Customer Distribution by Average Transaction Amount Group', fontsize=15, pad=15)\n",
    "plt.xlabel('Number of Customers', fontsize=12)\n",
    "plt.ylabel('Average Transaction Amount Group', fontsize=12)"
   ]
  },
  {
   "cell_type": "markdown",
   "metadata": {
    "id": "XosflK7etLwd"
   },
   "source": [
    "## Data Modelling"
   ]
  },
  {
   "cell_type": "markdown",
   "metadata": {
    "id": "Confn6d0tTJw"
   },
   "source": [
    "### Feature Engineering"
   ]
  },
  {
   "cell_type": "code",
   "execution_count": 63,
   "metadata": {
    "colab": {
     "base_uri": "https://localhost:8080/"
    },
    "id": "EPqoI2XqG3VO",
    "outputId": "07b87bdb-6b1f-4b0c-be1e-e173d66f6cb6"
   },
   "outputs": [
    {
     "data": {
      "text/plain": [
       "Customer_ID                                  int64\n",
       "Product                                     object\n",
       "First_Transaction                   datetime64[ns]\n",
       "Last_Transaction                    datetime64[ns]\n",
       "Average_Transaction_Amount                   int64\n",
       "Count_Transaction                            int64\n",
       "is_Churn                                    object\n",
       "Year_First_Transaction                       int64\n",
       "Year_Last_Transaction                        int64\n",
       "Count_Transaction_Group                     object\n",
       "Average_Transaction_Amount_Group            object\n",
       "dtype: object"
      ]
     },
     "execution_count": 63,
     "metadata": {},
     "output_type": "execute_result"
    }
   ],
   "source": [
    "# Check datatypes\n",
    "df.dtypes"
   ]
  },
  {
   "cell_type": "code",
   "execution_count": 64,
   "metadata": {
    "id": "xOc9aEwcMHpK"
   },
   "outputs": [],
   "source": [
    "# Copy old dataframe\n",
    "df_model = df.copy()\n",
    "# Create new column from First Transaction\n",
    "df_model['Month_First'] = df_model['First_Transaction'].dt.month\n",
    "df_model['Day_First'] = df_model['First_Transaction'].dt.day\n",
    "# Create new column from Last Transaction\n",
    "df_model['Month_Last'] = df_model['Last_Transaction'].dt.month\n",
    "df_model['Day_Last'] = df_model['Last_Transaction'].dt.day"
   ]
  },
  {
   "cell_type": "code",
   "execution_count": 65,
   "metadata": {
    "id": "NNta38nVHir7"
   },
   "outputs": [],
   "source": [
    "# Encoding categorical data\n",
    "df_model['Count_Transaction_Group'].replace({'1':0, '2 - 3':1, '4 - 6':2, '7 - 10':3,\n",
    "                                             '> 10':4}, inplace=True)\n",
    "amounts = {'100.000 - 250.000':0, '>250.000 - 500.000':1, '>500.000 - 750.000':2,\n",
    "          '>750.000 - 1.000.000':3, '>1.000.000 - 2.500.000':4, '>2.500.000 - 5.000.000':5,\n",
    "          '>5.000.000 - 10.000.000':6, '>10.000.000':7}\n",
    "df_model['Average_Transaction_Amount_Group'].replace(amounts, inplace=True)\n",
    "df_model['is_Churn'].replace({False:0, True:1}, inplace=True)"
   ]
  },
  {
   "cell_type": "code",
   "execution_count": 66,
   "metadata": {
    "colab": {
     "base_uri": "https://localhost:8080/",
     "height": 224
    },
    "id": "MS-efynUQkqE",
    "outputId": "65cbed43-264e-47d0-ef9e-758cf34cff6b"
   },
   "outputs": [
    {
     "data": {
      "text/html": [
       "<div>\n",
       "<style scoped>\n",
       "    .dataframe tbody tr th:only-of-type {\n",
       "        vertical-align: middle;\n",
       "    }\n",
       "\n",
       "    .dataframe tbody tr th {\n",
       "        vertical-align: top;\n",
       "    }\n",
       "\n",
       "    .dataframe thead th {\n",
       "        text-align: right;\n",
       "    }\n",
       "</style>\n",
       "<table border=\"1\" class=\"dataframe\">\n",
       "  <thead>\n",
       "    <tr style=\"text-align: right;\">\n",
       "      <th></th>\n",
       "      <th>Customer_ID</th>\n",
       "      <th>is_Churn</th>\n",
       "      <th>Year_First_Transaction</th>\n",
       "      <th>Year_Last_Transaction</th>\n",
       "      <th>Count_Transaction_Group</th>\n",
       "      <th>Average_Transaction_Amount_Group</th>\n",
       "      <th>Month_First</th>\n",
       "      <th>Day_First</th>\n",
       "      <th>Month_Last</th>\n",
       "      <th>Day_Last</th>\n",
       "      <th>Baju</th>\n",
       "      <th>Jaket</th>\n",
       "      <th>Sepatu</th>\n",
       "      <th>Tas</th>\n",
       "    </tr>\n",
       "  </thead>\n",
       "  <tbody>\n",
       "    <tr>\n",
       "      <th>0</th>\n",
       "      <td>29531</td>\n",
       "      <td>0</td>\n",
       "      <td>2016</td>\n",
       "      <td>2018</td>\n",
       "      <td>4</td>\n",
       "      <td>4</td>\n",
       "      <td>6</td>\n",
       "      <td>19</td>\n",
       "      <td>10</td>\n",
       "      <td>5</td>\n",
       "      <td>0</td>\n",
       "      <td>1</td>\n",
       "      <td>0</td>\n",
       "      <td>0</td>\n",
       "    </tr>\n",
       "    <tr>\n",
       "      <th>1</th>\n",
       "      <td>29531</td>\n",
       "      <td>0</td>\n",
       "      <td>2014</td>\n",
       "      <td>2018</td>\n",
       "      <td>4</td>\n",
       "      <td>4</td>\n",
       "      <td>7</td>\n",
       "      <td>23</td>\n",
       "      <td>12</td>\n",
       "      <td>25</td>\n",
       "      <td>0</td>\n",
       "      <td>0</td>\n",
       "      <td>1</td>\n",
       "      <td>0</td>\n",
       "    </tr>\n",
       "    <tr>\n",
       "      <th>2</th>\n",
       "      <td>141526</td>\n",
       "      <td>0</td>\n",
       "      <td>2017</td>\n",
       "      <td>2019</td>\n",
       "      <td>4</td>\n",
       "      <td>1</td>\n",
       "      <td>4</td>\n",
       "      <td>28</td>\n",
       "      <td>1</td>\n",
       "      <td>24</td>\n",
       "      <td>0</td>\n",
       "      <td>0</td>\n",
       "      <td>0</td>\n",
       "      <td>1</td>\n",
       "    </tr>\n",
       "    <tr>\n",
       "      <th>3</th>\n",
       "      <td>141526</td>\n",
       "      <td>0</td>\n",
       "      <td>2017</td>\n",
       "      <td>2019</td>\n",
       "      <td>4</td>\n",
       "      <td>2</td>\n",
       "      <td>4</td>\n",
       "      <td>28</td>\n",
       "      <td>1</td>\n",
       "      <td>16</td>\n",
       "      <td>0</td>\n",
       "      <td>1</td>\n",
       "      <td>0</td>\n",
       "      <td>0</td>\n",
       "    </tr>\n",
       "    <tr>\n",
       "      <th>4</th>\n",
       "      <td>37545</td>\n",
       "      <td>0</td>\n",
       "      <td>2015</td>\n",
       "      <td>2018</td>\n",
       "      <td>4</td>\n",
       "      <td>4</td>\n",
       "      <td>4</td>\n",
       "      <td>16</td>\n",
       "      <td>11</td>\n",
       "      <td>22</td>\n",
       "      <td>0</td>\n",
       "      <td>0</td>\n",
       "      <td>1</td>\n",
       "      <td>0</td>\n",
       "    </tr>\n",
       "  </tbody>\n",
       "</table>\n",
       "</div>"
      ],
      "text/plain": [
       "   Customer_ID  is_Churn  Year_First_Transaction  Year_Last_Transaction  \\\n",
       "0        29531         0                    2016                   2018   \n",
       "1        29531         0                    2014                   2018   \n",
       "2       141526         0                    2017                   2019   \n",
       "3       141526         0                    2017                   2019   \n",
       "4        37545         0                    2015                   2018   \n",
       "\n",
       "   Count_Transaction_Group  Average_Transaction_Amount_Group  Month_First  \\\n",
       "0                        4                                 4            6   \n",
       "1                        4                                 4            7   \n",
       "2                        4                                 1            4   \n",
       "3                        4                                 2            4   \n",
       "4                        4                                 4            4   \n",
       "\n",
       "   Day_First  Month_Last  Day_Last  Baju  Jaket  Sepatu  Tas  \n",
       "0         19          10         5     0      1       0    0  \n",
       "1         23          12        25     0      0       1    0  \n",
       "2         28           1        24     0      0       0    1  \n",
       "3         28           1        16     0      1       0    0  \n",
       "4         16          11        22     0      0       1    0  "
      ]
     },
     "execution_count": 66,
     "metadata": {},
     "output_type": "execute_result"
    }
   ],
   "source": [
    "# Perform one hot encoding\n",
    "df_encode = pd.get_dummies(df_model['Product'])\n",
    "# Selected columns\n",
    "remove_cols = ['Product', 'First_Transaction', 'Last_Transaction', 'Count_Transaction', 'Average_Transaction_Amount']\n",
    "df_fix = df_model.drop(remove_cols, axis=1)\n",
    "# Concatenate dataframe\n",
    "df_model_fix = pd.concat([df_fix, df_encode], axis=1)\n",
    "\n",
    "# Check new first five rows\n",
    "df_model_fix.head()"
   ]
  },
  {
   "cell_type": "code",
   "execution_count": 67,
   "metadata": {
    "colab": {
     "base_uri": "https://localhost:8080/"
    },
    "id": "nKTwiwUsUAqD",
    "outputId": "a9c29dd4-88c7-4fe4-ad6f-fb4dcff38992"
   },
   "outputs": [
    {
     "data": {
      "text/plain": [
       "Customer_ID                         int64\n",
       "is_Churn                            int64\n",
       "Year_First_Transaction              int64\n",
       "Year_Last_Transaction               int64\n",
       "Count_Transaction_Group             int64\n",
       "Average_Transaction_Amount_Group    int64\n",
       "Month_First                         int64\n",
       "Day_First                           int64\n",
       "Month_Last                          int64\n",
       "Day_Last                            int64\n",
       "Baju                                uint8\n",
       "Jaket                               uint8\n",
       "Sepatu                              uint8\n",
       "Tas                                 uint8\n",
       "dtype: object"
      ]
     },
     "execution_count": 67,
     "metadata": {},
     "output_type": "execute_result"
    }
   ],
   "source": [
    "# Check new data type\n",
    "df_model_fix.dtypes"
   ]
  },
  {
   "cell_type": "code",
   "execution_count": 68,
   "metadata": {
    "colab": {
     "base_uri": "https://localhost:8080/"
    },
    "id": "BzXaHTTBxIs7",
    "outputId": "7b48fb97-d61a-41c8-8e18-20a7cff1eb6e"
   },
   "outputs": [
    {
     "data": {
      "text/plain": [
       "1    0.66569\n",
       "0    0.33431\n",
       "Name: is_Churn, dtype: float64"
      ]
     },
     "execution_count": 68,
     "metadata": {},
     "output_type": "execute_result"
    }
   ],
   "source": [
    "# View Total Proportion Churn\n",
    "df_model_fix['is_Churn'].value_counts(normalize=True)"
   ]
  },
  {
   "cell_type": "markdown",
   "metadata": {
    "id": "S_i3LXbnkDjo"
   },
   "source": [
    "### Split Train and Test Data"
   ]
  },
  {
   "cell_type": "code",
   "execution_count": 69,
   "metadata": {
    "id": "-70bCdo1vUgf"
   },
   "outputs": [],
   "source": [
    "# Choose feature columns\n",
    "X = df_model_fix.drop(['Customer_ID','is_Churn'], axis=1)\n",
    "# Choose target columns\n",
    "y = df_model_fix['is_Churn']\n",
    "\n",
    "# Split train and test set\n",
    "X_train, X_test, y_train, y_test = train_test_split(X, y, test_size=0.25, random_state=42)"
   ]
  },
  {
   "cell_type": "markdown",
   "metadata": {
    "id": "biRCZiGokLNm"
   },
   "source": [
    "### Model Selection"
   ]
  },
  {
   "cell_type": "code",
   "execution_count": 70,
   "metadata": {
    "id": "njj7uzD7wH3U"
   },
   "outputs": [],
   "source": [
    "# Create function choose model\n",
    "def choose_model(model_name):\n",
    "  # Train model\n",
    "  model = model_name.fit(X_train, y_train)\n",
    "  # Scoring Model\n",
    "  model_score = model.score(X_test, y_test)\n",
    "  print(f'Score Accuracy is {round(model_score*100, 2)}%')\n",
    "  # Validating Model\n",
    "  valid_score = np.mean(cross_val_score(model_name, X_train, y_train, cv=5))\n",
    "  print(f'Score Validation is {round(valid_score*100, 2)}%')"
   ]
  },
  {
   "cell_type": "code",
   "execution_count": 71,
   "metadata": {
    "colab": {
     "base_uri": "https://localhost:8080/"
    },
    "id": "fev0sdxcYBer",
    "outputId": "ecfcb41e-6192-4e30-e9cd-f4896cba5a2f"
   },
   "outputs": [
    {
     "name": "stdout",
     "output_type": "stream",
     "text": [
      "Score Accuracy is 76.2%\n",
      "Score Validation is 76.27%\n"
     ]
    }
   ],
   "source": [
    "# Choose model\n",
    "choose_model(LogisticRegression())"
   ]
  },
  {
   "cell_type": "code",
   "execution_count": 72,
   "metadata": {
    "colab": {
     "base_uri": "https://localhost:8080/"
    },
    "id": "_7AXOEEeYpwA",
    "outputId": "3cc52a0a-2ab4-4a1e-c866-80574cee6772"
   },
   "outputs": [
    {
     "name": "stdout",
     "output_type": "stream",
     "text": [
      "[08:50:19] WARNING: C:/Users/Administrator/workspace/xgboost-win64_release_1.3.0/src/learner.cc:1061: Starting in XGBoost 1.3.0, the default evaluation metric used with the objective 'binary:logistic' was changed from 'error' to 'logloss'. Explicitly set eval_metric if you'd like to restore the old behavior.\n",
      "Score Accuracy is 100.0%\n",
      "[08:50:23] WARNING: C:/Users/Administrator/workspace/xgboost-win64_release_1.3.0/src/learner.cc:1061: Starting in XGBoost 1.3.0, the default evaluation metric used with the objective 'binary:logistic' was changed from 'error' to 'logloss'. Explicitly set eval_metric if you'd like to restore the old behavior.\n",
      "[08:50:26] WARNING: C:/Users/Administrator/workspace/xgboost-win64_release_1.3.0/src/learner.cc:1061: Starting in XGBoost 1.3.0, the default evaluation metric used with the objective 'binary:logistic' was changed from 'error' to 'logloss'. Explicitly set eval_metric if you'd like to restore the old behavior.\n",
      "[08:50:29] WARNING: C:/Users/Administrator/workspace/xgboost-win64_release_1.3.0/src/learner.cc:1061: Starting in XGBoost 1.3.0, the default evaluation metric used with the objective 'binary:logistic' was changed from 'error' to 'logloss'. Explicitly set eval_metric if you'd like to restore the old behavior.\n",
      "[08:50:33] WARNING: C:/Users/Administrator/workspace/xgboost-win64_release_1.3.0/src/learner.cc:1061: Starting in XGBoost 1.3.0, the default evaluation metric used with the objective 'binary:logistic' was changed from 'error' to 'logloss'. Explicitly set eval_metric if you'd like to restore the old behavior.\n",
      "[08:50:36] WARNING: C:/Users/Administrator/workspace/xgboost-win64_release_1.3.0/src/learner.cc:1061: Starting in XGBoost 1.3.0, the default evaluation metric used with the objective 'binary:logistic' was changed from 'error' to 'logloss'. Explicitly set eval_metric if you'd like to restore the old behavior.\n",
      "Score Validation is 100.0%\n"
     ]
    }
   ],
   "source": [
    "# Choose model\n",
    "choose_model(xgb.XGBClassifier())"
   ]
  },
  {
   "cell_type": "markdown",
   "metadata": {
    "id": "miikPbRgkaTH"
   },
   "source": [
    "### Model Evaluation"
   ]
  },
  {
   "cell_type": "code",
   "execution_count": 73,
   "metadata": {
    "id": "Rc0QMn4LwcfO"
   },
   "outputs": [],
   "source": [
    "# Function for plot confusion matrix and classification report\n",
    "def check_matrix_and_reports(model_plot):\n",
    "    # Churn Prediction \n",
    "    train = model_plot.fit(X_train, y_train)\n",
    "    preds = train.predict(X_test)\n",
    "\n",
    "    # Create confusion matrix\n",
    "    class_names = ['Not Churn', 'Churn'] \n",
    "    cnf_matrix = confusion_matrix(y_test, preds)\n",
    "    # Use subplotting\n",
    "    fig, ax = plt.subplots(figsize=(8,4))\n",
    "    tick_marks = np.arange(len(class_names))\n",
    "    plt.xticks(tick_marks, class_names)\n",
    "    plt.yticks(tick_marks, class_names)\n",
    "    # Plotting using heatmap\n",
    "    sns.heatmap(pd.DataFrame(cnf_matrix), annot=True, cmap='YlGnBu', fmt='g')\n",
    "    plt.title('Confusion matrix', fontsize=15, pad=15)\n",
    "    plt.xlabel('Actual')\n",
    "    plt.ylabel('Predicted')\n",
    "\n",
    "    # Create classification report\n",
    "    reports = classification_report(y_test, preds, target_names=class_names)\n",
    "    print('Classification Report\\n', reports)"
   ]
  },
  {
   "cell_type": "code",
   "execution_count": 74,
   "metadata": {
    "colab": {
     "base_uri": "https://localhost:8080/",
     "height": 476
    },
    "id": "lFxzsVByw1oi",
    "outputId": "3fbf5c65-a6e3-438f-8c83-8116898bc757"
   },
   "outputs": [
    {
     "name": "stdout",
     "output_type": "stream",
     "text": [
      "Classification Report\n",
      "               precision    recall  f1-score   support\n",
      "\n",
      "   Not Churn       0.72      0.48      0.57      8399\n",
      "       Churn       0.77      0.91      0.83     16601\n",
      "\n",
      "    accuracy                           0.76     25000\n",
      "   macro avg       0.75      0.69      0.70     25000\n",
      "weighted avg       0.76      0.76      0.75     25000\n",
      "\n"
     ]
    },
    {
     "data": {
      "image/png": "[encoded data removed]",
      "text/plain": [
       "<Figure size 576x288 with 2 Axes>"
      ]
     },
     "metadata": {},
     "output_type": "display_data"
    }
   ],
   "source": [
    "# Apply function with Logistic Regression\n",
    "check_matrix_and_reports(LogisticRegression())"
   ]
  },
  {
   "cell_type": "code",
   "execution_count": null,
   "metadata": {
    "colab": {
     "base_uri": "https://localhost:8080/",
     "height": 476
    },
    "id": "s3_u3N4rxnFG",
    "outputId": "cc99a6a4-267f-478a-b38a-cbfe9aa0fc36"
   },
   "outputs": [
    {
     "name": "stdout",
     "output_type": "stream",
     "text": [
      "[08:50:43] WARNING: C:/Users/Administrator/workspace/xgboost-win64_release_1.3.0/src/learner.cc:1061: Starting in XGBoost 1.3.0, the default evaluation metric used with the objective 'binary:logistic' was changed from 'error' to 'logloss'. Explicitly set eval_metric if you'd like to restore the old behavior.\n"
     ]
    }
   ],
   "source": [
    "# Apply function with XGBoost Classifier\n",
    "check_matrix_and_reports(xgb.XGBClassifier())"
   ]
  },
  {
   "cell_type": "code",
   "execution_count": null,
   "metadata": {
    "colab": {
     "base_uri": "https://localhost:8080/",
     "height": 421
    },
    "id": "3hhCIZgidAX-",
    "outputId": "eeb1ed64-5a9e-4069-d6c6-2712f6ece1fb"
   },
   "outputs": [],
   "source": [
    "# Predict probability of churn\n",
    "model1 = LogisticRegression().fit(X_train, y_train)\n",
    "log_pred = model1.predict_proba(X_test)[:,1]\n",
    "model2 = xgb.XGBClassifier().fit(X_train, y_train)\n",
    "xgb_pred = model2.predict_proba(X_test)[:,1]\n",
    "\n",
    "# ROC Chart components\n",
    "fallout_log, sensitivity_log, thresholds_log = roc_curve(y_test, log_pred)\n",
    "fallout_xgb, sensitivity_xgb, thresholds_xgb = roc_curve(y_test, xgb_pred)\n",
    "\n",
    "# ROC Chart with both\n",
    "plt.plot(fallout_log, sensitivity_log, color = 'blue', label='%s' % 'Logistic Regression')\n",
    "plt.plot(fallout_xgb, sensitivity_xgb, color = 'green', label='%s' % 'XGBoost')\n",
    "plt.plot([0, 1], [0, 1], linestyle='--', label='%s' % 'Random Prediction')\n",
    "plt.title(\"ROC Chart on Probability of Churn\")\n",
    "plt.xlabel('Fall-out')\n",
    "plt.ylabel('Sensitivity')\n",
    "plt.legend()"
   ]
  },
  {
   "cell_type": "code",
   "execution_count": null,
   "metadata": {
    "colab": {
     "base_uri": "https://localhost:8080/"
    },
    "id": "ve8_UuE7cKcI",
    "outputId": "2ab38143-b4b8-4094-8b42-62a334745c19"
   },
   "outputs": [],
   "source": [
    "# Print the logistic regression AUC with formatting\n",
    "print(\"Logistic Regression AUC Score: %0.2f\" % roc_auc_score(y_test, log_pred))\n",
    "\n",
    "# Print the xgboost classifier AUC with formatting\n",
    "print(\"XGBoost Classifier AUC Score: %0.2f\" % roc_auc_score(y_test, xgb_pred))"
   ]
  }
 ],
 "metadata": {
  "colab": {
   "name": "Churn-Analysis.ipynb",
   "provenance": []
  },
  "kernelspec": {
   "display_name": "Python 3",
   "language": "python",
   "name": "python3"
  },
  "language_info": {
   "codemirror_mode": {
    "name": "ipython",
    "version": 3
   },
   "file_extension": ".py",
   "mimetype": "text/x-python",
   "name": "python",
   "nbconvert_exporter": "python",
   "pygments_lexer": "ipython3",
   "version": "3.8.5"
  }
 },
 "nbformat": 4,
 "nbformat_minor": 1
}
