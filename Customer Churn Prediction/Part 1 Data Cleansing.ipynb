{
 "cells": [
  {
   "cell_type": "markdown",
   "metadata": {},
   "source": [
    "# **Customer Churn Prediction**"
   ]
  },
  {
   "cell_type": "markdown",
   "metadata": {
    "id": "kaJOcE94oeT6"
   },
   "source": [
    "**DQLab Telco** merupakan perusahaan Telco yang sudah mempunyai banyak cabang tersebar dimana-mana. Sejak berdiri pada tahun 2019, DQLab Telco konsisten untuk memperhatikan customer experience nya sehingga tidak akan di tinggalkan pelanggan. Walaupun baru berumur 1 tahun lebih sedikit, DQLab Telco sudah mempunyai banyak pelanggan yang beralih langganan ke kompetitior. Pihak management ingin mengurangi jumlah pelanggan yang beralih (**churn**) dengan menggunakan machine learning.\n",
    "\n",
    "Pada Part 1 ini akan dilakukan **data wrangling (data cleansing)** sebelum dilakukan pemodelan agar model prediksi menjadi lebih akurat dengan kualitas data yang lebih terjamin."
   ]
  },
  {
   "cell_type": "markdown",
   "metadata": {
    "id": "hsBLXrrKe97y"
   },
   "source": [
    "## **Dataset**"
   ]
  },
  {
   "cell_type": "markdown",
   "metadata": {
    "id": "2syUpe2gqWZa"
   },
   "source": [
    "Dataset yang digunakan berasal dari (https://dqlab-dataset.s3-ap-southeast-1.amazonaws.com/dqlab_telco.csv). Asumsikan dataset ini merupakan data yang terakhir diperbarui oleh DQLab Telco pada bulan Juni 2020.\n",
    "\n",
    "Untuk detail datanya adalah sebagai berikut:\n",
    "\n",
    "* UpdatedAt : Periode of Data taken\n",
    "* customerID : Customer ID\n",
    "* gender : Whether the customer is a male or a female (Male, Female)\n",
    "* SeniorCitizen : Whether the customer is a senior citizen or not (1, 0)\n",
    "* Partner : Whether the customer has a partner or not (Yes, No)\n",
    "* Dependents : Whether the customer has dependents or not (Yes, No)\n",
    "* tenure : Number of months the customer has stayed with the company\n",
    "* PhoneService : Whether the customer has a phone service or not (Yes, No)\n",
    "* MultipleLines : Whether the customer has multiple lines or not (Yes, No, No phone service)\n",
    "* InternetService : Customer’s internet service provider (DSL, Fiber optic, No)\n",
    "* OnlineSecurity : Whether the customer has online security or not (Yes, No, No internet service)\n",
    "* OnlineBackup : Whether the customer has online backup or not (Yes, No, No internet service)\n",
    "* DeviceProtection : Whether the customer has device protection or not (Yes, No, No internet service)\n",
    "* TechSupport : Whether the customer has tech support or not (Yes, No, No internet service)\n",
    "* StreamingTV : Whether the customer has streaming TV or not (Yes, No, No internet service)\n",
    "* StreamingMovies : Whether the customer has streaming movies or not (Yes, No, No internet service)\n",
    "* Contract : The contract term of the customer (Month-to-month, One year, Two year)\n",
    "* PaperlessBilling : Whether the customer has paperless billing or not (Yes, No)\n",
    "* PaymentMethod : The customer’s payment method (Electronic check, Mailed check, Bank transfer (automatic), Credit card (automatic))\n",
    "* MonthlyCharges : The amount charged to the customer monthly\n",
    "* TotalCharges : The total amount charged to the customer\n",
    "* Churn : Whether the customer churned or not (Yes or No)\n",
    "\n"
   ]
  },
  {
   "cell_type": "markdown",
   "metadata": {
    "id": "ZEhpS8DQezpg"
   },
   "source": [
    "## **Import Library**"
   ]
  },
  {
   "cell_type": "markdown",
   "metadata": {
    "id": "tMrFwQzVflAU"
   },
   "source": [
    "Library yang digunakan dalam pembahasan ini meliputi:\n",
    "- **pandas** untuk analisis dan manipulasi data\n",
    "- **matplotlib** untuk visualisasi data"
   ]
  },
  {
   "cell_type": "code",
   "execution_count": 1,
   "metadata": {
    "id": "KZYSSKM4du0q"
   },
   "outputs": [],
   "source": [
    "# Load library \n",
    "import pandas as pd\n",
    "import matplotlib.pyplot as plt\n",
    "%matplotlib inline\n",
    "\n",
    "pd.options.display.max_columns = 50"
   ]
  },
  {
   "cell_type": "markdown",
   "metadata": {
    "id": "J2b3FiGMhUPl"
   },
   "source": [
    "## **Data Cleansing**"
   ]
  },
  {
   "cell_type": "markdown",
   "metadata": {
    "id": "ksI3JC5Ipx3X"
   },
   "source": [
    "Langkah yang akan dilakukan antara lain,\n",
    "1. Mencari ID pelanggan (nomor telepon) yang valid.\n",
    "2. Mengatasi data-data yang masih kosong atau *missing values*.\n",
    "3. Mengatasi nilai-nilai pencilan (outlier) pada variabel numerik.\n",
    "4. Menstandarisasi nilai dari variabel kategorik."
   ]
  },
  {
   "cell_type": "code",
   "execution_count": 2,
   "metadata": {
    "colab": {
     "base_uri": "https://localhost:8080/",
     "height": 296
    },
    "id": "9IAzOAvtmCx2",
    "outputId": "c7b9c18f-d522-40ea-da54-906a3483eea0"
   },
   "outputs": [
    {
     "data": {
      "text/html": [
       "<div>\n",
       "<style scoped>\n",
       "    .dataframe tbody tr th:only-of-type {\n",
       "        vertical-align: middle;\n",
       "    }\n",
       "\n",
       "    .dataframe tbody tr th {\n",
       "        vertical-align: top;\n",
       "    }\n",
       "\n",
       "    .dataframe thead th {\n",
       "        text-align: right;\n",
       "    }\n",
       "</style>\n",
       "<table border=\"1\" class=\"dataframe\">\n",
       "  <thead>\n",
       "    <tr style=\"text-align: right;\">\n",
       "      <th></th>\n",
       "      <th>UpdatedAt</th>\n",
       "      <th>customerID</th>\n",
       "      <th>gender</th>\n",
       "      <th>SeniorCitizen</th>\n",
       "      <th>Partner</th>\n",
       "      <th>Dependents</th>\n",
       "      <th>tenure</th>\n",
       "      <th>PhoneService</th>\n",
       "      <th>MultipleLines</th>\n",
       "      <th>InternetService</th>\n",
       "      <th>OnlineSecurity</th>\n",
       "      <th>OnlineBackup</th>\n",
       "      <th>DeviceProtection</th>\n",
       "      <th>TechSupport</th>\n",
       "      <th>StreamingTV</th>\n",
       "      <th>StreamingMovies</th>\n",
       "      <th>Contract</th>\n",
       "      <th>PaperlessBilling</th>\n",
       "      <th>PaymentMethod</th>\n",
       "      <th>MonthlyCharges</th>\n",
       "      <th>TotalCharges</th>\n",
       "      <th>Churn</th>\n",
       "    </tr>\n",
       "  </thead>\n",
       "  <tbody>\n",
       "    <tr>\n",
       "      <th>0</th>\n",
       "      <td>202006</td>\n",
       "      <td>45759018157</td>\n",
       "      <td>Female</td>\n",
       "      <td>0</td>\n",
       "      <td>Yes</td>\n",
       "      <td>No</td>\n",
       "      <td>1.0</td>\n",
       "      <td>No</td>\n",
       "      <td>No phone service</td>\n",
       "      <td>DSL</td>\n",
       "      <td>No</td>\n",
       "      <td>Yes</td>\n",
       "      <td>No</td>\n",
       "      <td>No</td>\n",
       "      <td>No</td>\n",
       "      <td>No</td>\n",
       "      <td>Month-to-month</td>\n",
       "      <td>Yes</td>\n",
       "      <td>Electronic check</td>\n",
       "      <td>29.85</td>\n",
       "      <td>29.85</td>\n",
       "      <td>No</td>\n",
       "    </tr>\n",
       "    <tr>\n",
       "      <th>1</th>\n",
       "      <td>202006</td>\n",
       "      <td>45557574145</td>\n",
       "      <td>Male</td>\n",
       "      <td>0</td>\n",
       "      <td>No</td>\n",
       "      <td>No</td>\n",
       "      <td>34.0</td>\n",
       "      <td>Yes</td>\n",
       "      <td>No</td>\n",
       "      <td>DSL</td>\n",
       "      <td>Yes</td>\n",
       "      <td>No</td>\n",
       "      <td>Yes</td>\n",
       "      <td>No</td>\n",
       "      <td>No</td>\n",
       "      <td>No</td>\n",
       "      <td>One year</td>\n",
       "      <td>No</td>\n",
       "      <td>Mailed check</td>\n",
       "      <td>56.95</td>\n",
       "      <td>1889.50</td>\n",
       "      <td>No</td>\n",
       "    </tr>\n",
       "    <tr>\n",
       "      <th>2</th>\n",
       "      <td>202006</td>\n",
       "      <td>45366876421</td>\n",
       "      <td>Male</td>\n",
       "      <td>0</td>\n",
       "      <td>No</td>\n",
       "      <td>No</td>\n",
       "      <td>2.0</td>\n",
       "      <td>Yes</td>\n",
       "      <td>No</td>\n",
       "      <td>DSL</td>\n",
       "      <td>Yes</td>\n",
       "      <td>Yes</td>\n",
       "      <td>No</td>\n",
       "      <td>No</td>\n",
       "      <td>No</td>\n",
       "      <td>No</td>\n",
       "      <td>Month-to-month</td>\n",
       "      <td>Yes</td>\n",
       "      <td>Mailed check</td>\n",
       "      <td>53.85</td>\n",
       "      <td>108.15</td>\n",
       "      <td>Yes</td>\n",
       "    </tr>\n",
       "    <tr>\n",
       "      <th>3</th>\n",
       "      <td>202006</td>\n",
       "      <td>45779536532</td>\n",
       "      <td>Male</td>\n",
       "      <td>0</td>\n",
       "      <td>No</td>\n",
       "      <td>No</td>\n",
       "      <td>45.0</td>\n",
       "      <td>No</td>\n",
       "      <td>No phone service</td>\n",
       "      <td>DSL</td>\n",
       "      <td>Yes</td>\n",
       "      <td>No</td>\n",
       "      <td>Yes</td>\n",
       "      <td>Yes</td>\n",
       "      <td>No</td>\n",
       "      <td>No</td>\n",
       "      <td>One year</td>\n",
       "      <td>No</td>\n",
       "      <td>Bank transfer (automatic)</td>\n",
       "      <td>42.30</td>\n",
       "      <td>1840.75</td>\n",
       "      <td>No</td>\n",
       "    </tr>\n",
       "    <tr>\n",
       "      <th>4</th>\n",
       "      <td>202006</td>\n",
       "      <td>45923787906</td>\n",
       "      <td>Female</td>\n",
       "      <td>0</td>\n",
       "      <td>No</td>\n",
       "      <td>No</td>\n",
       "      <td>2.0</td>\n",
       "      <td>Yes</td>\n",
       "      <td>No</td>\n",
       "      <td>Fiber optic</td>\n",
       "      <td>No</td>\n",
       "      <td>No</td>\n",
       "      <td>No</td>\n",
       "      <td>No</td>\n",
       "      <td>No</td>\n",
       "      <td>No</td>\n",
       "      <td>Month-to-month</td>\n",
       "      <td>Yes</td>\n",
       "      <td>Electronic check</td>\n",
       "      <td>70.70</td>\n",
       "      <td>151.65</td>\n",
       "      <td>Yes</td>\n",
       "    </tr>\n",
       "  </tbody>\n",
       "</table>\n",
       "</div>"
      ],
      "text/plain": [
       "   UpdatedAt   customerID  gender  SeniorCitizen Partner Dependents  tenure  \\\n",
       "0     202006  45759018157  Female              0     Yes         No     1.0   \n",
       "1     202006  45557574145    Male              0      No         No    34.0   \n",
       "2     202006  45366876421    Male              0      No         No     2.0   \n",
       "3     202006  45779536532    Male              0      No         No    45.0   \n",
       "4     202006  45923787906  Female              0      No         No     2.0   \n",
       "\n",
       "  PhoneService     MultipleLines InternetService OnlineSecurity OnlineBackup  \\\n",
       "0           No  No phone service             DSL             No          Yes   \n",
       "1          Yes                No             DSL            Yes           No   \n",
       "2          Yes                No             DSL            Yes          Yes   \n",
       "3           No  No phone service             DSL            Yes           No   \n",
       "4          Yes                No     Fiber optic             No           No   \n",
       "\n",
       "  DeviceProtection TechSupport StreamingTV StreamingMovies        Contract  \\\n",
       "0               No          No          No              No  Month-to-month   \n",
       "1              Yes          No          No              No        One year   \n",
       "2               No          No          No              No  Month-to-month   \n",
       "3              Yes         Yes          No              No        One year   \n",
       "4               No          No          No              No  Month-to-month   \n",
       "\n",
       "  PaperlessBilling              PaymentMethod  MonthlyCharges  TotalCharges  \\\n",
       "0              Yes           Electronic check           29.85         29.85   \n",
       "1               No               Mailed check           56.95       1889.50   \n",
       "2              Yes               Mailed check           53.85        108.15   \n",
       "3               No  Bank transfer (automatic)           42.30       1840.75   \n",
       "4              Yes           Electronic check           70.70        151.65   \n",
       "\n",
       "  Churn  \n",
       "0    No  \n",
       "1    No  \n",
       "2   Yes  \n",
       "3    No  \n",
       "4   Yes  "
      ]
     },
     "execution_count": 2,
     "metadata": {},
     "output_type": "execute_result"
    }
   ],
   "source": [
    "# Load dataset\n",
    "df_load = pd.read_csv('data/data_dqlab_telco.csv')\n",
    "\n",
    "# Print first five rows\n",
    "df_load.head(5)"
   ]
  },
  {
   "cell_type": "code",
   "execution_count": 3,
   "metadata": {
    "colab": {
     "base_uri": "https://localhost:8080/"
    },
    "id": "WGYwh9Ylj2fy",
    "outputId": "8e6ad21f-43d2-4961-9330-0f1a29f4914f"
   },
   "outputs": [
    {
     "name": "stdout",
     "output_type": "stream",
     "text": [
      "Dataset ini memiliki 7113 baris dan 22 kolom\n",
      "Jumlah ID Pelanggan yang unik adalah 7017\n"
     ]
    }
   ],
   "source": [
    "# Print number of rows and number of columns\n",
    "print(f'Dataset ini memiliki {df_load.shape[0]} baris dan {df_load.shape[1]} kolom')\n",
    "\n",
    "# Print number of unique Customer ID\n",
    "print('Jumlah ID Pelanggan yang unik adalah',df_load.customerID.nunique())"
   ]
  },
  {
   "cell_type": "code",
   "execution_count": 4,
   "metadata": {},
   "outputs": [
    {
     "name": "stdout",
     "output_type": "stream",
     "text": [
      "<class 'pandas.core.frame.DataFrame'>\n",
      "RangeIndex: 7113 entries, 0 to 7112\n",
      "Data columns (total 22 columns):\n",
      " #   Column            Non-Null Count  Dtype  \n",
      "---  ------            --------------  -----  \n",
      " 0   UpdatedAt         7113 non-null   int64  \n",
      " 1   customerID        7113 non-null   object \n",
      " 2   gender            7113 non-null   object \n",
      " 3   SeniorCitizen     7113 non-null   int64  \n",
      " 4   Partner           7113 non-null   object \n",
      " 5   Dependents        7113 non-null   object \n",
      " 6   tenure            7014 non-null   float64\n",
      " 7   PhoneService      7113 non-null   object \n",
      " 8   MultipleLines     7113 non-null   object \n",
      " 9   InternetService   7113 non-null   object \n",
      " 10  OnlineSecurity    7113 non-null   object \n",
      " 11  OnlineBackup      7113 non-null   object \n",
      " 12  DeviceProtection  7113 non-null   object \n",
      " 13  TechSupport       7113 non-null   object \n",
      " 14  StreamingTV       7113 non-null   object \n",
      " 15  StreamingMovies   7113 non-null   object \n",
      " 16  Contract          7113 non-null   object \n",
      " 17  PaperlessBilling  7113 non-null   object \n",
      " 18  PaymentMethod     7113 non-null   object \n",
      " 19  MonthlyCharges    7087 non-null   float64\n",
      " 20  TotalCharges      7098 non-null   float64\n",
      " 21  Churn             7070 non-null   object \n",
      "dtypes: float64(3), int64(2), object(17)\n",
      "memory usage: 1.2+ MB\n"
     ]
    }
   ],
   "source": [
    "# View info data\n",
    "df_load.info()"
   ]
  },
  {
   "cell_type": "markdown",
   "metadata": {
    "id": "RezNlIMDkoW5"
   },
   "source": [
    "### **Mencari Validitas ID Pelanggan**"
   ]
  },
  {
   "cell_type": "markdown",
   "metadata": {
    "id": "A7_d_BS-t9yP"
   },
   "source": [
    "**Memfilter ID Pelanggan dengan Format Tertentu**\n",
    "\n",
    "Format ID Pelanggan (Phone Number) yang benar, yaitu:\n",
    "\n",
    "* Panjang karakter adalah 11-12.\n",
    "* Terdiri dari angka saja, tidak diperbolehkan ada karakter selain angka.\n",
    "* Diawali dengan angka 45 pada 2 digit pertama.\n",
    "\n"
   ]
  },
  {
   "cell_type": "code",
   "execution_count": 5,
   "metadata": {
    "colab": {
     "base_uri": "https://localhost:8080/"
    },
    "id": "9hpekqfXrpf7",
    "outputId": "e67e90d4-35f1-4faf-f66a-7b9130877a9a"
   },
   "outputs": [
    {
     "name": "stdout",
     "output_type": "stream",
     "text": [
      "Hasil jumlah ID Pelanggan yang terfilter adalah 7006\n"
     ]
    }
   ],
   "source": [
    "# Create new column to check validity Customer ID\n",
    "df_load['valid_id'] = df_load['customerID'].astype('str').str.match(r'(45\\d{9,10})')\n",
    "\n",
    "# Get rows of valid data\n",
    "df_load = (df_load[df_load['valid_id'] == True]).drop('valid_id', axis=1)\n",
    "\n",
    "# Total valid Customer ID with filtering\n",
    "print('Hasil jumlah ID Pelanggan yang terfilter adalah', df_load['customerID'].count())"
   ]
  },
  {
   "cell_type": "markdown",
   "metadata": {
    "id": "6HDwIyQbx63-"
   },
   "source": [
    "**Memfilter Duplikasi ID pelanggan**\n",
    "\n",
    "Memastikan bahwa tidak ada ID pelanggan yang duplikat. Biasanya duplikasi ID number ini tipenya:\n",
    "\n",
    "* Duplikasi dikarenakan inserting melebihi satu kali dengan nilai yang sama tiap kolomnya.\n",
    "* Duplikasi dikarenakan inserting beda periode pengambilan data.\n",
    "\n"
   ]
  },
  {
   "cell_type": "code",
   "execution_count": 6,
   "metadata": {
    "colab": {
     "base_uri": "https://localhost:8080/"
    },
    "id": "AZ_QXLnTz-91",
    "outputId": "e549b075-1b25-4206-e299-46c2c9bdacec"
   },
   "outputs": [
    {
     "name": "stdout",
     "output_type": "stream",
     "text": [
      "Hasil jumlah ID Pelanggan yang sudah dihilangkan duplikasinya adalah 6993\n"
     ]
    }
   ],
   "source": [
    "# Drop duplicate rows\n",
    "df_load.drop_duplicates()\n",
    "\n",
    "# Drop duplicate rows Customer ID by periods\n",
    "df_load = df_load.sort_values('UpdatedAt', ascending=False).drop_duplicates(['customerID'])\n",
    "\n",
    "# Total valid Customer ID without duplicated\n",
    "print('Hasil jumlah ID Pelanggan yang sudah dihilangkan duplikasinya adalah',df_load['customerID'].count())"
   ]
  },
  {
   "cell_type": "markdown",
   "metadata": {
    "id": "-Bt752E33pNN"
   },
   "source": [
    "**Validitas dari ID Pelanggan** sangat diperlukan untuk memastikan bahwa data yang kita ambil sudah benar. Berdasarkan hasil tersbut, terdapat perbedaan jumlah ID Pelanggan dari data pertama kali di load sampai dengan hasil validitas. Dimana jumlah baris data ketika pertama kali di load ada sebanyak 7113 baris, lalu setelah di cek validitas dari ID pelanggan, maka terfilter 6993 baris data."
   ]
  },
  {
   "cell_type": "markdown",
   "metadata": {
    "id": "wTZ82DF_qNXY"
   },
   "source": [
    "### **Mengecek dan Menangani Missing Values**\n"
   ]
  },
  {
   "cell_type": "markdown",
   "metadata": {
    "id": "-4wUQ1duq3bx"
   },
   "source": [
    "Karena tujuan project ini adalah memprediksi **churn** maka data pada kolom `Churn` tidak boleh kosong. Jika ditemukan missing values maka akan dilakukan penghapusan data."
   ]
  },
  {
   "cell_type": "code",
   "execution_count": 7,
   "metadata": {
    "colab": {
     "base_uri": "https://localhost:8080/"
    },
    "id": "42Bm6NVOHVLm",
    "outputId": "0cfd8731-29dc-4bba-fd17-dc74fb0c223c"
   },
   "outputs": [
    {
     "name": "stdout",
     "output_type": "stream",
     "text": [
      "Total missing values data dari kolom Churn 43\n",
      "Total data setelah penghapusan missing values adalah 6950\n"
     ]
    }
   ],
   "source": [
    "# Missing values kolom Churn\n",
    "print('Total missing values data dari kolom Churn', df_load['Churn'].isnull().sum())\n",
    "\n",
    "# Dropping all Rows with spesific column\n",
    "df_load.dropna(subset=['Churn'], inplace=True)\n",
    "print('Total data setelah penghapusan missing values adalah', df_load.shape[0])"
   ]
  },
  {
   "cell_type": "markdown",
   "metadata": {
    "id": "xmcFpiMUdttT"
   },
   "source": [
    "**Mengatasi Missing Values dengan Pengisian Nilai tertentu**\n",
    "\n",
    "Selain dengan menghapus rows dari data, menangani missing values bisa menggunakan nilai tertentu. Pada project ini diasumsikan data modeller meminta pengisian missing values dengan kriteria berikut:\n",
    "\n",
    "  *  Tenure pihak data modeller meminta setiap rows yang memiliki missing values untuk Lama berlangganan di isi dengan 11.\n",
    "  *  Variable yang bersifat numerik selain Tenure di isi dengan median dari masing-masing variable tersebut.\n",
    "\n",
    "\n"
   ]
  },
  {
   "cell_type": "code",
   "execution_count": 8,
   "metadata": {
    "colab": {
     "base_uri": "https://localhost:8080/"
    },
    "id": "ZYFgyGz0PaHx",
    "outputId": "8a9485f3-d174-4067-cff6-10a2f5ae6c6f"
   },
   "outputs": [
    {
     "name": "stdout",
     "output_type": "stream",
     "text": [
      "Status Missing Values : True\n",
      "\n",
      "Jumlah Missing Values masing-masing kolom, adalah:\n",
      "tenure              99\n",
      "MonthlyCharges      26\n",
      "TotalCharges        15\n",
      "Churn                0\n",
      "InternetService      0\n",
      "customerID           0\n",
      "gender               0\n",
      "SeniorCitizen        0\n",
      "Partner              0\n",
      "Dependents           0\n",
      "PhoneService         0\n",
      "MultipleLines        0\n",
      "OnlineSecurity       0\n",
      "OnlineBackup         0\n",
      "DeviceProtection     0\n",
      "TechSupport          0\n",
      "StreamingTV          0\n",
      "StreamingMovies      0\n",
      "Contract             0\n",
      "PaperlessBilling     0\n",
      "PaymentMethod        0\n",
      "UpdatedAt            0\n",
      "dtype: int64\n",
      "\n",
      "Jumlah Missing Values setelah di imputer datanya, adalah:\n",
      "Churn               0\n",
      "TotalCharges        0\n",
      "customerID          0\n",
      "gender              0\n",
      "SeniorCitizen       0\n",
      "Partner             0\n",
      "Dependents          0\n",
      "tenure              0\n",
      "PhoneService        0\n",
      "MultipleLines       0\n",
      "InternetService     0\n",
      "OnlineSecurity      0\n",
      "OnlineBackup        0\n",
      "DeviceProtection    0\n",
      "TechSupport         0\n",
      "StreamingTV         0\n",
      "StreamingMovies     0\n",
      "Contract            0\n",
      "PaperlessBilling    0\n",
      "PaymentMethod       0\n",
      "MonthlyCharges      0\n",
      "UpdatedAt           0\n",
      "dtype: int64\n"
     ]
    }
   ],
   "source": [
    "print('Status Missing Values :',df_load.isnull().values.any())\n",
    "print('\\nJumlah Missing Values masing-masing kolom, adalah:')\n",
    "print(df_load.isnull().sum().sort_values(ascending=False))\n",
    "\n",
    "# Handling missing values Tenure fill with 11\n",
    "df_load['tenure'].fillna(11, inplace=True)\n",
    "\n",
    "# Handling missing values num vars (except Tenure)\n",
    "for col_name in list(['MonthlyCharges','TotalCharges']):\n",
    "    median_data = df_load[col_name].median()\n",
    "    df_load[col_name].fillna(median_data, inplace=True)\n",
    "\n",
    "print('\\nJumlah Missing Values setelah di imputer datanya, adalah:')\n",
    "print(df_load.isnull().sum().sort_values(ascending=False))"
   ]
  },
  {
   "cell_type": "markdown",
   "metadata": {
    "id": "AK9s6eh_eHs6"
   },
   "source": [
    "Setelah kita analisis lebih lanjut, ternyata masih ada *missing values* dari data yang kita sudah cek validitas ID Pelanggannya. Missing values terdapat pada kolom **Churn, tenure, MonthlyCharges, dan TotalCharges**. Setelah kita tangani dengan cara penghapusan rows dan pengisian rows dengan nilai tertentu, terbukti sudah tidak ada missing values lagi pada data, terbukti dari jumlah missing values masing-masing variable yang bernilai 0. Selanjutnya kita akan melakukan penanganan pencilan (outlier)"
   ]
  },
  {
   "cell_type": "markdown",
   "metadata": {
    "id": "UYAfdAis3KdU"
   },
   "source": [
    "### **Mendeteksi dan Mengatasi Outlier**"
   ]
  },
  {
   "cell_type": "markdown",
   "metadata": {
    "id": "nyPwFm2seaGg"
   },
   "source": [
    "**Mendeteksi Outlier**\n",
    "\n",
    "Mendeteksi pencilan dari suatu nilai (outlier) salah satunya bisa menggunakan **Box Plot**. **Box Plot** merupakan ringkasan distribusi sampel yang disajikan secara grafis yang bisa menggambarkan bentuk distribusi data (skewness), ukuran tendensi sentral dan ukuran penyebaran (keragaman) data pengamatan. Outlier biasanya ditemukan pada variabel bertipe numerik.\n"
   ]
  },
  {
   "cell_type": "code",
   "execution_count": 9,
   "metadata": {
    "colab": {
     "base_uri": "https://localhost:8080/",
     "height": 596
    },
    "id": "2eLCxrY0fZxQ",
    "outputId": "83925606-62d7-4081-b388-f7a7e686f23b"
   },
   "outputs": [
    {
     "name": "stdout",
     "output_type": "stream",
     "text": [
      "\n",
      "Persebaran data sebelum ditangani Outlier: \n",
      "       UpdatedAt  SeniorCitizen       tenure  MonthlyCharges  TotalCharges\n",
      "count     6950.0    6950.000000  6950.000000     6950.000000   6950.000000\n",
      "mean    202006.0       0.162302    32.477266       65.783741   2305.083460\n",
      "std          0.0       0.368754    25.188910       50.457871   2578.651143\n",
      "min     202006.0       0.000000     0.000000        0.000000     19.000000\n",
      "25%     202006.0       0.000000     9.000000       36.462500    406.975000\n",
      "50%     202006.0       0.000000    29.000000       70.450000   1400.850000\n",
      "75%     202006.0       0.000000    55.000000       89.850000   3799.837500\n",
      "max     202006.0       1.000000   500.000000     2311.000000  80000.000000\n"
     ]
    },
    {
     "data": {
      "image/png": "[encoded data removed]",
      "text/plain": [
       "<Figure size 1080x432 with 3 Axes>"
      ]
     },
     "metadata": {
      "needs_background": "light"
     },
     "output_type": "display_data"
    }
   ],
   "source": [
    "print('\\nPersebaran data sebelum ditangani Outlier: ')\n",
    "print(df_load.describe())\n",
    "\n",
    "# Creating Box Plot\n",
    "fig, ax = plt.subplots(nrows=1, ncols=3)\n",
    "fig.set_size_inches(15, 6)\n",
    "ax[0].boxplot(df_load['tenure'])\n",
    "ax[0].set_xlabel('tenure')\n",
    "ax[1].boxplot(df_load['MonthlyCharges'])\n",
    "ax[1].set_xlabel('MonthlyCharges')\n",
    "ax[2].boxplot(df_load['TotalCharges'])\n",
    "ax[2].set_xlabel('TotalCharges')\n",
    "plt.show()"
   ]
  },
  {
   "cell_type": "markdown",
   "metadata": {
    "id": "DZImQHF0szww"
   },
   "source": [
    "Dari ketiga boxplot dengan variable **tenure, MonthlyCharges, dan TotalCharges** terlihat jelas terdapat adanya outlier. Hal ini bisa di identifikasi dari adanya titik titik yang berada jauh dari gambar boxplotnya. Jika kita lihat persebaran datanya dari kolom max nya juga ada nilai yang sangat tinggi sekali. Kemudian nilai outlier tersebut ditangani dengan cara merubah nilainya ke nilai Maximum & Minimum dari interquartile range (IQR)."
   ]
  },
  {
   "cell_type": "markdown",
   "metadata": {
    "id": "Yh2bJowTjToj"
   },
   "source": [
    "**Mengatasi Outlier**\n",
    "\n",
    "Setelah kita mengetahui variable mana saja yang terdapat pencilan (Outlier), selanjutnya kita akan atasi outlier dengan menggunakan **metode interquartile range (IQR)**. \n",
    "\n",
    "Tentukan:\n",
    "\n",
    "  -  Nilai Minimum dan Maximum data di tolerir\n",
    "  -  Ubah Nilai yg di luar range Minumum & Maximum ke dalam nilai Minimum dan Maximum\n"
   ]
  },
  {
   "cell_type": "code",
   "execution_count": 10,
   "metadata": {
    "colab": {
     "base_uri": "https://localhost:8080/"
    },
    "id": "ClSC8OWPkAG9",
    "outputId": "46fb6c69-b615-44fc-b55f-7d5f05aeebbe"
   },
   "outputs": [
    {
     "name": "stdout",
     "output_type": "stream",
     "text": [
      "Nilai Maximum dari masing-masing Variable adalah: \n",
      "tenure             124.00000\n",
      "MonthlyCharges     169.93125\n",
      "TotalCharges      8889.13125\n",
      "dtype: float64\n",
      "\n",
      "Nilai Minimum dari masing-masing Variable adalah: \n",
      "tenure             -60.00000\n",
      "MonthlyCharges     -43.61875\n",
      "TotalCharges     -4682.31875\n",
      "dtype: float64\n",
      "\n",
      "Persebaran data setelah ditangani Outlier: \n",
      "            tenure  MonthlyCharges  TotalCharges\n",
      "count  6950.000000     6950.000000   6950.000000\n",
      "mean     32.423165       64.992201   2286.058750\n",
      "std      24.581073       30.032040   2265.702553\n",
      "min       0.000000        0.000000     19.000000\n",
      "25%       9.000000       36.462500    406.975000\n",
      "50%      29.000000       70.450000   1400.850000\n",
      "75%      55.000000       89.850000   3799.837500\n",
      "max     124.000000      169.931250   8889.131250\n"
     ]
    }
   ],
   "source": [
    "# Handling with IQR\n",
    "Q1 = (df_load[['tenure','MonthlyCharges','TotalCharges']]).quantile(0.25)\n",
    "Q3 = (df_load[['tenure','MonthlyCharges','TotalCharges']]).quantile(0.75)\n",
    "\n",
    "IQR = Q3 - Q1\n",
    "maximum = Q3 + (1.5*IQR)\n",
    "print('Nilai Maximum dari masing-masing Variable adalah: ')\n",
    "print(maximum)\n",
    "minimum = Q1 - (1.5*IQR)\n",
    "print('\\nNilai Minimum dari masing-masing Variable adalah: ')\n",
    "print(minimum)\n",
    "\n",
    "more_than = (df_load > maximum)\n",
    "lower_than = (df_load < minimum)\n",
    "df_load = df_load.mask(more_than, maximum, axis=1)\n",
    "df_load = df_load.mask(lower_than, minimum, axis=1)\n",
    "\n",
    "print('\\nPersebaran data setelah ditangani Outlier: ')\n",
    "print(df_load[['tenure','MonthlyCharges','TotalCharges']].describe())"
   ]
  },
  {
   "cell_type": "markdown",
   "metadata": {},
   "source": [
    "Setelah di tangani outliernya, dan dilihat persebaran datanya, terlihat sudah tidak ada lagi nilai yang outlier."
   ]
  },
  {
   "cell_type": "markdown",
   "metadata": {
    "id": "wUjqLfeQ6OLM"
   },
   "source": [
    "### **Standarisasi Nilai dari Variabel Kategorikal**"
   ]
  },
  {
   "cell_type": "markdown",
   "metadata": {
    "id": "DIbpfGrbum7J"
   },
   "source": [
    "**Mengecek Nilai Tidak Standard**\n",
    "\n",
    "Selanjutnya kita akan mendeteksi apakah ada nilai-nilai dari variable kategorik yang tidak standard. Hal ini biasanya terjadi dikarenakan kesalahan input data. Perbedaan istilah menjadi salah satu faktor yang sering terjadi, untuk itu dibutuhkan standarisasi dari data yang sudah terinput.\n"
   ]
  },
  {
   "cell_type": "code",
   "execution_count": 11,
   "metadata": {
    "colab": {
     "base_uri": "https://localhost:8080/"
    },
    "id": "-ywKwGGksy3n",
    "outputId": "3bfdd3df-3769-43ef-a272-a5220c412e66"
   },
   "outputs": [
    {
     "name": "stdout",
     "output_type": "stream",
     "text": [
      "Unique Values Count Before Standardized Variable customerID\n",
      "45386549500    1\n",
      "45577435073    1\n",
      "45612256114    1\n",
      "45896795719    1\n",
      "45513613179    1\n",
      "              ..\n",
      "45996422740    1\n",
      "45740109343    1\n",
      "45954614082    1\n",
      "45795432264    1\n",
      "45077845221    1\n",
      "Name: customerID, Length: 6950, dtype: int64\n",
      "\n",
      "\n",
      "Unique Values Count Before Standardized Variable gender\n",
      "Male         3499\n",
      "Female       3431\n",
      "Wanita         14\n",
      "Laki-Laki       6\n",
      "Name: gender, dtype: int64\n",
      "\n",
      "\n",
      "Unique Values Count Before Standardized Variable Partner\n",
      "No     3591\n",
      "Yes    3359\n",
      "Name: Partner, dtype: int64\n",
      "\n",
      "\n",
      "Unique Values Count Before Standardized Variable Dependents\n",
      "No     4870\n",
      "Yes    2060\n",
      "Iya      20\n",
      "Name: Dependents, dtype: int64\n",
      "\n",
      "\n",
      "Unique Values Count Before Standardized Variable PhoneService\n",
      "Yes    6281\n",
      "No      669\n",
      "Name: PhoneService, dtype: int64\n",
      "\n",
      "\n",
      "Unique Values Count Before Standardized Variable MultipleLines\n",
      "No                  3346\n",
      "Yes                 2935\n",
      "No phone service     669\n",
      "Name: MultipleLines, dtype: int64\n",
      "\n",
      "\n",
      "Unique Values Count Before Standardized Variable InternetService\n",
      "Fiber optic    3057\n",
      "DSL            2388\n",
      "No             1505\n",
      "Name: InternetService, dtype: int64\n",
      "\n",
      "\n",
      "Unique Values Count Before Standardized Variable OnlineSecurity\n",
      "No                     3454\n",
      "Yes                    1991\n",
      "No internet service    1505\n",
      "Name: OnlineSecurity, dtype: int64\n",
      "\n",
      "\n",
      "Unique Values Count Before Standardized Variable OnlineBackup\n",
      "No                     3045\n",
      "Yes                    2400\n",
      "No internet service    1505\n",
      "Name: OnlineBackup, dtype: int64\n",
      "\n",
      "\n",
      "Unique Values Count Before Standardized Variable DeviceProtection\n",
      "No                     3054\n",
      "Yes                    2391\n",
      "No internet service    1505\n",
      "Name: DeviceProtection, dtype: int64\n",
      "\n",
      "\n",
      "Unique Values Count Before Standardized Variable TechSupport\n",
      "No                     3431\n",
      "Yes                    2014\n",
      "No internet service    1505\n",
      "Name: TechSupport, dtype: int64\n",
      "\n",
      "\n",
      "Unique Values Count Before Standardized Variable StreamingTV\n",
      "No                     2774\n",
      "Yes                    2671\n",
      "No internet service    1505\n",
      "Name: StreamingTV, dtype: int64\n",
      "\n",
      "\n",
      "Unique Values Count Before Standardized Variable StreamingMovies\n",
      "No                     2747\n",
      "Yes                    2698\n",
      "No internet service    1505\n",
      "Name: StreamingMovies, dtype: int64\n",
      "\n",
      "\n",
      "Unique Values Count Before Standardized Variable Contract\n",
      "Month-to-month    3823\n",
      "Two year          1670\n",
      "One year          1457\n",
      "Name: Contract, dtype: int64\n",
      "\n",
      "\n",
      "Unique Values Count Before Standardized Variable PaperlessBilling\n",
      "Yes    4114\n",
      "No     2836\n",
      "Name: PaperlessBilling, dtype: int64\n",
      "\n",
      "\n",
      "Unique Values Count Before Standardized Variable PaymentMethod\n",
      "Electronic check             2337\n",
      "Mailed check                 1594\n",
      "Bank transfer (automatic)    1519\n",
      "Credit card (automatic)      1500\n",
      "Name: PaymentMethod, dtype: int64\n",
      "\n",
      "\n",
      "Unique Values Count Before Standardized Variable Churn\n",
      "No       5114\n",
      "Yes      1827\n",
      "Churn       9\n",
      "Name: Churn, dtype: int64\n",
      "\n",
      "\n"
     ]
    }
   ],
   "source": [
    "# Check standardization\n",
    "for col_name in df_load.select_dtypes(include='object').columns:\n",
    "    print('Unique Values Count Before Standardized Variable',col_name)\n",
    "    print(df_load[col_name].value_counts())\n",
    "    print('\\n')"
   ]
  },
  {
   "cell_type": "markdown",
   "metadata": {
    "id": "Uq4z3WjDz1cn"
   },
   "source": [
    "Ketika kita amati lebih jauh dari jumlah unique value dari masing-masing variable kategorik, terlihat jelas bahwa ada beberapa variable yang tidak standar. Variable itu adalah :\n",
    "\n",
    "  -  **gender** (Female, Male, Wanita, Laki-Laki), yang bisa di standarkan nilainya menjadi (Female, Male) karena mempunyai makna yang sama.\n",
    "  - **Dependents** (Yes, No, Iya), yang bisa di standarkan nilainya menjadi (Yes, No) karena mempunyai makna yang sama.\n",
    "  -  **Churn** (Yes, No, Churn), yang bisa di standarkan nilainya menjadi (Yes, No) karena mempunyai makna yang sama."
   ]
  },
  {
   "cell_type": "markdown",
   "metadata": {
    "id": "GZEIvLiRwd2z"
   },
   "source": [
    "**Menstandarisasi Variable Kategorik**\n",
    "\n",
    "Setelah kita mengetahui variable mana saja yang ada nilai tidak standar, maka kita standarkan dengan pola terbanyak nya, dengan syarat tanpa mengubah maknanya. Contoh : Iya -> Yes"
   ]
  },
  {
   "cell_type": "code",
   "execution_count": 12,
   "metadata": {
    "colab": {
     "base_uri": "https://localhost:8080/",
     "height": 293
    },
    "id": "8ClJo7gdxOTu",
    "outputId": "873259a5-a435-412e-fad1-8e77e5bf7fc2"
   },
   "outputs": [
    {
     "name": "stdout",
     "output_type": "stream",
     "text": [
      "Unique Values Count After Standardized Variable gender\n",
      "Male      3505\n",
      "Female    3445\n",
      "Name: gender, dtype: int64\n",
      "\n",
      "\n",
      "Unique Values Count After Standardized Variable Dependents\n",
      "No     4870\n",
      "Yes    2080\n",
      "Name: Dependents, dtype: int64\n",
      "\n",
      "\n",
      "Unique Values Count After Standardized Variable Churn\n",
      "No     5114\n",
      "Yes    1836\n",
      "Name: Churn, dtype: int64\n",
      "\n",
      "\n"
     ]
    }
   ],
   "source": [
    "# Change values\n",
    "df_load = df_load.replace(['Wanita','Laki-Laki','Churn','Iya'],['Female','Male','Yes','Yes'])\n",
    "\n",
    "# Check values after standardization\n",
    "for col_name in list(['gender','Dependents','Churn']):\n",
    "    print('Unique Values Count After Standardized Variable',col_name)\n",
    "    print(df_load[col_name].value_counts())\n",
    "    print('\\n')"
   ]
  },
  {
   "cell_type": "markdown",
   "metadata": {},
   "source": [
    "Terlihat bahwa nilai dari variabel sudah standar dan siap dianggap sudah bersih atau *clean*."
   ]
  },
  {
   "cell_type": "markdown",
   "metadata": {
    "id": "qKKVwp6J9wjN"
   },
   "source": [
    "**Save Clean Dataset**\n",
    "\n",
    "Setelah raw data dilakukan data cleansing, selanjutnya data ini dapat digunakan untuk pemodelan."
   ]
  },
  {
   "cell_type": "code",
   "execution_count": 13,
   "metadata": {
    "colab": {
     "base_uri": "https://localhost:8080/",
     "height": 313
    },
    "id": "YKjVJMiy-vip",
    "outputId": "0ef534eb-1e27-4c70-a010-f2e8e19af35e"
   },
   "outputs": [
    {
     "data": {
      "text/html": [
       "<div>\n",
       "<style scoped>\n",
       "    .dataframe tbody tr th:only-of-type {\n",
       "        vertical-align: middle;\n",
       "    }\n",
       "\n",
       "    .dataframe tbody tr th {\n",
       "        vertical-align: top;\n",
       "    }\n",
       "\n",
       "    .dataframe thead th {\n",
       "        text-align: right;\n",
       "    }\n",
       "</style>\n",
       "<table border=\"1\" class=\"dataframe\">\n",
       "  <thead>\n",
       "    <tr style=\"text-align: right;\">\n",
       "      <th></th>\n",
       "      <th>UpdatedAt</th>\n",
       "      <th>customerID</th>\n",
       "      <th>gender</th>\n",
       "      <th>SeniorCitizen</th>\n",
       "      <th>Partner</th>\n",
       "      <th>Dependents</th>\n",
       "      <th>tenure</th>\n",
       "      <th>PhoneService</th>\n",
       "      <th>MultipleLines</th>\n",
       "      <th>InternetService</th>\n",
       "      <th>OnlineSecurity</th>\n",
       "      <th>OnlineBackup</th>\n",
       "      <th>DeviceProtection</th>\n",
       "      <th>TechSupport</th>\n",
       "      <th>StreamingTV</th>\n",
       "      <th>StreamingMovies</th>\n",
       "      <th>Contract</th>\n",
       "      <th>PaperlessBilling</th>\n",
       "      <th>PaymentMethod</th>\n",
       "      <th>MonthlyCharges</th>\n",
       "      <th>TotalCharges</th>\n",
       "      <th>Churn</th>\n",
       "    </tr>\n",
       "  </thead>\n",
       "  <tbody>\n",
       "    <tr>\n",
       "      <th>0</th>\n",
       "      <td>202006</td>\n",
       "      <td>45759018157</td>\n",
       "      <td>Female</td>\n",
       "      <td>0</td>\n",
       "      <td>Yes</td>\n",
       "      <td>No</td>\n",
       "      <td>1.0</td>\n",
       "      <td>No</td>\n",
       "      <td>No phone service</td>\n",
       "      <td>DSL</td>\n",
       "      <td>No</td>\n",
       "      <td>Yes</td>\n",
       "      <td>No</td>\n",
       "      <td>No</td>\n",
       "      <td>No</td>\n",
       "      <td>No</td>\n",
       "      <td>Month-to-month</td>\n",
       "      <td>Yes</td>\n",
       "      <td>Electronic check</td>\n",
       "      <td>29.85</td>\n",
       "      <td>29.85</td>\n",
       "      <td>No</td>\n",
       "    </tr>\n",
       "    <tr>\n",
       "      <th>4727</th>\n",
       "      <td>202006</td>\n",
       "      <td>45315483266</td>\n",
       "      <td>Male</td>\n",
       "      <td>0</td>\n",
       "      <td>Yes</td>\n",
       "      <td>No</td>\n",
       "      <td>60.0</td>\n",
       "      <td>Yes</td>\n",
       "      <td>No</td>\n",
       "      <td>No</td>\n",
       "      <td>No internet service</td>\n",
       "      <td>No internet service</td>\n",
       "      <td>No internet service</td>\n",
       "      <td>No internet service</td>\n",
       "      <td>No internet service</td>\n",
       "      <td>No internet service</td>\n",
       "      <td>Two year</td>\n",
       "      <td>Yes</td>\n",
       "      <td>Bank transfer (automatic)</td>\n",
       "      <td>20.50</td>\n",
       "      <td>1198.80</td>\n",
       "      <td>No</td>\n",
       "    </tr>\n",
       "    <tr>\n",
       "      <th>4738</th>\n",
       "      <td>202006</td>\n",
       "      <td>45236961615</td>\n",
       "      <td>Male</td>\n",
       "      <td>0</td>\n",
       "      <td>No</td>\n",
       "      <td>No</td>\n",
       "      <td>5.0</td>\n",
       "      <td>Yes</td>\n",
       "      <td>Yes</td>\n",
       "      <td>Fiber optic</td>\n",
       "      <td>No</td>\n",
       "      <td>Yes</td>\n",
       "      <td>Yes</td>\n",
       "      <td>No</td>\n",
       "      <td>Yes</td>\n",
       "      <td>Yes</td>\n",
       "      <td>Month-to-month</td>\n",
       "      <td>No</td>\n",
       "      <td>Mailed check</td>\n",
       "      <td>104.10</td>\n",
       "      <td>541.90</td>\n",
       "      <td>Yes</td>\n",
       "    </tr>\n",
       "    <tr>\n",
       "      <th>4737</th>\n",
       "      <td>202006</td>\n",
       "      <td>45929827382</td>\n",
       "      <td>Female</td>\n",
       "      <td>0</td>\n",
       "      <td>Yes</td>\n",
       "      <td>No</td>\n",
       "      <td>72.0</td>\n",
       "      <td>Yes</td>\n",
       "      <td>Yes</td>\n",
       "      <td>Fiber optic</td>\n",
       "      <td>Yes</td>\n",
       "      <td>Yes</td>\n",
       "      <td>Yes</td>\n",
       "      <td>Yes</td>\n",
       "      <td>Yes</td>\n",
       "      <td>Yes</td>\n",
       "      <td>Two year</td>\n",
       "      <td>Yes</td>\n",
       "      <td>Bank transfer (automatic)</td>\n",
       "      <td>115.50</td>\n",
       "      <td>8312.75</td>\n",
       "      <td>No</td>\n",
       "    </tr>\n",
       "    <tr>\n",
       "      <th>4736</th>\n",
       "      <td>202006</td>\n",
       "      <td>45305082233</td>\n",
       "      <td>Female</td>\n",
       "      <td>0</td>\n",
       "      <td>Yes</td>\n",
       "      <td>Yes</td>\n",
       "      <td>56.0</td>\n",
       "      <td>Yes</td>\n",
       "      <td>Yes</td>\n",
       "      <td>DSL</td>\n",
       "      <td>Yes</td>\n",
       "      <td>Yes</td>\n",
       "      <td>Yes</td>\n",
       "      <td>Yes</td>\n",
       "      <td>Yes</td>\n",
       "      <td>No</td>\n",
       "      <td>Two year</td>\n",
       "      <td>No</td>\n",
       "      <td>Credit card (automatic)</td>\n",
       "      <td>81.25</td>\n",
       "      <td>4620.40</td>\n",
       "      <td>No</td>\n",
       "    </tr>\n",
       "  </tbody>\n",
       "</table>\n",
       "</div>"
      ],
      "text/plain": [
       "      UpdatedAt   customerID  gender  SeniorCitizen Partner Dependents  \\\n",
       "0        202006  45759018157  Female              0     Yes         No   \n",
       "4727     202006  45315483266    Male              0     Yes         No   \n",
       "4738     202006  45236961615    Male              0      No         No   \n",
       "4737     202006  45929827382  Female              0     Yes         No   \n",
       "4736     202006  45305082233  Female              0     Yes        Yes   \n",
       "\n",
       "      tenure PhoneService     MultipleLines InternetService  \\\n",
       "0        1.0           No  No phone service             DSL   \n",
       "4727    60.0          Yes                No              No   \n",
       "4738     5.0          Yes               Yes     Fiber optic   \n",
       "4737    72.0          Yes               Yes     Fiber optic   \n",
       "4736    56.0          Yes               Yes             DSL   \n",
       "\n",
       "           OnlineSecurity         OnlineBackup     DeviceProtection  \\\n",
       "0                      No                  Yes                   No   \n",
       "4727  No internet service  No internet service  No internet service   \n",
       "4738                   No                  Yes                  Yes   \n",
       "4737                  Yes                  Yes                  Yes   \n",
       "4736                  Yes                  Yes                  Yes   \n",
       "\n",
       "              TechSupport          StreamingTV      StreamingMovies  \\\n",
       "0                      No                   No                   No   \n",
       "4727  No internet service  No internet service  No internet service   \n",
       "4738                   No                  Yes                  Yes   \n",
       "4737                  Yes                  Yes                  Yes   \n",
       "4736                  Yes                  Yes                   No   \n",
       "\n",
       "            Contract PaperlessBilling              PaymentMethod  \\\n",
       "0     Month-to-month              Yes           Electronic check   \n",
       "4727        Two year              Yes  Bank transfer (automatic)   \n",
       "4738  Month-to-month               No               Mailed check   \n",
       "4737        Two year              Yes  Bank transfer (automatic)   \n",
       "4736        Two year               No    Credit card (automatic)   \n",
       "\n",
       "      MonthlyCharges  TotalCharges Churn  \n",
       "0              29.85         29.85    No  \n",
       "4727           20.50       1198.80    No  \n",
       "4738          104.10        541.90   Yes  \n",
       "4737          115.50       8312.75    No  \n",
       "4736           81.25       4620.40    No  "
      ]
     },
     "execution_count": 13,
     "metadata": {},
     "output_type": "execute_result"
    }
   ],
   "source": [
    "# Print first five rows clean data\n",
    "df_load.head()"
   ]
  },
  {
   "cell_type": "code",
   "execution_count": 14,
   "metadata": {
    "id": "7YoDv2Np-dQ6"
   },
   "outputs": [],
   "source": [
    "# Save clean data\n",
    "df_load.reset_index(drop=True, inplace=True)\n",
    "df_load.to_csv('data/data_cleansing_telco.csv', index=False)"
   ]
  }
 ],
 "metadata": {
  "colab": {
   "collapsed_sections": [],
   "name": "Data Cleansing TELCO.ipynb",
   "provenance": []
  },
  "kernelspec": {
   "display_name": "Python 3",
   "language": "python",
   "name": "python3"
  },
  "language_info": {
   "codemirror_mode": {
    "name": "ipython",
    "version": 3
   },
   "file_extension": ".py",
   "mimetype": "text/x-python",
   "name": "python",
   "nbconvert_exporter": "python",
   "pygments_lexer": "ipython3",
   "version": "3.8.5"
  }
 },
 "nbformat": 4,
 "nbformat_minor": 1
}
