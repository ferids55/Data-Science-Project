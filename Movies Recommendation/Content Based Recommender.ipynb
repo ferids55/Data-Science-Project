{
 "cells": [
  {
   "cell_type": "markdown",
   "metadata": {},
   "source": [
    "# Movies Recommendation"
   ]
  },
  {
   "cell_type": "markdown",
   "metadata": {
    "id": "aBbH6MYF8Vjt"
   },
   "source": [
    "Pada project sebelumnya kita telah membuat Simple Recommender System yang dibuat hanya dengan menggunakan formula Weighted Rating, yaitu mengurutkan score yang terdapat komponen average rating secara descending, kita dapat mengetahui (secara estimasi) film mana yang menurut para audience paling menarik."
   ]
  },
  {
   "cell_type": "markdown",
   "metadata": {},
   "source": [
    "## Content Based Recommender System"
   ]
  },
  {
   "cell_type": "markdown",
   "metadata": {},
   "source": [
    "Kali ini, kita akan membuat sistem rekomendasi yang menggunakan content/feature dari film/entitas tersebut, kemudian melakukan perhitungan terhadap kesamaannya satu dan yang lain sehingga ketika kita menunjuk ke satu film, kita akan mendapat beberapa film lain yang memiliki kesamaan dengan film tersebut. Hal ini biasa kita sebut sebagai **Content Based Recommender System**.\n",
    "\n",
    "Sebagai contoh, berdasarkan kesamaan plot yang ada dan genre yang ada, ketika audience lebih menyukai film Narnia, maka sistem rekomendasi ini juga akan merekomendasikan film seperti Harry Potter atau The Lords of The Rings yang memiliki genre yang mirip."
   ]
  },
  {
   "cell_type": "markdown",
   "metadata": {},
   "source": [
    "## Dataset"
   ]
  },
  {
   "cell_type": "markdown",
   "metadata": {},
   "source": [
    "Dataset yang akan digunakan dalam pembahasan ini, meliputi:\n",
    "- `movie_rating_df.csv` yang berisi informasi data film-film beserta rating nya.   \n",
    "  https://dqlab-dataset.s3-ap-southeast-1.amazonaws.com/movie_rating_df.csv\n",
    "- `actor_name.csv` yang berisi data aktor yang memainkan film.   \n",
    "  https://dqlab-dataset.s3-ap-southeast-1.amazonaws.com/actor_name.csv\n",
    "- `director_writers.csv` yang berisi data direktur dan penulis dari film yang ada.   \n",
    "  https://dqlab-dataset.s3-ap-southeast-1.amazonaws.com/directors_writers.csv"
   ]
  },
  {
   "cell_type": "markdown",
   "metadata": {},
   "source": [
    "## Library"
   ]
  },
  {
   "cell_type": "markdown",
   "metadata": {},
   "source": [
    "Library yang digunakan dalam project ini antara lain:\n",
    "- **numpy** untuk perhitungan numerik dengan array atau matriks.\n",
    "- **pandas** untuk manipulasi dan analisis data.\n",
    "- **sklearn** untuk pemodelan data."
   ]
  },
  {
   "cell_type": "code",
   "execution_count": 79,
   "metadata": {},
   "outputs": [],
   "source": [
    "# Load library\n",
    "import pandas as pd\n",
    "import numpy as np\n",
    "\n",
    "from sklearn.feature_extraction.text import CountVectorizer\n",
    "from sklearn.metrics.pairwise import cosine_similarity\n",
    "\n",
    "import warnings\n",
    "warnings.filterwarnings('ignore')"
   ]
  },
  {
   "cell_type": "markdown",
   "metadata": {},
   "source": [
    "## Load Dataset"
   ]
  },
  {
   "cell_type": "markdown",
   "metadata": {},
   "source": [
    "Melakukan pembacaan file csv ke dalam bentuk dataframe, kemudian melakukan preview data dan info data nya."
   ]
  },
  {
   "cell_type": "markdown",
   "metadata": {},
   "source": [
    "**Table Movies**"
   ]
  },
  {
   "cell_type": "code",
   "execution_count": 80,
   "metadata": {
    "id": "DWKokYc18Km0",
    "scrolled": true
   },
   "outputs": [
    {
     "data": {
      "text/html": [
       "<div>\n",
       "<style scoped>\n",
       "    .dataframe tbody tr th:only-of-type {\n",
       "        vertical-align: middle;\n",
       "    }\n",
       "\n",
       "    .dataframe tbody tr th {\n",
       "        vertical-align: top;\n",
       "    }\n",
       "\n",
       "    .dataframe thead th {\n",
       "        text-align: right;\n",
       "    }\n",
       "</style>\n",
       "<table border=\"1\" class=\"dataframe\">\n",
       "  <thead>\n",
       "    <tr style=\"text-align: right;\">\n",
       "      <th></th>\n",
       "      <th>tconst</th>\n",
       "      <th>titleType</th>\n",
       "      <th>primaryTitle</th>\n",
       "      <th>originalTitle</th>\n",
       "      <th>isAdult</th>\n",
       "      <th>startYear</th>\n",
       "      <th>endYear</th>\n",
       "      <th>runtimeMinutes</th>\n",
       "      <th>genres</th>\n",
       "      <th>averageRating</th>\n",
       "      <th>numVotes</th>\n",
       "    </tr>\n",
       "  </thead>\n",
       "  <tbody>\n",
       "    <tr>\n",
       "      <th>0</th>\n",
       "      <td>tt0000001</td>\n",
       "      <td>short</td>\n",
       "      <td>Carmencita</td>\n",
       "      <td>Carmencita</td>\n",
       "      <td>0</td>\n",
       "      <td>1894.0</td>\n",
       "      <td>NaN</td>\n",
       "      <td>1.0</td>\n",
       "      <td>Documentary,Short</td>\n",
       "      <td>5.6</td>\n",
       "      <td>1608</td>\n",
       "    </tr>\n",
       "    <tr>\n",
       "      <th>1</th>\n",
       "      <td>tt0000002</td>\n",
       "      <td>short</td>\n",
       "      <td>Le clown et ses chiens</td>\n",
       "      <td>Le clown et ses chiens</td>\n",
       "      <td>0</td>\n",
       "      <td>1892.0</td>\n",
       "      <td>NaN</td>\n",
       "      <td>5.0</td>\n",
       "      <td>Animation,Short</td>\n",
       "      <td>6.0</td>\n",
       "      <td>197</td>\n",
       "    </tr>\n",
       "    <tr>\n",
       "      <th>2</th>\n",
       "      <td>tt0000003</td>\n",
       "      <td>short</td>\n",
       "      <td>Pauvre Pierrot</td>\n",
       "      <td>Pauvre Pierrot</td>\n",
       "      <td>0</td>\n",
       "      <td>1892.0</td>\n",
       "      <td>NaN</td>\n",
       "      <td>4.0</td>\n",
       "      <td>Animation,Comedy,Romance</td>\n",
       "      <td>6.5</td>\n",
       "      <td>1285</td>\n",
       "    </tr>\n",
       "    <tr>\n",
       "      <th>3</th>\n",
       "      <td>tt0000004</td>\n",
       "      <td>short</td>\n",
       "      <td>Un bon bock</td>\n",
       "      <td>Un bon bock</td>\n",
       "      <td>0</td>\n",
       "      <td>1892.0</td>\n",
       "      <td>NaN</td>\n",
       "      <td>12.0</td>\n",
       "      <td>Animation,Short</td>\n",
       "      <td>6.1</td>\n",
       "      <td>121</td>\n",
       "    </tr>\n",
       "    <tr>\n",
       "      <th>4</th>\n",
       "      <td>tt0000005</td>\n",
       "      <td>short</td>\n",
       "      <td>Blacksmith Scene</td>\n",
       "      <td>Blacksmith Scene</td>\n",
       "      <td>0</td>\n",
       "      <td>1893.0</td>\n",
       "      <td>NaN</td>\n",
       "      <td>1.0</td>\n",
       "      <td>Comedy,Short</td>\n",
       "      <td>6.1</td>\n",
       "      <td>2050</td>\n",
       "    </tr>\n",
       "  </tbody>\n",
       "</table>\n",
       "</div>"
      ],
      "text/plain": [
       "      tconst titleType            primaryTitle           originalTitle  \\\n",
       "0  tt0000001     short              Carmencita              Carmencita   \n",
       "1  tt0000002     short  Le clown et ses chiens  Le clown et ses chiens   \n",
       "2  tt0000003     short          Pauvre Pierrot          Pauvre Pierrot   \n",
       "3  tt0000004     short             Un bon bock             Un bon bock   \n",
       "4  tt0000005     short        Blacksmith Scene        Blacksmith Scene   \n",
       "\n",
       "   isAdult  startYear  endYear  runtimeMinutes                    genres  \\\n",
       "0        0     1894.0      NaN             1.0         Documentary,Short   \n",
       "1        0     1892.0      NaN             5.0           Animation,Short   \n",
       "2        0     1892.0      NaN             4.0  Animation,Comedy,Romance   \n",
       "3        0     1892.0      NaN            12.0           Animation,Short   \n",
       "4        0     1893.0      NaN             1.0              Comedy,Short   \n",
       "\n",
       "   averageRating  numVotes  \n",
       "0            5.6      1608  \n",
       "1            6.0       197  \n",
       "2            6.5      1285  \n",
       "3            6.1       121  \n",
       "4            6.1      2050  "
      ]
     },
     "execution_count": 80,
     "metadata": {},
     "output_type": "execute_result"
    }
   ],
   "source": [
    "# Load file movie_rating.csv\n",
    "movie_rating_df = pd.read_csv('data/movie_rating.csv')\n",
    "\n",
    "# Print first five rows\n",
    "movie_rating_df.head()"
   ]
  },
  {
   "cell_type": "code",
   "execution_count": 81,
   "metadata": {
    "colab": {
     "base_uri": "https://localhost:8080/",
     "height": 573
    },
    "id": "e9D7iZym-G8T",
    "outputId": "631377e0-48cd-4a9f-dac2-0e033a0667ac"
   },
   "outputs": [
    {
     "name": "stdout",
     "output_type": "stream",
     "text": [
      "<class 'pandas.core.frame.DataFrame'>\n",
      "RangeIndex: 751614 entries, 0 to 751613\n",
      "Data columns (total 11 columns):\n",
      " #   Column          Non-Null Count   Dtype  \n",
      "---  ------          --------------   -----  \n",
      " 0   tconst          751614 non-null  object \n",
      " 1   titleType       751614 non-null  object \n",
      " 2   primaryTitle    751614 non-null  object \n",
      " 3   originalTitle   751614 non-null  object \n",
      " 4   isAdult         751614 non-null  int64  \n",
      " 5   startYear       751614 non-null  float64\n",
      " 6   endYear         16072 non-null   float64\n",
      " 7   runtimeMinutes  751614 non-null  float64\n",
      " 8   genres          486766 non-null  object \n",
      " 9   averageRating   751614 non-null  float64\n",
      " 10  numVotes        751614 non-null  int64  \n",
      "dtypes: float64(4), int64(2), object(5)\n",
      "memory usage: 63.1+ MB\n"
     ]
    }
   ],
   "source": [
    "# View info data movie_rating_df\n",
    "movie_rating_df.info()"
   ]
  },
  {
   "cell_type": "markdown",
   "metadata": {},
   "source": [
    "Terlihat pada kolom **endYear dan genres** terdapat missing values karena jumlah data nya lebih sedikit dari keseluruhan data."
   ]
  },
  {
   "cell_type": "markdown",
   "metadata": {
    "id": "yRsR4WO5-Vqz"
   },
   "source": [
    "**Table Actors**"
   ]
  },
  {
   "cell_type": "code",
   "execution_count": 82,
   "metadata": {
    "colab": {
     "base_uri": "https://localhost:8080/",
     "height": 463
    },
    "id": "S-Eniy94-93S",
    "outputId": "b6d2c8fd-0cf0-4837-ba5f-6cba98525b67"
   },
   "outputs": [
    {
     "data": {
      "text/html": [
       "<div>\n",
       "<style scoped>\n",
       "    .dataframe tbody tr th:only-of-type {\n",
       "        vertical-align: middle;\n",
       "    }\n",
       "\n",
       "    .dataframe tbody tr th {\n",
       "        vertical-align: top;\n",
       "    }\n",
       "\n",
       "    .dataframe thead th {\n",
       "        text-align: right;\n",
       "    }\n",
       "</style>\n",
       "<table border=\"1\" class=\"dataframe\">\n",
       "  <thead>\n",
       "    <tr style=\"text-align: right;\">\n",
       "      <th></th>\n",
       "      <th>nconst</th>\n",
       "      <th>primaryName</th>\n",
       "      <th>birthYear</th>\n",
       "      <th>deathYear</th>\n",
       "      <th>primaryProfession</th>\n",
       "      <th>knownForTitles</th>\n",
       "    </tr>\n",
       "  </thead>\n",
       "  <tbody>\n",
       "    <tr>\n",
       "      <th>0</th>\n",
       "      <td>nm1774132</td>\n",
       "      <td>Nathan McLaughlin</td>\n",
       "      <td>1973</td>\n",
       "      <td>\\N</td>\n",
       "      <td>special_effects,make_up_department</td>\n",
       "      <td>tt0417686,tt1713976,tt1891860,tt0454839</td>\n",
       "    </tr>\n",
       "    <tr>\n",
       "      <th>1</th>\n",
       "      <td>nm10683464</td>\n",
       "      <td>Bridge Andrew</td>\n",
       "      <td>\\N</td>\n",
       "      <td>\\N</td>\n",
       "      <td>actor</td>\n",
       "      <td>tt7718088</td>\n",
       "    </tr>\n",
       "    <tr>\n",
       "      <th>2</th>\n",
       "      <td>nm1021485</td>\n",
       "      <td>Brandon Fransvaag</td>\n",
       "      <td>\\N</td>\n",
       "      <td>\\N</td>\n",
       "      <td>miscellaneous</td>\n",
       "      <td>tt0168790</td>\n",
       "    </tr>\n",
       "    <tr>\n",
       "      <th>3</th>\n",
       "      <td>nm6940929</td>\n",
       "      <td>Erwin van der Lely</td>\n",
       "      <td>\\N</td>\n",
       "      <td>\\N</td>\n",
       "      <td>miscellaneous</td>\n",
       "      <td>tt4232168</td>\n",
       "    </tr>\n",
       "    <tr>\n",
       "      <th>4</th>\n",
       "      <td>nm5764974</td>\n",
       "      <td>Svetlana Shypitsyna</td>\n",
       "      <td>\\N</td>\n",
       "      <td>\\N</td>\n",
       "      <td>actress</td>\n",
       "      <td>tt3014168</td>\n",
       "    </tr>\n",
       "  </tbody>\n",
       "</table>\n",
       "</div>"
      ],
      "text/plain": [
       "       nconst          primaryName birthYear deathYear  \\\n",
       "0   nm1774132    Nathan McLaughlin      1973        \\N   \n",
       "1  nm10683464        Bridge Andrew        \\N        \\N   \n",
       "2   nm1021485    Brandon Fransvaag        \\N        \\N   \n",
       "3   nm6940929   Erwin van der Lely        \\N        \\N   \n",
       "4   nm5764974  Svetlana Shypitsyna        \\N        \\N   \n",
       "\n",
       "                    primaryProfession                           knownForTitles  \n",
       "0  special_effects,make_up_department  tt0417686,tt1713976,tt1891860,tt0454839  \n",
       "1                               actor                                tt7718088  \n",
       "2                       miscellaneous                                tt0168790  \n",
       "3                       miscellaneous                                tt4232168  \n",
       "4                             actress                                tt3014168  "
      ]
     },
     "execution_count": 82,
     "metadata": {},
     "output_type": "execute_result"
    }
   ],
   "source": [
    "# Load file actor_name.csv\n",
    "actor_df = pd.read_csv('data/actor_name.csv')\n",
    "\n",
    "# Print five first rows\n",
    "actor_df.head()"
   ]
  },
  {
   "cell_type": "code",
   "execution_count": 83,
   "metadata": {},
   "outputs": [
    {
     "name": "stdout",
     "output_type": "stream",
     "text": [
      "<class 'pandas.core.frame.DataFrame'>\n",
      "RangeIndex: 1000 entries, 0 to 999\n",
      "Data columns (total 6 columns):\n",
      " #   Column             Non-Null Count  Dtype \n",
      "---  ------             --------------  ----- \n",
      " 0   nconst             1000 non-null   object\n",
      " 1   primaryName        1000 non-null   object\n",
      " 2   birthYear          1000 non-null   object\n",
      " 3   deathYear          1000 non-null   object\n",
      " 4   primaryProfession  891 non-null    object\n",
      " 5   knownForTitles     1000 non-null   object\n",
      "dtypes: object(6)\n",
      "memory usage: 47.0+ KB\n"
     ]
    }
   ],
   "source": [
    "# View info data actor_df\n",
    "actor_df.info()"
   ]
  },
  {
   "cell_type": "markdown",
   "metadata": {},
   "source": [
    "Terlihat pada **kolom birthYear dan deathYear** terdapat nilai `\\\\N` yang berarti bernilai **NULL** karena kesalahan pembacaan data. Lalu pada info data kolom **primaryProfession** juga terdapat *missing values* karena jumlah datanya lebih sedikit dibandingkan keseluruhan data."
   ]
  },
  {
   "cell_type": "markdown",
   "metadata": {},
   "source": [
    "**Table Director_Writers**"
   ]
  },
  {
   "cell_type": "code",
   "execution_count": 84,
   "metadata": {
    "colab": {
     "base_uri": "https://localhost:8080/",
     "height": 408
    },
    "id": "hTvlwDaU_ZFu",
    "outputId": "d9b51fe8-e6bf-4fec-dda3-4a23e2356237"
   },
   "outputs": [
    {
     "data": {
      "text/html": [
       "<div>\n",
       "<style scoped>\n",
       "    .dataframe tbody tr th:only-of-type {\n",
       "        vertical-align: middle;\n",
       "    }\n",
       "\n",
       "    .dataframe tbody tr th {\n",
       "        vertical-align: top;\n",
       "    }\n",
       "\n",
       "    .dataframe thead th {\n",
       "        text-align: right;\n",
       "    }\n",
       "</style>\n",
       "<table border=\"1\" class=\"dataframe\">\n",
       "  <thead>\n",
       "    <tr style=\"text-align: right;\">\n",
       "      <th></th>\n",
       "      <th>tconst</th>\n",
       "      <th>director_name</th>\n",
       "      <th>writer_name</th>\n",
       "    </tr>\n",
       "  </thead>\n",
       "  <tbody>\n",
       "    <tr>\n",
       "      <th>0</th>\n",
       "      <td>tt0011414</td>\n",
       "      <td>David Kirkland</td>\n",
       "      <td>John Emerson,Anita Loos</td>\n",
       "    </tr>\n",
       "    <tr>\n",
       "      <th>1</th>\n",
       "      <td>tt0011890</td>\n",
       "      <td>Roy William Neill</td>\n",
       "      <td>Arthur F. Goodrich,Burns Mantle,Mary Murillo</td>\n",
       "    </tr>\n",
       "    <tr>\n",
       "      <th>2</th>\n",
       "      <td>tt0014341</td>\n",
       "      <td>Buster Keaton,John G. Blystone</td>\n",
       "      <td>Jean C. Havez,Clyde Bruckman,Joseph A. Mitchell</td>\n",
       "    </tr>\n",
       "    <tr>\n",
       "      <th>3</th>\n",
       "      <td>tt0018054</td>\n",
       "      <td>Cecil B. DeMille</td>\n",
       "      <td>Jeanie Macpherson</td>\n",
       "    </tr>\n",
       "    <tr>\n",
       "      <th>4</th>\n",
       "      <td>tt0024151</td>\n",
       "      <td>James Cruze</td>\n",
       "      <td>Max Miller,Wells Root,Jack Jevne</td>\n",
       "    </tr>\n",
       "  </tbody>\n",
       "</table>\n",
       "</div>"
      ],
      "text/plain": [
       "      tconst                   director_name  \\\n",
       "0  tt0011414                  David Kirkland   \n",
       "1  tt0011890               Roy William Neill   \n",
       "2  tt0014341  Buster Keaton,John G. Blystone   \n",
       "3  tt0018054                Cecil B. DeMille   \n",
       "4  tt0024151                     James Cruze   \n",
       "\n",
       "                                       writer_name  \n",
       "0                          John Emerson,Anita Loos  \n",
       "1     Arthur F. Goodrich,Burns Mantle,Mary Murillo  \n",
       "2  Jean C. Havez,Clyde Bruckman,Joseph A. Mitchell  \n",
       "3                                Jeanie Macpherson  \n",
       "4                 Max Miller,Wells Root,Jack Jevne  "
      ]
     },
     "execution_count": 84,
     "metadata": {},
     "output_type": "execute_result"
    }
   ],
   "source": [
    "# Load file directors_writers.csv\n",
    "director_writers_df = pd.read_csv('data/directors_writers.csv')\n",
    "\n",
    "# Print first five rows\n",
    "director_writers_df.head()"
   ]
  },
  {
   "cell_type": "code",
   "execution_count": 85,
   "metadata": {},
   "outputs": [
    {
     "name": "stdout",
     "output_type": "stream",
     "text": [
      "<class 'pandas.core.frame.DataFrame'>\n",
      "RangeIndex: 986 entries, 0 to 985\n",
      "Data columns (total 3 columns):\n",
      " #   Column         Non-Null Count  Dtype \n",
      "---  ------         --------------  ----- \n",
      " 0   tconst         986 non-null    object\n",
      " 1   director_name  986 non-null    object\n",
      " 2   writer_name    986 non-null    object\n",
      "dtypes: object(3)\n",
      "memory usage: 23.2+ KB\n"
     ]
    }
   ],
   "source": [
    "# View info data director_writers_df\n",
    "director_writers_df.info()"
   ]
  },
  {
   "cell_type": "markdown",
   "metadata": {},
   "source": [
    "Terlihat bahwa tidak ditemukan *missing values* karena info jumlah data sesuai."
   ]
  },
  {
   "cell_type": "markdown",
   "metadata": {},
   "source": [
    "## Update Dataframe"
   ]
  },
  {
   "cell_type": "markdown",
   "metadata": {},
   "source": [
    "Melakukan manipulasi data agar siap diolah lebih lanjut sesuai kebutuhan."
   ]
  },
  {
   "cell_type": "markdown",
   "metadata": {
    "id": "BtwP9KWb_lLL"
   },
   "source": [
    "**Update Table Director_Writers**\n",
    "\n",
    "Kita akan mengubah kolom **director_name dan writer_name** dari string menjadi list."
   ]
  },
  {
   "cell_type": "code",
   "execution_count": 86,
   "metadata": {
    "colab": {
     "base_uri": "https://localhost:8080/",
     "height": 206
    },
    "id": "706hJMASADVl",
    "outputId": "2ad5057e-9ac4-4c2d-b39e-fa1fb9913b0c"
   },
   "outputs": [
    {
     "data": {
      "text/html": [
       "<div>\n",
       "<style scoped>\n",
       "    .dataframe tbody tr th:only-of-type {\n",
       "        vertical-align: middle;\n",
       "    }\n",
       "\n",
       "    .dataframe tbody tr th {\n",
       "        vertical-align: top;\n",
       "    }\n",
       "\n",
       "    .dataframe thead th {\n",
       "        text-align: right;\n",
       "    }\n",
       "</style>\n",
       "<table border=\"1\" class=\"dataframe\">\n",
       "  <thead>\n",
       "    <tr style=\"text-align: right;\">\n",
       "      <th></th>\n",
       "      <th>tconst</th>\n",
       "      <th>director_name</th>\n",
       "      <th>writer_name</th>\n",
       "    </tr>\n",
       "  </thead>\n",
       "  <tbody>\n",
       "    <tr>\n",
       "      <th>0</th>\n",
       "      <td>tt0011414</td>\n",
       "      <td>[David Kirkland]</td>\n",
       "      <td>[John Emerson, Anita Loos]</td>\n",
       "    </tr>\n",
       "    <tr>\n",
       "      <th>1</th>\n",
       "      <td>tt0011890</td>\n",
       "      <td>[Roy William Neill]</td>\n",
       "      <td>[Arthur F. Goodrich, Burns Mantle, Mary Murillo]</td>\n",
       "    </tr>\n",
       "    <tr>\n",
       "      <th>2</th>\n",
       "      <td>tt0014341</td>\n",
       "      <td>[Buster Keaton, John G. Blystone]</td>\n",
       "      <td>[Jean C. Havez, Clyde Bruckman, Joseph A. Mitc...</td>\n",
       "    </tr>\n",
       "    <tr>\n",
       "      <th>3</th>\n",
       "      <td>tt0018054</td>\n",
       "      <td>[Cecil B. DeMille]</td>\n",
       "      <td>[Jeanie Macpherson]</td>\n",
       "    </tr>\n",
       "    <tr>\n",
       "      <th>4</th>\n",
       "      <td>tt0024151</td>\n",
       "      <td>[James Cruze]</td>\n",
       "      <td>[Max Miller, Wells Root, Jack Jevne]</td>\n",
       "    </tr>\n",
       "  </tbody>\n",
       "</table>\n",
       "</div>"
      ],
      "text/plain": [
       "      tconst                      director_name  \\\n",
       "0  tt0011414                   [David Kirkland]   \n",
       "1  tt0011890                [Roy William Neill]   \n",
       "2  tt0014341  [Buster Keaton, John G. Blystone]   \n",
       "3  tt0018054                 [Cecil B. DeMille]   \n",
       "4  tt0024151                      [James Cruze]   \n",
       "\n",
       "                                         writer_name  \n",
       "0                         [John Emerson, Anita Loos]  \n",
       "1   [Arthur F. Goodrich, Burns Mantle, Mary Murillo]  \n",
       "2  [Jean C. Havez, Clyde Bruckman, Joseph A. Mitc...  \n",
       "3                                [Jeanie Macpherson]  \n",
       "4               [Max Miller, Wells Root, Jack Jevne]  "
      ]
     },
     "execution_count": 86,
     "metadata": {},
     "output_type": "execute_result"
    }
   ],
   "source": [
    "# Change values string to list\n",
    "director_writers_df['director_name'] = director_writers_df['director_name'].apply(lambda row: row.split(','))\n",
    "director_writers_df['writer_name'] = director_writers_df['writer_name'].apply(lambda row: row.split(','))\n",
    "\n",
    "# Print update rows data\n",
    "director_writers_df.head()"
   ]
  },
  {
   "cell_type": "markdown",
   "metadata": {},
   "source": [
    "**Update Table Actors**\n",
    "\n",
    "Kita hanya akan membutuhkan kolom **nconst, primaryName, dan knownForTitles** untuk mencocokkan aktor/aktris ini dengan film yang ada. "
   ]
  },
  {
   "cell_type": "code",
   "execution_count": 87,
   "metadata": {
    "colab": {
     "base_uri": "https://localhost:8080/",
     "height": 206
    },
    "id": "oBeVVD34CCb3",
    "outputId": "4fa615d9-32af-4170-8f0b-75865630d13a"
   },
   "outputs": [
    {
     "data": {
      "text/html": [
       "<div>\n",
       "<style scoped>\n",
       "    .dataframe tbody tr th:only-of-type {\n",
       "        vertical-align: middle;\n",
       "    }\n",
       "\n",
       "    .dataframe tbody tr th {\n",
       "        vertical-align: top;\n",
       "    }\n",
       "\n",
       "    .dataframe thead th {\n",
       "        text-align: right;\n",
       "    }\n",
       "</style>\n",
       "<table border=\"1\" class=\"dataframe\">\n",
       "  <thead>\n",
       "    <tr style=\"text-align: right;\">\n",
       "      <th></th>\n",
       "      <th>nconst</th>\n",
       "      <th>primaryName</th>\n",
       "      <th>knownForTitles</th>\n",
       "    </tr>\n",
       "  </thead>\n",
       "  <tbody>\n",
       "    <tr>\n",
       "      <th>0</th>\n",
       "      <td>nm1774132</td>\n",
       "      <td>Nathan McLaughlin</td>\n",
       "      <td>tt0417686,tt1713976,tt1891860,tt0454839</td>\n",
       "    </tr>\n",
       "    <tr>\n",
       "      <th>1</th>\n",
       "      <td>nm10683464</td>\n",
       "      <td>Bridge Andrew</td>\n",
       "      <td>tt7718088</td>\n",
       "    </tr>\n",
       "    <tr>\n",
       "      <th>2</th>\n",
       "      <td>nm1021485</td>\n",
       "      <td>Brandon Fransvaag</td>\n",
       "      <td>tt0168790</td>\n",
       "    </tr>\n",
       "    <tr>\n",
       "      <th>3</th>\n",
       "      <td>nm6940929</td>\n",
       "      <td>Erwin van der Lely</td>\n",
       "      <td>tt4232168</td>\n",
       "    </tr>\n",
       "    <tr>\n",
       "      <th>4</th>\n",
       "      <td>nm5764974</td>\n",
       "      <td>Svetlana Shypitsyna</td>\n",
       "      <td>tt3014168</td>\n",
       "    </tr>\n",
       "  </tbody>\n",
       "</table>\n",
       "</div>"
      ],
      "text/plain": [
       "       nconst          primaryName                           knownForTitles\n",
       "0   nm1774132    Nathan McLaughlin  tt0417686,tt1713976,tt1891860,tt0454839\n",
       "1  nm10683464        Bridge Andrew                                tt7718088\n",
       "2   nm1021485    Brandon Fransvaag                                tt0168790\n",
       "3   nm6940929   Erwin van der Lely                                tt4232168\n",
       "4   nm5764974  Svetlana Shypitsyna                                tt3014168"
      ]
     },
     "execution_count": 87,
     "metadata": {},
     "output_type": "execute_result"
    }
   ],
   "source": [
    "# Selecting columns\n",
    "actor_df = actor_df[['nconst','primaryName','knownForTitles']]\n",
    "\n",
    "# Print update rows data\n",
    "actor_df.head()"
   ]
  },
  {
   "cell_type": "markdown",
   "metadata": {
    "id": "fooDWy-BCMMm"
   },
   "source": [
    "Kita ingin tahu mengenai variasi dari jumlah film yang dapat dibintangi oleh seorang aktor. Tentunya seorang aktor dapat membintangi lebih dari 1 film, bukan? maka akan diperlukan untuk membuat table yang mempunyai relasi 1-1 ke masing-masing title movie tersebut. Kita akan melakukan **unnest** terhadap table tersebut. Langkah yang dilakukan antara lain,\n",
    " -   Melakukan pengecekan variasi jumlah film yang dibintangi oleh aktor.\n",
    " -   Mengubah kolom **knownForTitles** menjadi list of list."
   ]
  },
  {
   "cell_type": "code",
   "execution_count": 88,
   "metadata": {
    "colab": {
     "base_uri": "https://localhost:8080/",
     "height": 225
    },
    "id": "OH4N2_71CdPr",
    "outputId": "9a9841d8-229a-4fdb-fdfe-2e31963f2650"
   },
   "outputs": [
    {
     "name": "stdout",
     "output_type": "stream",
     "text": [
      "[4 1 2 3]\n"
     ]
    }
   ],
   "source": [
    "# Check counts\n",
    "print(actor_df['knownForTitles'].apply(lambda x: len(x.split(','))).unique())"
   ]
  },
  {
   "cell_type": "markdown",
   "metadata": {},
   "source": [
    "Terlihat jumlah isi data pada kolom **knownForTitles** paling banyak adalah 4."
   ]
  },
  {
   "cell_type": "code",
   "execution_count": 89,
   "metadata": {},
   "outputs": [
    {
     "data": {
      "text/html": [
       "<div>\n",
       "<style scoped>\n",
       "    .dataframe tbody tr th:only-of-type {\n",
       "        vertical-align: middle;\n",
       "    }\n",
       "\n",
       "    .dataframe tbody tr th {\n",
       "        vertical-align: top;\n",
       "    }\n",
       "\n",
       "    .dataframe thead th {\n",
       "        text-align: right;\n",
       "    }\n",
       "</style>\n",
       "<table border=\"1\" class=\"dataframe\">\n",
       "  <thead>\n",
       "    <tr style=\"text-align: right;\">\n",
       "      <th></th>\n",
       "      <th>nconst</th>\n",
       "      <th>primaryName</th>\n",
       "      <th>knownForTitles</th>\n",
       "    </tr>\n",
       "  </thead>\n",
       "  <tbody>\n",
       "    <tr>\n",
       "      <th>0</th>\n",
       "      <td>nm1774132</td>\n",
       "      <td>Nathan McLaughlin</td>\n",
       "      <td>[tt0417686, tt1713976, tt1891860, tt0454839]</td>\n",
       "    </tr>\n",
       "    <tr>\n",
       "      <th>1</th>\n",
       "      <td>nm10683464</td>\n",
       "      <td>Bridge Andrew</td>\n",
       "      <td>[tt7718088]</td>\n",
       "    </tr>\n",
       "    <tr>\n",
       "      <th>2</th>\n",
       "      <td>nm1021485</td>\n",
       "      <td>Brandon Fransvaag</td>\n",
       "      <td>[tt0168790]</td>\n",
       "    </tr>\n",
       "    <tr>\n",
       "      <th>3</th>\n",
       "      <td>nm6940929</td>\n",
       "      <td>Erwin van der Lely</td>\n",
       "      <td>[tt4232168]</td>\n",
       "    </tr>\n",
       "    <tr>\n",
       "      <th>4</th>\n",
       "      <td>nm5764974</td>\n",
       "      <td>Svetlana Shypitsyna</td>\n",
       "      <td>[tt3014168]</td>\n",
       "    </tr>\n",
       "  </tbody>\n",
       "</table>\n",
       "</div>"
      ],
      "text/plain": [
       "       nconst          primaryName  \\\n",
       "0   nm1774132    Nathan McLaughlin   \n",
       "1  nm10683464        Bridge Andrew   \n",
       "2   nm1021485    Brandon Fransvaag   \n",
       "3   nm6940929   Erwin van der Lely   \n",
       "4   nm5764974  Svetlana Shypitsyna   \n",
       "\n",
       "                                 knownForTitles  \n",
       "0  [tt0417686, tt1713976, tt1891860, tt0454839]  \n",
       "1                                   [tt7718088]  \n",
       "2                                   [tt0168790]  \n",
       "3                                   [tt4232168]  \n",
       "4                                   [tt3014168]  "
      ]
     },
     "execution_count": 89,
     "metadata": {},
     "output_type": "execute_result"
    }
   ],
   "source": [
    "# Change values column knownForTitles to list of list\n",
    "actor_df['knownForTitles'] = actor_df['knownForTitles'].apply(lambda x: x.split(','))\n",
    "# Print update rows data\n",
    "actor_df.head()"
   ]
  },
  {
   "cell_type": "markdown",
   "metadata": {
    "id": "zP6AXVg2C0AX"
   },
   "source": [
    "Karena pada data sebelumnya dapat dilihat bahwa seorang aktor dapat membintangi 1 sampai 4 film, diperlukan untuk membuat table yang mempunyai **relasi 1-1** dari aktor ke masing-masing judul film tersebut. "
   ]
  },
  {
   "cell_type": "code",
   "execution_count": 90,
   "metadata": {
    "colab": {
     "base_uri": "https://localhost:8080/",
     "height": 424
    },
    "id": "44Qcdt2wDKOP",
    "outputId": "0ecb37e1-cd16-4e06-e623-ebdc6e9e8959"
   },
   "outputs": [
    {
     "data": {
      "text/html": [
       "<div>\n",
       "<style scoped>\n",
       "    .dataframe tbody tr th:only-of-type {\n",
       "        vertical-align: middle;\n",
       "    }\n",
       "\n",
       "    .dataframe tbody tr th {\n",
       "        vertical-align: top;\n",
       "    }\n",
       "\n",
       "    .dataframe thead th {\n",
       "        text-align: right;\n",
       "    }\n",
       "</style>\n",
       "<table border=\"1\" class=\"dataframe\">\n",
       "  <thead>\n",
       "    <tr style=\"text-align: right;\">\n",
       "      <th></th>\n",
       "      <th>nconst</th>\n",
       "      <th>primaryName</th>\n",
       "      <th>knownForTitles</th>\n",
       "    </tr>\n",
       "  </thead>\n",
       "  <tbody>\n",
       "    <tr>\n",
       "      <th>0</th>\n",
       "      <td>nm1774132</td>\n",
       "      <td>Nathan McLaughlin</td>\n",
       "      <td>tt0417686</td>\n",
       "    </tr>\n",
       "    <tr>\n",
       "      <th>0</th>\n",
       "      <td>nm1774132</td>\n",
       "      <td>Nathan McLaughlin</td>\n",
       "      <td>tt1713976</td>\n",
       "    </tr>\n",
       "    <tr>\n",
       "      <th>0</th>\n",
       "      <td>nm1774132</td>\n",
       "      <td>Nathan McLaughlin</td>\n",
       "      <td>tt1891860</td>\n",
       "    </tr>\n",
       "    <tr>\n",
       "      <th>0</th>\n",
       "      <td>nm1774132</td>\n",
       "      <td>Nathan McLaughlin</td>\n",
       "      <td>tt0454839</td>\n",
       "    </tr>\n",
       "    <tr>\n",
       "      <th>1</th>\n",
       "      <td>nm10683464</td>\n",
       "      <td>Bridge Andrew</td>\n",
       "      <td>tt7718088</td>\n",
       "    </tr>\n",
       "  </tbody>\n",
       "</table>\n",
       "</div>"
      ],
      "text/plain": [
       "       nconst        primaryName knownForTitles\n",
       "0   nm1774132  Nathan McLaughlin      tt0417686\n",
       "0   nm1774132  Nathan McLaughlin      tt1713976\n",
       "0   nm1774132  Nathan McLaughlin      tt1891860\n",
       "0   nm1774132  Nathan McLaughlin      tt0454839\n",
       "1  nm10683464      Bridge Andrew      tt7718088"
      ]
     },
     "execution_count": 90,
     "metadata": {},
     "output_type": "execute_result"
    }
   ],
   "source": [
    "# Create empty list\n",
    "new_df = []\n",
    "for x in ['knownForTitles']:\n",
    "    # Repeat index\n",
    "    idx = actor_df.index.repeat(actor_df['knownForTitles'].str.len())   \n",
    "    # Slicing values to create new rows\n",
    "    temp_df = pd.DataFrame({x: np.concatenate(actor_df[x].values)})   \n",
    "    # Change values of index\n",
    "    temp_df.index = idx\n",
    "    # Append to new_df\n",
    "    new_df.append(temp_df)\n",
    "    \n",
    "# Concat the result\n",
    "df_concat = pd.concat(new_df, axis=1)\n",
    "# Join values with old data\n",
    "unnested_df = df_concat.join(actor_df.drop(['knownForTitles'], 1), how='left')\n",
    "# Convert into list\n",
    "unnested_df = unnested_df[actor_df.columns.tolist()]\n",
    "# Print update new rows\n",
    "unnested_df.head()"
   ]
  },
  {
   "cell_type": "markdown",
   "metadata": {
    "id": "tEnfT-hiDa5J"
   },
   "source": [
    "Selanjutnya, kita akan mengelompokkan isi data **primaryName** menjadi list group berdasarkan kolom **knownForTitles**."
   ]
  },
  {
   "cell_type": "code",
   "execution_count": 91,
   "metadata": {
    "colab": {
     "base_uri": "https://localhost:8080/",
     "height": 424
    },
    "id": "qC3KRJgiDaXV",
    "outputId": "df4ef3d3-48f7-43bc-aeee-4e19fddcae99"
   },
   "outputs": [
    {
     "data": {
      "text/html": [
       "<div>\n",
       "<style scoped>\n",
       "    .dataframe tbody tr th:only-of-type {\n",
       "        vertical-align: middle;\n",
       "    }\n",
       "\n",
       "    .dataframe tbody tr th {\n",
       "        vertical-align: top;\n",
       "    }\n",
       "\n",
       "    .dataframe thead th {\n",
       "        text-align: right;\n",
       "    }\n",
       "</style>\n",
       "<table border=\"1\" class=\"dataframe\">\n",
       "  <thead>\n",
       "    <tr style=\"text-align: right;\">\n",
       "      <th></th>\n",
       "      <th>knownForTitles</th>\n",
       "      <th>cast_name</th>\n",
       "    </tr>\n",
       "  </thead>\n",
       "  <tbody>\n",
       "    <tr>\n",
       "      <th>0</th>\n",
       "      <td>tt0008125</td>\n",
       "      <td>[Charles Harley]</td>\n",
       "    </tr>\n",
       "    <tr>\n",
       "      <th>1</th>\n",
       "      <td>tt0009706</td>\n",
       "      <td>[Charles Harley]</td>\n",
       "    </tr>\n",
       "    <tr>\n",
       "      <th>2</th>\n",
       "      <td>tt0010304</td>\n",
       "      <td>[Natalie Talmadge]</td>\n",
       "    </tr>\n",
       "    <tr>\n",
       "      <th>3</th>\n",
       "      <td>tt0011414</td>\n",
       "      <td>[Natalie Talmadge]</td>\n",
       "    </tr>\n",
       "    <tr>\n",
       "      <th>4</th>\n",
       "      <td>tt0011890</td>\n",
       "      <td>[Natalie Talmadge]</td>\n",
       "    </tr>\n",
       "  </tbody>\n",
       "</table>\n",
       "</div>"
      ],
      "text/plain": [
       "  knownForTitles           cast_name\n",
       "0      tt0008125    [Charles Harley]\n",
       "1      tt0009706    [Charles Harley]\n",
       "2      tt0010304  [Natalie Talmadge]\n",
       "3      tt0011414  [Natalie Talmadge]\n",
       "4      tt0011890  [Natalie Talmadge]"
      ]
     },
     "execution_count": 91,
     "metadata": {},
     "output_type": "execute_result"
    }
   ],
   "source": [
    "# Drop column nconst\n",
    "unnested_df = unnested_df.drop(['nconst'], axis=1)\n",
    "# Create empty list\n",
    "new_df2 = []\n",
    "for col in ['primaryName']:\n",
    "    # Grouping by column knownForTitles\n",
    "    temp_df2 = unnested_df.groupby(['knownForTitles'])[col].apply(list)\n",
    "    # Append to empty list\n",
    "    new_df2.append(temp_df2)\n",
    "\n",
    "# Concat data\n",
    "cast_df = pd.concat(new_df2, axis=1).reset_index()\n",
    "# Rename columns\n",
    "cast_df.columns = ['knownForTitles','cast_name']\n",
    "cast_df.head()"
   ]
  },
  {
   "cell_type": "markdown",
   "metadata": {},
   "source": [
    "Terlihat bahwa ada nilai dari kolom **cast_name** yang sama tetapi memiliki nilai **knownForTitles** yang berbeda. Hal membuktikan bahwa seorang aktor/aktris pernah membintangi film yang berbeda."
   ]
  },
  {
   "cell_type": "markdown",
   "metadata": {},
   "source": [
    "## Join Tables"
   ]
  },
  {
   "cell_type": "markdown",
   "metadata": {
    "id": "Fq1__kANEbJ5"
   },
   "source": [
    "Tahap berikutnya adalah melakukan penggabungan tabel atau *dataframe* yang telah di update sebelumnya, yakni:\n",
    "- **Inner Join** antara `cast_df` dan `movie_rating_df`  (field **knownForTitles dan tconst**)\n",
    "- **Left Join** antara `cast_movies_df` dengan `director_writer_df` (field **tconst dan tconst**)"
   ]
  },
  {
   "cell_type": "code",
   "execution_count": 92,
   "metadata": {
    "colab": {
     "base_uri": "https://localhost:8080/",
     "height": 435
    },
    "id": "kxv3gHg7EkrI",
    "outputId": "470b5ac5-2136-406c-f00b-dfd2c5682d94"
   },
   "outputs": [
    {
     "data": {
      "text/html": [
       "<div>\n",
       "<style scoped>\n",
       "    .dataframe tbody tr th:only-of-type {\n",
       "        vertical-align: middle;\n",
       "    }\n",
       "\n",
       "    .dataframe tbody tr th {\n",
       "        vertical-align: top;\n",
       "    }\n",
       "\n",
       "    .dataframe thead th {\n",
       "        text-align: right;\n",
       "    }\n",
       "</style>\n",
       "<table border=\"1\" class=\"dataframe\">\n",
       "  <thead>\n",
       "    <tr style=\"text-align: right;\">\n",
       "      <th></th>\n",
       "      <th>knownForTitles</th>\n",
       "      <th>cast_name</th>\n",
       "      <th>tconst</th>\n",
       "      <th>titleType</th>\n",
       "      <th>primaryTitle</th>\n",
       "      <th>originalTitle</th>\n",
       "      <th>isAdult</th>\n",
       "      <th>startYear</th>\n",
       "      <th>endYear</th>\n",
       "      <th>runtimeMinutes</th>\n",
       "      <th>genres</th>\n",
       "      <th>averageRating</th>\n",
       "      <th>numVotes</th>\n",
       "      <th>director_name</th>\n",
       "      <th>writer_name</th>\n",
       "    </tr>\n",
       "  </thead>\n",
       "  <tbody>\n",
       "    <tr>\n",
       "      <th>0</th>\n",
       "      <td>tt0011414</td>\n",
       "      <td>[Natalie Talmadge]</td>\n",
       "      <td>tt0011414</td>\n",
       "      <td>movie</td>\n",
       "      <td>The Love Expert</td>\n",
       "      <td>The Love Expert</td>\n",
       "      <td>0</td>\n",
       "      <td>1920.0</td>\n",
       "      <td>NaN</td>\n",
       "      <td>60.0</td>\n",
       "      <td>Comedy,Romance</td>\n",
       "      <td>4.9</td>\n",
       "      <td>136</td>\n",
       "      <td>[David Kirkland]</td>\n",
       "      <td>[John Emerson, Anita Loos]</td>\n",
       "    </tr>\n",
       "    <tr>\n",
       "      <th>1</th>\n",
       "      <td>tt0011890</td>\n",
       "      <td>[Natalie Talmadge]</td>\n",
       "      <td>tt0011890</td>\n",
       "      <td>movie</td>\n",
       "      <td>Yes or No</td>\n",
       "      <td>Yes or No</td>\n",
       "      <td>0</td>\n",
       "      <td>1920.0</td>\n",
       "      <td>NaN</td>\n",
       "      <td>72.0</td>\n",
       "      <td>NaN</td>\n",
       "      <td>6.3</td>\n",
       "      <td>7</td>\n",
       "      <td>[Roy William Neill]</td>\n",
       "      <td>[Arthur F. Goodrich, Burns Mantle, Mary Murillo]</td>\n",
       "    </tr>\n",
       "    <tr>\n",
       "      <th>2</th>\n",
       "      <td>tt0014341</td>\n",
       "      <td>[Natalie Talmadge]</td>\n",
       "      <td>tt0014341</td>\n",
       "      <td>movie</td>\n",
       "      <td>Our Hospitality</td>\n",
       "      <td>Our Hospitality</td>\n",
       "      <td>0</td>\n",
       "      <td>1923.0</td>\n",
       "      <td>NaN</td>\n",
       "      <td>65.0</td>\n",
       "      <td>Comedy,Romance,Thriller</td>\n",
       "      <td>7.8</td>\n",
       "      <td>9621</td>\n",
       "      <td>[Buster Keaton, John G. Blystone]</td>\n",
       "      <td>[Jean C. Havez, Clyde Bruckman, Joseph A. Mitc...</td>\n",
       "    </tr>\n",
       "    <tr>\n",
       "      <th>3</th>\n",
       "      <td>tt0018054</td>\n",
       "      <td>[Reeka Roberts]</td>\n",
       "      <td>tt0018054</td>\n",
       "      <td>movie</td>\n",
       "      <td>The King of Kings</td>\n",
       "      <td>The King of Kings</td>\n",
       "      <td>0</td>\n",
       "      <td>1927.0</td>\n",
       "      <td>NaN</td>\n",
       "      <td>155.0</td>\n",
       "      <td>Biography,Drama,History</td>\n",
       "      <td>7.3</td>\n",
       "      <td>1826</td>\n",
       "      <td>[Cecil B. DeMille]</td>\n",
       "      <td>[Jeanie Macpherson]</td>\n",
       "    </tr>\n",
       "    <tr>\n",
       "      <th>4</th>\n",
       "      <td>tt0024151</td>\n",
       "      <td>[James Hackett]</td>\n",
       "      <td>tt0024151</td>\n",
       "      <td>movie</td>\n",
       "      <td>I Cover the Waterfront</td>\n",
       "      <td>I Cover the Waterfront</td>\n",
       "      <td>0</td>\n",
       "      <td>1933.0</td>\n",
       "      <td>NaN</td>\n",
       "      <td>80.0</td>\n",
       "      <td>Drama,Romance</td>\n",
       "      <td>6.3</td>\n",
       "      <td>455</td>\n",
       "      <td>[James Cruze]</td>\n",
       "      <td>[Max Miller, Wells Root, Jack Jevne]</td>\n",
       "    </tr>\n",
       "  </tbody>\n",
       "</table>\n",
       "</div>"
      ],
      "text/plain": [
       "  knownForTitles           cast_name     tconst titleType  \\\n",
       "0      tt0011414  [Natalie Talmadge]  tt0011414     movie   \n",
       "1      tt0011890  [Natalie Talmadge]  tt0011890     movie   \n",
       "2      tt0014341  [Natalie Talmadge]  tt0014341     movie   \n",
       "3      tt0018054     [Reeka Roberts]  tt0018054     movie   \n",
       "4      tt0024151     [James Hackett]  tt0024151     movie   \n",
       "\n",
       "             primaryTitle           originalTitle  isAdult  startYear  \\\n",
       "0         The Love Expert         The Love Expert        0     1920.0   \n",
       "1               Yes or No               Yes or No        0     1920.0   \n",
       "2         Our Hospitality         Our Hospitality        0     1923.0   \n",
       "3       The King of Kings       The King of Kings        0     1927.0   \n",
       "4  I Cover the Waterfront  I Cover the Waterfront        0     1933.0   \n",
       "\n",
       "   endYear  runtimeMinutes                   genres  averageRating  numVotes  \\\n",
       "0      NaN            60.0           Comedy,Romance            4.9       136   \n",
       "1      NaN            72.0                      NaN            6.3         7   \n",
       "2      NaN            65.0  Comedy,Romance,Thriller            7.8      9621   \n",
       "3      NaN           155.0  Biography,Drama,History            7.3      1826   \n",
       "4      NaN            80.0            Drama,Romance            6.3       455   \n",
       "\n",
       "                       director_name  \\\n",
       "0                   [David Kirkland]   \n",
       "1                [Roy William Neill]   \n",
       "2  [Buster Keaton, John G. Blystone]   \n",
       "3                 [Cecil B. DeMille]   \n",
       "4                      [James Cruze]   \n",
       "\n",
       "                                         writer_name  \n",
       "0                         [John Emerson, Anita Loos]  \n",
       "1   [Arthur F. Goodrich, Burns Mantle, Mary Murillo]  \n",
       "2  [Jean C. Havez, Clyde Bruckman, Joseph A. Mitc...  \n",
       "3                                [Jeanie Macpherson]  \n",
       "4               [Max Miller, Wells Root, Jack Jevne]  "
      ]
     },
     "execution_count": 92,
     "metadata": {},
     "output_type": "execute_result"
    }
   ],
   "source": [
    "# Join cast_df and movie_rating_df\n",
    "cast_movies_df = pd.merge(cast_df, movie_rating_df, left_on='knownForTitles', right_on='tconst', how='inner')\n",
    "# Join base_df and director_writers_df\n",
    "base_df = pd.merge(cast_movies_df, director_writers_df, left_on='tconst', right_on='tconst', how='left')\n",
    "\n",
    "# Print first five rows\n",
    "base_df.head()"
   ]
  },
  {
   "cell_type": "markdown",
   "metadata": {},
   "source": [
    "## Data Cleaning"
   ]
  },
  {
   "cell_type": "markdown",
   "metadata": {
    "id": "lIg6dQmEEwOn"
   },
   "source": [
    "Setelah melakukan join table sebelumnya, sekarang hal yang akan kembali kita lakukan adalah melakukan cleaning pada data yang sudah dihasilkan. "
   ]
  },
  {
   "cell_type": "code",
   "execution_count": 93,
   "metadata": {},
   "outputs": [
    {
     "name": "stdout",
     "output_type": "stream",
     "text": [
      "<class 'pandas.core.frame.DataFrame'>\n",
      "Int64Index: 1060 entries, 0 to 1059\n",
      "Data columns (total 15 columns):\n",
      " #   Column          Non-Null Count  Dtype  \n",
      "---  ------          --------------  -----  \n",
      " 0   knownForTitles  1060 non-null   object \n",
      " 1   cast_name       1060 non-null   object \n",
      " 2   tconst          1060 non-null   object \n",
      " 3   titleType       1060 non-null   object \n",
      " 4   primaryTitle    1060 non-null   object \n",
      " 5   originalTitle   1060 non-null   object \n",
      " 6   isAdult         1060 non-null   int64  \n",
      " 7   startYear       1060 non-null   float64\n",
      " 8   endYear         110 non-null    float64\n",
      " 9   runtimeMinutes  1060 non-null   float64\n",
      " 10  genres          745 non-null    object \n",
      " 11  averageRating   1060 non-null   float64\n",
      " 12  numVotes        1060 non-null   int64  \n",
      " 13  director_name   986 non-null    object \n",
      " 14  writer_name     986 non-null    object \n",
      "dtypes: float64(4), int64(2), object(9)\n",
      "memory usage: 132.5+ KB\n"
     ]
    }
   ],
   "source": [
    "# View info data base_df\n",
    "base_df.info()"
   ]
  },
  {
   "cell_type": "code",
   "execution_count": 94,
   "metadata": {},
   "outputs": [
    {
     "data": {
      "text/plain": [
       "endYear          950\n",
       "genres           315\n",
       "director_name     74\n",
       "writer_name       74\n",
       "dtype: int64"
      ]
     },
     "execution_count": 94,
     "metadata": {},
     "output_type": "execute_result"
    }
   ],
   "source": [
    "# Check NULL columns\n",
    "null_cols = base_df.columns[base_df.isnull().any()]\n",
    "base_df[null_cols].isnull().sum()"
   ]
  },
  {
   "cell_type": "markdown",
   "metadata": {},
   "source": [
    "Dari hasil diatas diketahui bahwa:\n",
    "- Kolom **knownForTitles dan tconst** memiliki nilai yang sama.\n",
    "- Kolom **endYear, genres, director_name, writer_name** terdapat missing values.\n",
    "\n",
    "Untuk mengatasi hal tersebut yang akan kita lakukan antara lain:\n",
    "- Menghapus kolom **knownForTitles**\n",
    "- Mengisi missing values dengan `Unknown` kecuali kolom endYear."
   ]
  },
  {
   "cell_type": "code",
   "execution_count": 95,
   "metadata": {
    "colab": {
     "base_uri": "https://localhost:8080/",
     "height": 697
    },
    "id": "ORUSU8b2E2mQ",
    "outputId": "c6ea028e-855c-442e-db86-a435e9f9dcd0"
   },
   "outputs": [],
   "source": [
    "# Drop colomn knownForTitles\n",
    "base_df = base_df.drop(['knownForTitles'], axis=1)\n",
    "# Fill missing values column genres with 'Unknown'\n",
    "base_df['genres'] = base_df['genres'].fillna('Unknown')\n",
    "# Fill missing values column director_name and writer_name with 'Unknown'\n",
    "base_df[['director_name','writer_name']] = base_df[['director_name','writer_name']].fillna('Unknown')\n",
    "# Convert values column genres into list\n",
    "base_df['genres'] = base_df['genres'].apply(lambda x: x.split(','))"
   ]
  },
  {
   "cell_type": "markdown",
   "metadata": {
    "id": "p8FynwxXFCAb"
   },
   "source": [
    "**Reformat Table**\n",
    "\n",
    "Hal selanjutnya yang akan kita lakukan adalah melakukan reformat pada table `base_df`, seperti menhapus kolom yang tidak diperlukan dan mengubah nama kolom."
   ]
  },
  {
   "cell_type": "code",
   "execution_count": 96,
   "metadata": {
    "colab": {
     "base_uri": "https://localhost:8080/",
     "height": 293
    },
    "id": "ifbJggpHFH7F",
    "outputId": "daaa3e77-b7ed-4d48-c9a7-f0031c6a2eec"
   },
   "outputs": [
    {
     "data": {
      "text/html": [
       "<div>\n",
       "<style scoped>\n",
       "    .dataframe tbody tr th:only-of-type {\n",
       "        vertical-align: middle;\n",
       "    }\n",
       "\n",
       "    .dataframe tbody tr th {\n",
       "        vertical-align: top;\n",
       "    }\n",
       "\n",
       "    .dataframe thead th {\n",
       "        text-align: right;\n",
       "    }\n",
       "</style>\n",
       "<table border=\"1\" class=\"dataframe\">\n",
       "  <thead>\n",
       "    <tr style=\"text-align: right;\">\n",
       "      <th></th>\n",
       "      <th>title</th>\n",
       "      <th>type</th>\n",
       "      <th>start</th>\n",
       "      <th>duration</th>\n",
       "      <th>genres</th>\n",
       "      <th>rating</th>\n",
       "      <th>votes</th>\n",
       "      <th>cast_name</th>\n",
       "      <th>director_name</th>\n",
       "      <th>writer_name</th>\n",
       "    </tr>\n",
       "  </thead>\n",
       "  <tbody>\n",
       "    <tr>\n",
       "      <th>0</th>\n",
       "      <td>The Love Expert</td>\n",
       "      <td>movie</td>\n",
       "      <td>1920.0</td>\n",
       "      <td>60.0</td>\n",
       "      <td>[Comedy, Romance]</td>\n",
       "      <td>4.9</td>\n",
       "      <td>136</td>\n",
       "      <td>[Natalie Talmadge]</td>\n",
       "      <td>[David Kirkland]</td>\n",
       "      <td>[John Emerson, Anita Loos]</td>\n",
       "    </tr>\n",
       "    <tr>\n",
       "      <th>1</th>\n",
       "      <td>Yes or No</td>\n",
       "      <td>movie</td>\n",
       "      <td>1920.0</td>\n",
       "      <td>72.0</td>\n",
       "      <td>[Unknown]</td>\n",
       "      <td>6.3</td>\n",
       "      <td>7</td>\n",
       "      <td>[Natalie Talmadge]</td>\n",
       "      <td>[Roy William Neill]</td>\n",
       "      <td>[Arthur F. Goodrich, Burns Mantle, Mary Murillo]</td>\n",
       "    </tr>\n",
       "    <tr>\n",
       "      <th>2</th>\n",
       "      <td>Our Hospitality</td>\n",
       "      <td>movie</td>\n",
       "      <td>1923.0</td>\n",
       "      <td>65.0</td>\n",
       "      <td>[Comedy, Romance, Thriller]</td>\n",
       "      <td>7.8</td>\n",
       "      <td>9621</td>\n",
       "      <td>[Natalie Talmadge]</td>\n",
       "      <td>[Buster Keaton, John G. Blystone]</td>\n",
       "      <td>[Jean C. Havez, Clyde Bruckman, Joseph A. Mitc...</td>\n",
       "    </tr>\n",
       "    <tr>\n",
       "      <th>3</th>\n",
       "      <td>The King of Kings</td>\n",
       "      <td>movie</td>\n",
       "      <td>1927.0</td>\n",
       "      <td>155.0</td>\n",
       "      <td>[Biography, Drama, History]</td>\n",
       "      <td>7.3</td>\n",
       "      <td>1826</td>\n",
       "      <td>[Reeka Roberts]</td>\n",
       "      <td>[Cecil B. DeMille]</td>\n",
       "      <td>[Jeanie Macpherson]</td>\n",
       "    </tr>\n",
       "    <tr>\n",
       "      <th>4</th>\n",
       "      <td>I Cover the Waterfront</td>\n",
       "      <td>movie</td>\n",
       "      <td>1933.0</td>\n",
       "      <td>80.0</td>\n",
       "      <td>[Drama, Romance]</td>\n",
       "      <td>6.3</td>\n",
       "      <td>455</td>\n",
       "      <td>[James Hackett]</td>\n",
       "      <td>[James Cruze]</td>\n",
       "      <td>[Max Miller, Wells Root, Jack Jevne]</td>\n",
       "    </tr>\n",
       "  </tbody>\n",
       "</table>\n",
       "</div>"
      ],
      "text/plain": [
       "                    title   type   start  duration  \\\n",
       "0         The Love Expert  movie  1920.0      60.0   \n",
       "1               Yes or No  movie  1920.0      72.0   \n",
       "2         Our Hospitality  movie  1923.0      65.0   \n",
       "3       The King of Kings  movie  1927.0     155.0   \n",
       "4  I Cover the Waterfront  movie  1933.0      80.0   \n",
       "\n",
       "                        genres  rating  votes           cast_name  \\\n",
       "0            [Comedy, Romance]     4.9    136  [Natalie Talmadge]   \n",
       "1                    [Unknown]     6.3      7  [Natalie Talmadge]   \n",
       "2  [Comedy, Romance, Thriller]     7.8   9621  [Natalie Talmadge]   \n",
       "3  [Biography, Drama, History]     7.3   1826     [Reeka Roberts]   \n",
       "4             [Drama, Romance]     6.3    455     [James Hackett]   \n",
       "\n",
       "                       director_name  \\\n",
       "0                   [David Kirkland]   \n",
       "1                [Roy William Neill]   \n",
       "2  [Buster Keaton, John G. Blystone]   \n",
       "3                 [Cecil B. DeMille]   \n",
       "4                      [James Cruze]   \n",
       "\n",
       "                                         writer_name  \n",
       "0                         [John Emerson, Anita Loos]  \n",
       "1   [Arthur F. Goodrich, Burns Mantle, Mary Murillo]  \n",
       "2  [Jean C. Havez, Clyde Bruckman, Joseph A. Mitc...  \n",
       "3                                [Jeanie Macpherson]  \n",
       "4               [Max Miller, Wells Root, Jack Jevne]  "
      ]
     },
     "execution_count": 96,
     "metadata": {},
     "output_type": "execute_result"
    }
   ],
   "source": [
    "# Drop unnecessary columns\n",
    "clean_df = base_df.drop(['tconst','isAdult','endYear','originalTitle'], axis=1)\n",
    "# Ordering columns\n",
    "clean_df = clean_df[['primaryTitle','titleType','startYear','runtimeMinutes',\n",
    "                     'genres','averageRating','numVotes','cast_name',\n",
    "                     'director_name','writer_name']]\n",
    "# Rename columns\n",
    "clean_df.columns = ['title','type','start','duration','genres','rating','votes',\n",
    "                    'cast_name','director_name','writer_name']\n",
    "# Print clean data\n",
    "clean_df.head()"
   ]
  },
  {
   "cell_type": "markdown",
   "metadata": {
    "id": "0vX4v25yFY4w"
   },
   "source": [
    "## Metadata"
   ]
  },
  {
   "cell_type": "markdown",
   "metadata": {},
   "source": [
    "Untuk membuat sistem rekomendasi kita akan mengambil **metadata** yang dibutuhkan, yaitu kolom **title, cast_name, genres, director_name, dan writer_name**."
   ]
  },
  {
   "cell_type": "code",
   "execution_count": 97,
   "metadata": {
    "colab": {
     "base_uri": "https://localhost:8080/",
     "height": 206
    },
    "id": "dibudMrcFgC8",
    "outputId": "8c711352-a960-400b-f5c8-ff827441935a"
   },
   "outputs": [
    {
     "data": {
      "text/html": [
       "<div>\n",
       "<style scoped>\n",
       "    .dataframe tbody tr th:only-of-type {\n",
       "        vertical-align: middle;\n",
       "    }\n",
       "\n",
       "    .dataframe tbody tr th {\n",
       "        vertical-align: top;\n",
       "    }\n",
       "\n",
       "    .dataframe thead th {\n",
       "        text-align: right;\n",
       "    }\n",
       "</style>\n",
       "<table border=\"1\" class=\"dataframe\">\n",
       "  <thead>\n",
       "    <tr style=\"text-align: right;\">\n",
       "      <th></th>\n",
       "      <th>title</th>\n",
       "      <th>cast_name</th>\n",
       "      <th>genres</th>\n",
       "      <th>director_name</th>\n",
       "      <th>writer_name</th>\n",
       "    </tr>\n",
       "  </thead>\n",
       "  <tbody>\n",
       "    <tr>\n",
       "      <th>0</th>\n",
       "      <td>The Love Expert</td>\n",
       "      <td>[Natalie Talmadge]</td>\n",
       "      <td>[Comedy, Romance]</td>\n",
       "      <td>[David Kirkland]</td>\n",
       "      <td>[John Emerson, Anita Loos]</td>\n",
       "    </tr>\n",
       "    <tr>\n",
       "      <th>1</th>\n",
       "      <td>Yes or No</td>\n",
       "      <td>[Natalie Talmadge]</td>\n",
       "      <td>[Unknown]</td>\n",
       "      <td>[Roy William Neill]</td>\n",
       "      <td>[Arthur F. Goodrich, Burns Mantle, Mary Murillo]</td>\n",
       "    </tr>\n",
       "    <tr>\n",
       "      <th>2</th>\n",
       "      <td>Our Hospitality</td>\n",
       "      <td>[Natalie Talmadge]</td>\n",
       "      <td>[Comedy, Romance, Thriller]</td>\n",
       "      <td>[Buster Keaton, John G. Blystone]</td>\n",
       "      <td>[Jean C. Havez, Clyde Bruckman, Joseph A. Mitc...</td>\n",
       "    </tr>\n",
       "    <tr>\n",
       "      <th>3</th>\n",
       "      <td>The King of Kings</td>\n",
       "      <td>[Reeka Roberts]</td>\n",
       "      <td>[Biography, Drama, History]</td>\n",
       "      <td>[Cecil B. DeMille]</td>\n",
       "      <td>[Jeanie Macpherson]</td>\n",
       "    </tr>\n",
       "    <tr>\n",
       "      <th>4</th>\n",
       "      <td>I Cover the Waterfront</td>\n",
       "      <td>[James Hackett]</td>\n",
       "      <td>[Drama, Romance]</td>\n",
       "      <td>[James Cruze]</td>\n",
       "      <td>[Max Miller, Wells Root, Jack Jevne]</td>\n",
       "    </tr>\n",
       "  </tbody>\n",
       "</table>\n",
       "</div>"
      ],
      "text/plain": [
       "                    title           cast_name                       genres  \\\n",
       "0         The Love Expert  [Natalie Talmadge]            [Comedy, Romance]   \n",
       "1               Yes or No  [Natalie Talmadge]                    [Unknown]   \n",
       "2         Our Hospitality  [Natalie Talmadge]  [Comedy, Romance, Thriller]   \n",
       "3       The King of Kings     [Reeka Roberts]  [Biography, Drama, History]   \n",
       "4  I Cover the Waterfront     [James Hackett]             [Drama, Romance]   \n",
       "\n",
       "                       director_name  \\\n",
       "0                   [David Kirkland]   \n",
       "1                [Roy William Neill]   \n",
       "2  [Buster Keaton, John G. Blystone]   \n",
       "3                 [Cecil B. DeMille]   \n",
       "4                      [James Cruze]   \n",
       "\n",
       "                                         writer_name  \n",
       "0                         [John Emerson, Anita Loos]  \n",
       "1   [Arthur F. Goodrich, Burns Mantle, Mary Murillo]  \n",
       "2  [Jean C. Havez, Clyde Bruckman, Joseph A. Mitc...  \n",
       "3                                [Jeanie Macpherson]  \n",
       "4               [Max Miller, Wells Root, Jack Jevne]  "
      ]
     },
     "execution_count": 97,
     "metadata": {},
     "output_type": "execute_result"
    }
   ],
   "source": [
    "# Selecting metadata\n",
    "feature_df = clean_df[['title', 'cast_name', 'genres', 'director_name','writer_name']]\n",
    "# Print first five rows\n",
    "feature_df.head()"
   ]
  },
  {
   "cell_type": "markdown",
   "metadata": {
    "id": "a6YbygfWMg_D"
   },
   "source": [
    "# Building Content Based Recommender System "
   ]
  },
  {
   "cell_type": "markdown",
   "metadata": {},
   "source": [
    "### **Step 1**"
   ]
  },
  {
   "cell_type": "markdown",
   "metadata": {},
   "source": [
    "Membuat fungsi untuk menghilangkan spasi dari setiap baris dan setiap elemennya, dengan cara membuat `lower case` terlebih dahulu kemudian mengecek apakah bertipe list atau string biasa."
   ]
  },
  {
   "cell_type": "code",
   "execution_count": 98,
   "metadata": {
    "id": "pG-6yUydMyLg"
   },
   "outputs": [],
   "source": [
    "# Step 1\n",
    "def sanitize(x):\n",
    "    try:\n",
    "        # Check if values is list\n",
    "        if isinstance(x, list):\n",
    "            return [i.replace(' ','').lower() for i in x]\n",
    "        # If values is string\n",
    "        else:\n",
    "            return [x.replace(' ','').lower()]\n",
    "    except:\n",
    "        print(x)\n",
    "        \n",
    "# Column with list group       \n",
    "feature_cols = ['cast_name','genres','writer_name','director_name']\n",
    "\n",
    "# Apply function sanitize \n",
    "for col in feature_cols:\n",
    "    feature_df[col] = feature_df[col].apply(sanitize)"
   ]
  },
  {
   "cell_type": "markdown",
   "metadata": {},
   "source": [
    "### **Step 2**"
   ]
  },
  {
   "cell_type": "markdown",
   "metadata": {
    "id": "zOPjJrNVPgWl"
   },
   "source": [
    "Membuat fungsi untuk membuat **metadata soup** (menggabungkan semua feature menjadi 1 bagian kalimat) untuk setiap judulnya."
   ]
  },
  {
   "cell_type": "code",
   "execution_count": 99,
   "metadata": {
    "id": "tDjrk-cVN_-U"
   },
   "outputs": [
    {
     "data": {
      "text/plain": [
       "0    natalietalmadge comedy romance davidkirkland j...\n",
       "1    natalietalmadge unknown roywilliamneill arthur...\n",
       "2    natalietalmadge comedy romance thriller buster...\n",
       "3    reekaroberts biography drama history cecilb.de...\n",
       "4    jameshackett drama romance jamescruze maxmille...\n",
       "Name: soup, dtype: object"
      ]
     },
     "execution_count": 99,
     "metadata": {},
     "output_type": "execute_result"
    }
   ],
   "source": [
    "# Create function metadata soup\n",
    "def soup_feature(x):\n",
    "    return ' '.join(x['cast_name']) + ' ' + ' '.join(x['genres']) + ' ' + ' '.join(x['director_name']) + ' ' + ' '.join(x['writer_name'])\n",
    "\n",
    "# Create new column soup\n",
    "feature_df['soup'] = feature_df.apply(soup_feature, axis=1)\n",
    "# Check soup result\n",
    "feature_df['soup'].head()"
   ]
  },
  {
   "cell_type": "markdown",
   "metadata": {},
   "source": [
    "### **Step 3**"
   ]
  },
  {
   "cell_type": "markdown",
   "metadata": {
    "id": "-quAcxmpOflE"
   },
   "source": [
    "Menyiapkan `CountVectorizer (stop_words = english)` dan `fit` dengan soup yang kita buat sebelumnya. **CountVectorizer** adalah tipe paling sederhana dari *vectorizer*.\n",
    "\n",
    "Sebagai contoh terdapat 3 text A, B, dan C, dimana text nya adalah\n",
    "- A: The Sun is a star\n",
    "- B: My Love is like a red, red rose\n",
    "- C : Mary had a little lamb\n",
    "\n",
    "Untuk mengkonversi teks berikut menjadi bentuk vector menggunakan **CountVectorizer**. Langkah-langkahnya adalah: \n",
    "- Menghitung ukuran dari *vocabulary*. **Vocabulary** adalah jumlah dari kata unik yang ada dari text tersebut. Maka hasil *vocabulary* dari set ketiga text tersebut adalah: *the, sun, is, a, star, my, love, like, red, rose, mary, had, little, lamb*. Secara total, ukuran *vocabulary* adalah 14. \n",
    "- Tidak **include stop words (english)**, seperti *as, is, a, the*, dan sebagainya karena kata tersebut sudah umum sekali. Dengan mengeliminasi *stop words*, maka *clean size vocabulary* kita adalah *like, little, lamb, love, mary, red, rose, sun, star* **(sorted alphabet ascending)**.\n",
    "\n",
    "Dengan menggunakan CountVectorizer, maka hasil yang kita dapatkan adalah sebagai berikut:\n",
    "- A : (0,0,0,0,0,0,0,1,1), terdiri atas **sun:1, star:1**\n",
    "- B : (1,0,0,1,0,2,1,0,0), terdiri atas **like:1, love:1, red:2, rose:1**\n",
    "- C : (0,1,1,0,1,0,0,0,0), terdiri atas **little:1, lamb:1, mary:1**"
   ]
  },
  {
   "cell_type": "code",
   "execution_count": 100,
   "metadata": {
    "colab": {
     "base_uri": "https://localhost:8080/",
     "height": 146
    },
    "id": "5t9wNaQOPs62",
    "outputId": "62b173dc-ce68-40a8-84a7-d579c0538eed"
   },
   "outputs": [
    {
     "name": "stdout",
     "output_type": "stream",
     "text": [
      "(1060, 10026)\n"
     ]
    }
   ],
   "source": [
    "# Create CountVectorizer\n",
    "count = CountVectorizer(stop_words='english')\n",
    "count_matrix = count.fit_transform(feature_df['soup'])\n",
    "\n",
    "print(count_matrix.shape)"
   ]
  },
  {
   "cell_type": "markdown",
   "metadata": {},
   "source": [
    "### **Step 4**"
   ]
  },
  {
   "cell_type": "markdown",
   "metadata": {
    "id": "OVs5tNd2P4c6"
   },
   "source": [
    "Membuat model *similarity* antara **count matrix**. Pada langkah ini, kita akan menghitung **score cosine similarity** dari setiap pasangan judul (berdasarkan semua kombinasi pasangan yang ada, dengan kata lain kita akan membuat 675 x 675 matrix, dimana cell di kolom i dan j menunjukkan *similarity score* antara judul i dan j. Kita dapat dengan mudah melihat bahwa matrix ini simetris dan setiap elemen pada diagonal adalah 1, karena itu adalah *similarity score* dengan dirinya sendiri.\n",
    " \n",
    "Kita akan menggunakan formula **cosine similarity** untuk membuat model. Score ini sangatlah berguna dan mudah untuk dihitung. Formula untuk perhitungan **cosine similarity** antara 2 text, adalah sebagai berikut:\n",
    "\n",
    "$cosine(x,y)=\\frac{x.y^T}{||x||.||y||}$\n",
    "\n",
    "Output yang didapat antara **range -1 sampai 1**. Score yang hampir mencapai 1 artinya kedua entitas tersebut sangatlah mirip sedangkan score yang hampir mencapai -1 artinya kedua entitas tersebut adalah beda."
   ]
  },
  {
   "cell_type": "code",
   "execution_count": 101,
   "metadata": {
    "colab": {
     "base_uri": "https://localhost:8080/",
     "height": 146
    },
    "id": "2O_LFKYEQqdE",
    "outputId": "d6996997-61ec-485b-bd36-a79005be33fd"
   },
   "outputs": [
    {
     "name": "stdout",
     "output_type": "stream",
     "text": [
      "[[1.         0.15430335 0.35355339 ... 0.         0.         0.13608276]\n",
      " [0.15430335 1.         0.10910895 ... 0.         0.         0.        ]\n",
      " [0.35355339 0.10910895 1.         ... 0.         0.08703883 0.09622504]\n",
      " ...\n",
      " [0.         0.         0.         ... 1.         0.         0.        ]\n",
      " [0.         0.         0.08703883 ... 0.         1.         0.10050378]\n",
      " [0.13608276 0.         0.09622504 ... 0.         0.10050378 1.        ]]\n"
     ]
    }
   ],
   "source": [
    "# Using cosine similarity\n",
    "cosine_sim = cosine_similarity(count_matrix, count_matrix)\n",
    "\n",
    "# Print output\n",
    "print(cosine_sim)"
   ]
  },
  {
   "cell_type": "markdown",
   "metadata": {
    "id": "7ZPwRCWdQ6uB"
   },
   "source": [
    "### **Step 5**"
   ]
  },
  {
   "cell_type": "markdown",
   "metadata": {},
   "source": [
    "Selanjutnya yang harus dilakukan adalah **reverse mapping** dengan judul sebagai index nya."
   ]
  },
  {
   "cell_type": "code",
   "execution_count": 102,
   "metadata": {
    "colab": {
     "base_uri": "https://localhost:8080/",
     "height": 835
    },
    "id": "3MyunTQWRGyE",
    "outputId": "04e4a5fc-09bf-40f2-c856-e3388c0fa7ad"
   },
   "outputs": [
    {
     "data": {
      "text/html": [
       "<div>\n",
       "<style scoped>\n",
       "    .dataframe tbody tr th:only-of-type {\n",
       "        vertical-align: middle;\n",
       "    }\n",
       "\n",
       "    .dataframe tbody tr th {\n",
       "        vertical-align: top;\n",
       "    }\n",
       "\n",
       "    .dataframe thead th {\n",
       "        text-align: right;\n",
       "    }\n",
       "</style>\n",
       "<table border=\"1\" class=\"dataframe\">\n",
       "  <thead>\n",
       "    <tr style=\"text-align: right;\">\n",
       "      <th></th>\n",
       "      <th>cast_name</th>\n",
       "      <th>tconst</th>\n",
       "      <th>titleType</th>\n",
       "      <th>primaryTitle</th>\n",
       "      <th>originalTitle</th>\n",
       "      <th>isAdult</th>\n",
       "      <th>startYear</th>\n",
       "      <th>endYear</th>\n",
       "      <th>runtimeMinutes</th>\n",
       "      <th>genres</th>\n",
       "      <th>averageRating</th>\n",
       "      <th>numVotes</th>\n",
       "      <th>director_name</th>\n",
       "      <th>writer_name</th>\n",
       "    </tr>\n",
       "  </thead>\n",
       "  <tbody>\n",
       "    <tr>\n",
       "      <th>344</th>\n",
       "      <td>[Anat Dychtwald]</td>\n",
       "      <td>tt0237123</td>\n",
       "      <td>tvSeries</td>\n",
       "      <td>Coupling</td>\n",
       "      <td>Coupling</td>\n",
       "      <td>0</td>\n",
       "      <td>2000.0</td>\n",
       "      <td>2004.0</td>\n",
       "      <td>30.0</td>\n",
       "      <td>[Comedy, Romance]</td>\n",
       "      <td>8.5</td>\n",
       "      <td>41571</td>\n",
       "      <td>[Martin Dennis]</td>\n",
       "      <td>[Steven Moffat]</td>\n",
       "    </tr>\n",
       "    <tr>\n",
       "      <th>1052</th>\n",
       "      <td>[Metin Namlisesli]</td>\n",
       "      <td>tt9124840</td>\n",
       "      <td>movie</td>\n",
       "      <td>Organik Ask</td>\n",
       "      <td>Organik Ask</td>\n",
       "      <td>0</td>\n",
       "      <td>2018.0</td>\n",
       "      <td>NaN</td>\n",
       "      <td>100.0</td>\n",
       "      <td>[Comedy, Romance]</td>\n",
       "      <td>4.3</td>\n",
       "      <td>89</td>\n",
       "      <td>[Kamil Cetin]</td>\n",
       "      <td>[Volkan Girgin]</td>\n",
       "    </tr>\n",
       "    <tr>\n",
       "      <th>2</th>\n",
       "      <td>[Natalie Talmadge]</td>\n",
       "      <td>tt0014341</td>\n",
       "      <td>movie</td>\n",
       "      <td>Our Hospitality</td>\n",
       "      <td>Our Hospitality</td>\n",
       "      <td>0</td>\n",
       "      <td>1923.0</td>\n",
       "      <td>NaN</td>\n",
       "      <td>65.0</td>\n",
       "      <td>[Comedy, Romance, Thriller]</td>\n",
       "      <td>7.8</td>\n",
       "      <td>9621</td>\n",
       "      <td>[Buster Keaton, John G. Blystone]</td>\n",
       "      <td>[Jean C. Havez, Clyde Bruckman, Joseph A. Mitc...</td>\n",
       "    </tr>\n",
       "    <tr>\n",
       "      <th>24</th>\n",
       "      <td>[Constance De Mattiazzi]</td>\n",
       "      <td>tt0043762</td>\n",
       "      <td>movie</td>\n",
       "      <td>Lullaby of Broadway</td>\n",
       "      <td>Lullaby of Broadway</td>\n",
       "      <td>0</td>\n",
       "      <td>1951.0</td>\n",
       "      <td>NaN</td>\n",
       "      <td>92.0</td>\n",
       "      <td>[Comedy, Musical, Romance]</td>\n",
       "      <td>6.8</td>\n",
       "      <td>893</td>\n",
       "      <td>[David Butler]</td>\n",
       "      <td>[Earl Baldwin]</td>\n",
       "    </tr>\n",
       "    <tr>\n",
       "      <th>398</th>\n",
       "      <td>[Wai Chi Wong]</td>\n",
       "      <td>tt0308670</td>\n",
       "      <td>movie</td>\n",
       "      <td>Oi ching bak min bau</td>\n",
       "      <td>Oi ching bak min bau</td>\n",
       "      <td>0</td>\n",
       "      <td>2001.0</td>\n",
       "      <td>NaN</td>\n",
       "      <td>101.0</td>\n",
       "      <td>[Comedy, Romance]</td>\n",
       "      <td>6.8</td>\n",
       "      <td>47</td>\n",
       "      <td>[Steven Lo]</td>\n",
       "      <td>[Canny Leung, Chi Shan Leung]</td>\n",
       "    </tr>\n",
       "    <tr>\n",
       "      <th>441</th>\n",
       "      <td>[Matthew Fuchs]</td>\n",
       "      <td>tt0396269</td>\n",
       "      <td>movie</td>\n",
       "      <td>Wedding Crashers</td>\n",
       "      <td>Wedding Crashers</td>\n",
       "      <td>0</td>\n",
       "      <td>2005.0</td>\n",
       "      <td>NaN</td>\n",
       "      <td>119.0</td>\n",
       "      <td>[Comedy, Romance]</td>\n",
       "      <td>6.9</td>\n",
       "      <td>323737</td>\n",
       "      <td>[David Dobkin]</td>\n",
       "      <td>[Steve Faber, Bob Fisher]</td>\n",
       "    </tr>\n",
       "    <tr>\n",
       "      <th>142</th>\n",
       "      <td>[Harvey J. Alperin]</td>\n",
       "      <td>tt0094889</td>\n",
       "      <td>movie</td>\n",
       "      <td>Cocktail</td>\n",
       "      <td>Cocktail</td>\n",
       "      <td>0</td>\n",
       "      <td>1988.0</td>\n",
       "      <td>NaN</td>\n",
       "      <td>104.0</td>\n",
       "      <td>[Comedy, Drama, Romance]</td>\n",
       "      <td>5.9</td>\n",
       "      <td>76694</td>\n",
       "      <td>[Roger Donaldson]</td>\n",
       "      <td>[Heywood Gould]</td>\n",
       "    </tr>\n",
       "    <tr>\n",
       "      <th>325</th>\n",
       "      <td>[Tim Horsely]</td>\n",
       "      <td>tt0198284</td>\n",
       "      <td>movie</td>\n",
       "      <td>After Sex</td>\n",
       "      <td>After Sex</td>\n",
       "      <td>0</td>\n",
       "      <td>2000.0</td>\n",
       "      <td>NaN</td>\n",
       "      <td>96.0</td>\n",
       "      <td>[Comedy, Drama, Romance]</td>\n",
       "      <td>4.4</td>\n",
       "      <td>753</td>\n",
       "      <td>[Cameron Thor]</td>\n",
       "      <td>[Thomas M. Kostigen]</td>\n",
       "    </tr>\n",
       "    <tr>\n",
       "      <th>345</th>\n",
       "      <td>[Ngan-Ying Poon]</td>\n",
       "      <td>tt0237501</td>\n",
       "      <td>movie</td>\n",
       "      <td>Ninth Happiness</td>\n",
       "      <td>Gau sing bou hei</td>\n",
       "      <td>0</td>\n",
       "      <td>1998.0</td>\n",
       "      <td>NaN</td>\n",
       "      <td>86.0</td>\n",
       "      <td>[Comedy, Musical, Romance]</td>\n",
       "      <td>5.9</td>\n",
       "      <td>118</td>\n",
       "      <td>[Clifton Ko]</td>\n",
       "      <td>[Raymond To]</td>\n",
       "    </tr>\n",
       "    <tr>\n",
       "      <th>410</th>\n",
       "      <td>[Catherine May]</td>\n",
       "      <td>tt0340109</td>\n",
       "      <td>movie</td>\n",
       "      <td>Fast Food High</td>\n",
       "      <td>Fast Food High</td>\n",
       "      <td>0</td>\n",
       "      <td>2003.0</td>\n",
       "      <td>NaN</td>\n",
       "      <td>92.0</td>\n",
       "      <td>[Comedy, Drama, Romance]</td>\n",
       "      <td>5.2</td>\n",
       "      <td>174</td>\n",
       "      <td>[Nisha Ganatra]</td>\n",
       "      <td>[Tassie Cameron, Jackie May]</td>\n",
       "    </tr>\n",
       "  </tbody>\n",
       "</table>\n",
       "</div>"
      ],
      "text/plain": [
       "                     cast_name     tconst titleType          primaryTitle  \\\n",
       "344           [Anat Dychtwald]  tt0237123  tvSeries              Coupling   \n",
       "1052        [Metin Namlisesli]  tt9124840     movie           Organik Ask   \n",
       "2           [Natalie Talmadge]  tt0014341     movie       Our Hospitality   \n",
       "24    [Constance De Mattiazzi]  tt0043762     movie   Lullaby of Broadway   \n",
       "398             [Wai Chi Wong]  tt0308670     movie  Oi ching bak min bau   \n",
       "441            [Matthew Fuchs]  tt0396269     movie      Wedding Crashers   \n",
       "142        [Harvey J. Alperin]  tt0094889     movie              Cocktail   \n",
       "325              [Tim Horsely]  tt0198284     movie             After Sex   \n",
       "345           [Ngan-Ying Poon]  tt0237501     movie       Ninth Happiness   \n",
       "410            [Catherine May]  tt0340109     movie        Fast Food High   \n",
       "\n",
       "             originalTitle  isAdult  startYear  endYear  runtimeMinutes  \\\n",
       "344               Coupling        0     2000.0   2004.0            30.0   \n",
       "1052           Organik Ask        0     2018.0      NaN           100.0   \n",
       "2          Our Hospitality        0     1923.0      NaN            65.0   \n",
       "24     Lullaby of Broadway        0     1951.0      NaN            92.0   \n",
       "398   Oi ching bak min bau        0     2001.0      NaN           101.0   \n",
       "441       Wedding Crashers        0     2005.0      NaN           119.0   \n",
       "142               Cocktail        0     1988.0      NaN           104.0   \n",
       "325              After Sex        0     2000.0      NaN            96.0   \n",
       "345       Gau sing bou hei        0     1998.0      NaN            86.0   \n",
       "410         Fast Food High        0     2003.0      NaN            92.0   \n",
       "\n",
       "                           genres  averageRating  numVotes  \\\n",
       "344             [Comedy, Romance]            8.5     41571   \n",
       "1052            [Comedy, Romance]            4.3        89   \n",
       "2     [Comedy, Romance, Thriller]            7.8      9621   \n",
       "24     [Comedy, Musical, Romance]            6.8       893   \n",
       "398             [Comedy, Romance]            6.8        47   \n",
       "441             [Comedy, Romance]            6.9    323737   \n",
       "142      [Comedy, Drama, Romance]            5.9     76694   \n",
       "325      [Comedy, Drama, Romance]            4.4       753   \n",
       "345    [Comedy, Musical, Romance]            5.9       118   \n",
       "410      [Comedy, Drama, Romance]            5.2       174   \n",
       "\n",
       "                          director_name  \\\n",
       "344                     [Martin Dennis]   \n",
       "1052                      [Kamil Cetin]   \n",
       "2     [Buster Keaton, John G. Blystone]   \n",
       "24                       [David Butler]   \n",
       "398                         [Steven Lo]   \n",
       "441                      [David Dobkin]   \n",
       "142                   [Roger Donaldson]   \n",
       "325                      [Cameron Thor]   \n",
       "345                        [Clifton Ko]   \n",
       "410                     [Nisha Ganatra]   \n",
       "\n",
       "                                            writer_name  \n",
       "344                                     [Steven Moffat]  \n",
       "1052                                    [Volkan Girgin]  \n",
       "2     [Jean C. Havez, Clyde Bruckman, Joseph A. Mitc...  \n",
       "24                                       [Earl Baldwin]  \n",
       "398                       [Canny Leung, Chi Shan Leung]  \n",
       "441                           [Steve Faber, Bob Fisher]  \n",
       "142                                     [Heywood Gould]  \n",
       "325                                [Thomas M. Kostigen]  \n",
       "345                                        [Raymond To]  \n",
       "410                        [Tassie Cameron, Jackie May]  "
      ]
     },
     "execution_count": 102,
     "metadata": {},
     "output_type": "execute_result"
    }
   ],
   "source": [
    "# Create indices from column title\n",
    "indices = pd.Series(feature_df.index, index=feature_df['title']).drop_duplicates()\n",
    "\n",
    "# Create function recommender system\n",
    "def content_based_recommender(title):\n",
    "    # Get index title\n",
    "    idx = indices[title]\n",
    "    \n",
    "    # Convert array similarity score to list\n",
    "    sim_scores = list(enumerate(cosine_sim[idx]))\n",
    "    # Sort by highest score\n",
    "    sim_scores = sorted(sim_scores, key=lambda x: x[1], reverse=True)\n",
    "    # Get similarity score (index 1 to 11)\n",
    "    sim_scores = sim_scores[1:11]\n",
    "\n",
    "    # Get index title based similarity score\n",
    "    movie_indices = [i[0] for i in sim_scores]\n",
    "    # Get rows with index title\n",
    "    return base_df.iloc[movie_indices]\n",
    "\n",
    "# Apply function recommender system\n",
    "content_based_recommender('The Love Expert')"
   ]
  },
  {
   "cell_type": "markdown",
   "metadata": {},
   "source": [
    "Hasil diatas adalah rekomendasi **10 film terbaik** berdasarkan kemiripan data film **The Love Expert**."
   ]
  }
 ],
 "metadata": {
  "colab": {
   "collapsed_sections": [],
   "name": "Content_Based_Recommender.ipynb",
   "provenance": []
  },
  "kernelspec": {
   "display_name": "Python 3",
   "language": "python",
   "name": "python3"
  },
  "language_info": {
   "codemirror_mode": {
    "name": "ipython",
    "version": 3
   },
   "file_extension": ".py",
   "mimetype": "text/x-python",
   "name": "python",
   "nbconvert_exporter": "python",
   "pygments_lexer": "ipython3",
   "version": "3.8.5"
  }
 },
 "nbformat": 4,
 "nbformat_minor": 1
}
