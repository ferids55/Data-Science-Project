{
 "cells": [
  {
   "cell_type": "markdown",
   "metadata": {},
   "source": [
    "# Credit Risk Modelling"
   ]
  },
  {
   "cell_type": "markdown",
   "metadata": {},
   "source": [
    "# Table of Contents"
   ]
  },
  {
   "cell_type": "markdown",
   "metadata": {},
   "source": [
    "1. [Import Library](#1)\n",
    "2. [Data Preparation](#2)\n",
    "3. [Data Modelling](#3)\n",
    "    - [Logistic Regression](#4)\n",
    "    - [Gradient Boosted Tree using XGBoost](#5)\n",
    "4. [Model Evaluation](#6)\n",
    "5. [Making Strategy](#7)\n"
   ]
  },
  {
   "cell_type": "markdown",
   "metadata": {},
   "source": [
    "# Import Library<a id=\"1\"></a>"
   ]
  },
  {
   "cell_type": "code",
   "execution_count": 1,
   "metadata": {},
   "outputs": [
    {
     "name": "stderr",
     "output_type": "stream",
     "text": [
      "C:\\Users\\Feri\\Anaconda3\\lib\\site-packages\\distributed\\utils.py:133: RuntimeWarning: Couldn't detect a suitable IP address for reaching '8.8.8.8', defaulting to '127.0.0.1': [WinError 10065] A socket operation was attempted to an unreachable host\n",
      "  RuntimeWarning,\n"
     ]
    }
   ],
   "source": [
    "# Load library\n",
    "import numpy as np\n",
    "import pandas as pd\n",
    "import matplotlib.pyplot as plt\n",
    "%matplotlib inline\n",
    "\n",
    "from sklearn.model_selection import train_test_split, cross_val_score\n",
    "from sklearn.linear_model import LogisticRegression\n",
    "import xgboost as xgb\n",
    "\n",
    "from sklearn.metrics import confusion_matrix, classification_report, roc_curve, roc_auc_score\n",
    "from sklearn.metrics import precision_recall_fscore_support\n",
    "from sklearn.calibration import calibration_curve\n",
    "\n",
    "import warnings\n",
    "warnings.filterwarnings('ignore')"
   ]
  },
  {
   "cell_type": "markdown",
   "metadata": {},
   "source": [
    "# Data Preparation<a id=\"2\"></a>"
   ]
  },
  {
   "cell_type": "markdown",
   "metadata": {},
   "source": [
    "<b>Load Dataset</b>"
   ]
  },
  {
   "cell_type": "code",
   "execution_count": 2,
   "metadata": {},
   "outputs": [
    {
     "data": {
      "text/html": [
       "<div>\n",
       "<style scoped>\n",
       "    .dataframe tbody tr th:only-of-type {\n",
       "        vertical-align: middle;\n",
       "    }\n",
       "\n",
       "    .dataframe tbody tr th {\n",
       "        vertical-align: top;\n",
       "    }\n",
       "\n",
       "    .dataframe thead th {\n",
       "        text-align: right;\n",
       "    }\n",
       "</style>\n",
       "<table border=\"1\" class=\"dataframe\">\n",
       "  <thead>\n",
       "    <tr style=\"text-align: right;\">\n",
       "      <th></th>\n",
       "      <th>person_age</th>\n",
       "      <th>person_income</th>\n",
       "      <th>person_emp_length</th>\n",
       "      <th>loan_amnt</th>\n",
       "      <th>loan_int_rate</th>\n",
       "      <th>loan_status</th>\n",
       "      <th>loan_percent_income</th>\n",
       "      <th>cb_person_cred_hist_length</th>\n",
       "      <th>person_home_ownership_MORTGAGE</th>\n",
       "      <th>person_home_ownership_OTHER</th>\n",
       "      <th>person_home_ownership_OWN</th>\n",
       "      <th>person_home_ownership_RENT</th>\n",
       "      <th>loan_intent_DEBTCONSOLIDATION</th>\n",
       "      <th>loan_intent_EDUCATION</th>\n",
       "      <th>loan_intent_HOMEIMPROVEMENT</th>\n",
       "      <th>loan_intent_MEDICAL</th>\n",
       "      <th>loan_intent_PERSONAL</th>\n",
       "      <th>loan_intent_VENTURE</th>\n",
       "      <th>loan_grade</th>\n",
       "      <th>cb_person_default_on_file</th>\n",
       "    </tr>\n",
       "  </thead>\n",
       "  <tbody>\n",
       "    <tr>\n",
       "      <td>0</td>\n",
       "      <td>22.0</td>\n",
       "      <td>59000</td>\n",
       "      <td>14.5</td>\n",
       "      <td>23000</td>\n",
       "      <td>16.02</td>\n",
       "      <td>1</td>\n",
       "      <td>0.44</td>\n",
       "      <td>3.0</td>\n",
       "      <td>0</td>\n",
       "      <td>0</td>\n",
       "      <td>0</td>\n",
       "      <td>1</td>\n",
       "      <td>0</td>\n",
       "      <td>0</td>\n",
       "      <td>0</td>\n",
       "      <td>0</td>\n",
       "      <td>1</td>\n",
       "      <td>0</td>\n",
       "      <td>4</td>\n",
       "      <td>1</td>\n",
       "    </tr>\n",
       "    <tr>\n",
       "      <td>1</td>\n",
       "      <td>21.0</td>\n",
       "      <td>9600</td>\n",
       "      <td>5.0</td>\n",
       "      <td>1000</td>\n",
       "      <td>11.14</td>\n",
       "      <td>0</td>\n",
       "      <td>0.10</td>\n",
       "      <td>2.0</td>\n",
       "      <td>0</td>\n",
       "      <td>0</td>\n",
       "      <td>1</td>\n",
       "      <td>0</td>\n",
       "      <td>0</td>\n",
       "      <td>1</td>\n",
       "      <td>0</td>\n",
       "      <td>0</td>\n",
       "      <td>0</td>\n",
       "      <td>0</td>\n",
       "      <td>6</td>\n",
       "      <td>0</td>\n",
       "    </tr>\n",
       "    <tr>\n",
       "      <td>2</td>\n",
       "      <td>25.0</td>\n",
       "      <td>9600</td>\n",
       "      <td>1.0</td>\n",
       "      <td>5500</td>\n",
       "      <td>12.87</td>\n",
       "      <td>1</td>\n",
       "      <td>0.44</td>\n",
       "      <td>3.0</td>\n",
       "      <td>1</td>\n",
       "      <td>0</td>\n",
       "      <td>0</td>\n",
       "      <td>0</td>\n",
       "      <td>0</td>\n",
       "      <td>0</td>\n",
       "      <td>0</td>\n",
       "      <td>1</td>\n",
       "      <td>0</td>\n",
       "      <td>0</td>\n",
       "      <td>5</td>\n",
       "      <td>0</td>\n",
       "    </tr>\n",
       "    <tr>\n",
       "      <td>3</td>\n",
       "      <td>23.0</td>\n",
       "      <td>65500</td>\n",
       "      <td>4.0</td>\n",
       "      <td>23000</td>\n",
       "      <td>15.23</td>\n",
       "      <td>1</td>\n",
       "      <td>0.44</td>\n",
       "      <td>2.0</td>\n",
       "      <td>0</td>\n",
       "      <td>0</td>\n",
       "      <td>0</td>\n",
       "      <td>1</td>\n",
       "      <td>0</td>\n",
       "      <td>0</td>\n",
       "      <td>0</td>\n",
       "      <td>1</td>\n",
       "      <td>0</td>\n",
       "      <td>0</td>\n",
       "      <td>5</td>\n",
       "      <td>0</td>\n",
       "    </tr>\n",
       "    <tr>\n",
       "      <td>4</td>\n",
       "      <td>24.0</td>\n",
       "      <td>54400</td>\n",
       "      <td>8.0</td>\n",
       "      <td>23000</td>\n",
       "      <td>14.27</td>\n",
       "      <td>1</td>\n",
       "      <td>0.44</td>\n",
       "      <td>4.0</td>\n",
       "      <td>0</td>\n",
       "      <td>0</td>\n",
       "      <td>0</td>\n",
       "      <td>1</td>\n",
       "      <td>0</td>\n",
       "      <td>0</td>\n",
       "      <td>0</td>\n",
       "      <td>1</td>\n",
       "      <td>0</td>\n",
       "      <td>0</td>\n",
       "      <td>5</td>\n",
       "      <td>1</td>\n",
       "    </tr>\n",
       "  </tbody>\n",
       "</table>\n",
       "</div>"
      ],
      "text/plain": [
       "   person_age  person_income  person_emp_length  loan_amnt  loan_int_rate  \\\n",
       "0        22.0          59000               14.5      23000          16.02   \n",
       "1        21.0           9600                5.0       1000          11.14   \n",
       "2        25.0           9600                1.0       5500          12.87   \n",
       "3        23.0          65500                4.0      23000          15.23   \n",
       "4        24.0          54400                8.0      23000          14.27   \n",
       "\n",
       "   loan_status  loan_percent_income  cb_person_cred_hist_length  \\\n",
       "0            1                 0.44                         3.0   \n",
       "1            0                 0.10                         2.0   \n",
       "2            1                 0.44                         3.0   \n",
       "3            1                 0.44                         2.0   \n",
       "4            1                 0.44                         4.0   \n",
       "\n",
       "   person_home_ownership_MORTGAGE  person_home_ownership_OTHER  \\\n",
       "0                               0                            0   \n",
       "1                               0                            0   \n",
       "2                               1                            0   \n",
       "3                               0                            0   \n",
       "4                               0                            0   \n",
       "\n",
       "   person_home_ownership_OWN  person_home_ownership_RENT  \\\n",
       "0                          0                           1   \n",
       "1                          1                           0   \n",
       "2                          0                           0   \n",
       "3                          0                           1   \n",
       "4                          0                           1   \n",
       "\n",
       "   loan_intent_DEBTCONSOLIDATION  loan_intent_EDUCATION  \\\n",
       "0                              0                      0   \n",
       "1                              0                      1   \n",
       "2                              0                      0   \n",
       "3                              0                      0   \n",
       "4                              0                      0   \n",
       "\n",
       "   loan_intent_HOMEIMPROVEMENT  loan_intent_MEDICAL  loan_intent_PERSONAL  \\\n",
       "0                            0                    0                     1   \n",
       "1                            0                    0                     0   \n",
       "2                            0                    1                     0   \n",
       "3                            0                    1                     0   \n",
       "4                            0                    1                     0   \n",
       "\n",
       "   loan_intent_VENTURE  loan_grade  cb_person_default_on_file  \n",
       "0                    0           4                          1  \n",
       "1                    0           6                          0  \n",
       "2                    0           5                          0  \n",
       "3                    0           5                          0  \n",
       "4                    0           5                          1  "
      ]
     },
     "execution_count": 2,
     "metadata": {},
     "output_type": "execute_result"
    }
   ],
   "source": [
    "# Reading file as a dataframe\n",
    "df_loan_prep = pd.read_csv('CR_Loan_Preprocessing.csv')\n",
    "\n",
    "# Print first five rows data\n",
    "df_loan_prep.head()"
   ]
  },
  {
   "cell_type": "markdown",
   "metadata": {},
   "source": [
    "Data di atas adalah data hasil preprocessing pada tahap sebelumnya dan sudah siap untuk dilakukan pemodelan.\n",
    "- person_age : umur seseorang\n",
    "- person_income : pendapatan bulanan\n",
    "- person_emp_length : jangka waktu\n",
    "- loan_amnt : jumlah pinjaman\n",
    "- loan_int_rate : intensitas pinjam\n",
    "- loan_status : status pinjaman\n",
    "- loan_percent_income : bunga pinjaman\n",
    "- cb_person_cred_hist_length : banyak histori pinjaman\n",
    "- person_home_ownership_MORTGAGE : kepemilikan rumah\n",
    "- person_home_ownership_OTHER : kepemilikan rumah\n",
    "- person_home_ownership_OWN : kepemilikan rumah\n",
    "- person_home_ownership_RENT : kepemilikan rumah\n",
    "- loan_intent_DEBTCONSOLIDATION : tujuan pinjam\n",
    "- loan_intent_EDUCATION : tujuan pinjam\n",
    "- loan_intent_HOMEIMPROVEMENT : tujuan pinjam\n",
    "- loan_intent_MEDICAL : tujuan pinjam\n",
    "- loan_intent_PERSONAL : tujuan pinjam\n",
    "- loan_intent_VENTURE : tujuan pinjam\n",
    "- loan_grade : tingkat resiko pinjam\n",
    "- cb_person_default_on_file : kemungkinan gagal"
   ]
  },
  {
   "cell_type": "markdown",
   "metadata": {},
   "source": [
    "<b>Split Train and Test Data</b>"
   ]
  },
  {
   "cell_type": "markdown",
   "metadata": {},
   "source": [
    "Sebelum dilakukan pemodelan, terlebih dahulu kita tentukan data fitur (independent variable) dan data target (dependent variable). Pada kasus ini data target yang digunakan adalah kolom **Loan Status** dan sisa kolom yang ada digunakan sebagai data fitur. Kemudian data akan dibagi menjadi train set untuk pelatihan model dan test set untuk pengujian model."
   ]
  },
  {
   "cell_type": "code",
   "execution_count": 3,
   "metadata": {},
   "outputs": [],
   "source": [
    "# Define feature columns and target\n",
    "X = df_loan_prep.drop('loan_status', axis=1)\n",
    "y = df_loan_prep[['loan_status']]\n",
    "\n",
    "# Spltting data into train and test set\n",
    "X_train, X_test, y_train, y_test = train_test_split(X, y, test_size=.3, random_state=42)"
   ]
  },
  {
   "cell_type": "markdown",
   "metadata": {},
   "source": [
    "# Data Modelling<a id=\"3\"></a>"
   ]
  },
  {
   "cell_type": "markdown",
   "metadata": {},
   "source": [
    "## Logistic Regression<a id=\"4\"></a>"
   ]
  },
  {
   "cell_type": "code",
   "execution_count": 4,
   "metadata": {},
   "outputs": [
    {
     "data": {
      "text/plain": [
       "0.8073657289002557"
      ]
     },
     "execution_count": 4,
     "metadata": {},
     "output_type": "execute_result"
    }
   ],
   "source": [
    "# Train model with Logistic Regression\n",
    "lr = LogisticRegression(solver='lbfgs')\n",
    "lr.fit(X_train, np.ravel(y_train))\n",
    "\n",
    "# Scoring model\n",
    "lr.score(X_test, y_test)"
   ]
  },
  {
   "cell_type": "code",
   "execution_count": 5,
   "metadata": {},
   "outputs": [
    {
     "data": {
      "text/plain": [
       "0.8117161770576283"
      ]
     },
     "execution_count": 5,
     "metadata": {},
     "output_type": "execute_result"
    }
   ],
   "source": [
    "# Validating model\n",
    "np.mean(cross_val_score(lr, X_train, y_train, cv=5))"
   ]
  },
  {
   "cell_type": "markdown",
   "metadata": {},
   "source": [
    "Berdasarkan hasil scoring dan validasi model dapat dikatakan bahwa model yang dibuat dengan Logistic Regression tidak mengalami underfitting dan overfitting saat train dan test data dengan perbedaan akurasi sekitar **0,004 atau 0,4%**."
   ]
  },
  {
   "cell_type": "code",
   "execution_count": 6,
   "metadata": {},
   "outputs": [
    {
     "data": {
      "text/html": [
       "<div>\n",
       "<style scoped>\n",
       "    .dataframe tbody tr th:only-of-type {\n",
       "        vertical-align: middle;\n",
       "    }\n",
       "\n",
       "    .dataframe tbody tr th {\n",
       "        vertical-align: top;\n",
       "    }\n",
       "\n",
       "    .dataframe thead th {\n",
       "        text-align: right;\n",
       "    }\n",
       "</style>\n",
       "<table border=\"1\" class=\"dataframe\">\n",
       "  <thead>\n",
       "    <tr style=\"text-align: right;\">\n",
       "      <th></th>\n",
       "      <th>loan_status</th>\n",
       "      <th>prob_default</th>\n",
       "      <th>pred_loan_status</th>\n",
       "    </tr>\n",
       "  </thead>\n",
       "  <tbody>\n",
       "    <tr>\n",
       "      <td>0</td>\n",
       "      <td>0</td>\n",
       "      <td>0.500799</td>\n",
       "      <td>1</td>\n",
       "    </tr>\n",
       "    <tr>\n",
       "      <td>1</td>\n",
       "      <td>0</td>\n",
       "      <td>0.166184</td>\n",
       "      <td>0</td>\n",
       "    </tr>\n",
       "    <tr>\n",
       "      <td>2</td>\n",
       "      <td>0</td>\n",
       "      <td>0.228650</td>\n",
       "      <td>0</td>\n",
       "    </tr>\n",
       "    <tr>\n",
       "      <td>3</td>\n",
       "      <td>1</td>\n",
       "      <td>0.500844</td>\n",
       "      <td>1</td>\n",
       "    </tr>\n",
       "    <tr>\n",
       "      <td>4</td>\n",
       "      <td>1</td>\n",
       "      <td>0.411088</td>\n",
       "      <td>0</td>\n",
       "    </tr>\n",
       "  </tbody>\n",
       "</table>\n",
       "</div>"
      ],
      "text/plain": [
       "   loan_status  prob_default  pred_loan_status\n",
       "0            0      0.500799                 1\n",
       "1            0      0.166184                 0\n",
       "2            0      0.228650                 0\n",
       "3            1      0.500844                 1\n",
       "4            1      0.411088                 0"
      ]
     },
     "execution_count": 6,
     "metadata": {},
     "output_type": "execute_result"
    }
   ],
   "source": [
    "# Predicting probability of default\n",
    "lr_preds = lr.predict_proba(X_test)\n",
    "\n",
    "# Convert into dataframe\n",
    "lr_prob_df = pd.DataFrame(lr_preds[:,1], columns=['prob_default'])\n",
    "\n",
    "# Concatenate with true labels\n",
    "lr_preds_df = pd.concat([y_test.reset_index(drop=True), lr_prob_df], axis=1)\n",
    "\n",
    "# Predict loan status with threshold 0.50\n",
    "lr_preds_df['pred_loan_status'] = lr_preds_df['prob_default'].apply(lambda x : 1 if x > 0.50 else 0)\n",
    "\n",
    "# Print first five rows\n",
    "lr_preds_df.head()"
   ]
  },
  {
   "cell_type": "code",
   "execution_count": 7,
   "metadata": {},
   "outputs": [
    {
     "name": "stdout",
     "output_type": "stream",
     "text": [
      "[[7461  152]\n",
      " [1731  431]]\n"
     ]
    }
   ],
   "source": [
    "# Print confusion matrix\n",
    "print(confusion_matrix(y_test, lr_preds_df['pred_loan_status']))"
   ]
  },
  {
   "cell_type": "markdown",
   "metadata": {},
   "source": [
    "Dari confusion matrix diatas didapatkan :\n",
    "- True Positive = 431\n",
    "- False Positive = 152\n",
    "- False Negative = 1731\n",
    "- True Negative = 7461 "
   ]
  },
  {
   "cell_type": "code",
   "execution_count": 8,
   "metadata": {},
   "outputs": [
    {
     "name": "stdout",
     "output_type": "stream",
     "text": [
      "              precision    recall  f1-score   support\n",
      "\n",
      " Non-Default       0.81      0.98      0.89      7613\n",
      "     Default       0.74      0.20      0.31      2162\n",
      "\n",
      "    accuracy                           0.81      9775\n",
      "   macro avg       0.78      0.59      0.60      9775\n",
      "weighted avg       0.80      0.81      0.76      9775\n",
      "\n"
     ]
    }
   ],
   "source": [
    "# Print classification report\n",
    "target_names = ['Non-Default', 'Default']\n",
    "print(classification_report(y_test,lr_preds_df['pred_loan_status'], target_names=target_names))"
   ]
  },
  {
   "cell_type": "code",
   "execution_count": 9,
   "metadata": {},
   "outputs": [
    {
     "name": "stdout",
     "output_type": "stream",
     "text": [
      "0.19935245143385755\n"
     ]
    }
   ],
   "source": [
    "# Get recall value of default\n",
    "print(precision_recall_fscore_support(y_test, lr_preds_df['pred_loan_status'])[1][1])"
   ]
  },
  {
   "cell_type": "markdown",
   "metadata": {},
   "source": [
    "Karena pada kasus ini merupakan pemodelan credit risk maka metrics Recall akan dijadikan acuan. Hal ini dikarenakan lebih baik diprediksi DEFAULT walaupun aktual nya NON DEFAULT daripada diprediksi NON DEFAULT tetapi kenyataan malah DEFAULT karena lebih merugikan dari segi finansial. Nilai recall diatas dapat dikatakan bahwa model mampu memprediksi status pinjam sekitar 0.20 atau 20% akan DEFAULT."
   ]
  },
  {
   "cell_type": "code",
   "execution_count": 10,
   "metadata": {},
   "outputs": [
    {
     "data": {
      "text/plain": [
       "0    9192\n",
       "1     583\n",
       "Name: pred_loan_status, dtype: int64"
      ]
     },
     "execution_count": 10,
     "metadata": {},
     "output_type": "execute_result"
    }
   ],
   "source": [
    "# Check number of prediction loan status\n",
    "lr_preds_df['pred_loan_status'].value_counts()"
   ]
  },
  {
   "cell_type": "code",
   "execution_count": 11,
   "metadata": {},
   "outputs": [
    {
     "name": "stdout",
     "output_type": "stream",
     "text": [
      "Hasil nilai recall 20% kita bisa menghemat finansial sekitar $4391293.230678958\n"
     ]
    }
   ],
   "source": [
    "# Store average of loan amounts\n",
    "avg_loan_amnt = df_loan_prep['loan_amnt'].mean()\n",
    "# Store the number of loan defaults from the prediction data\n",
    "lr_defaults = lr_preds_df['pred_loan_status'].value_counts()[1]\n",
    "\n",
    "# Store the default recall from the classification report\n",
    "lr_default_recall = precision_recall_fscore_support(y_test,lr_preds_df['pred_loan_status'])[1][1]\n",
    "\n",
    "# Calculate the estimated impact of the new default recall rate\n",
    "lr_estimate = avg_loan_amnt * lr_defaults * (1 - lr_default_recall)\n",
    "print(f'Hasil nilai recall 20% kita bisa menghemat finansial sekitar ${lr_estimate}')"
   ]
  },
  {
   "cell_type": "markdown",
   "metadata": {},
   "source": [
    "## Gradient Boosted Trees using XGBoost<a id=\"5\"></a>"
   ]
  },
  {
   "cell_type": "code",
   "execution_count": 12,
   "metadata": {},
   "outputs": [
    {
     "data": {
      "text/plain": [
       "0.9352429667519182"
      ]
     },
     "execution_count": 12,
     "metadata": {},
     "output_type": "execute_result"
    }
   ],
   "source": [
    "# Train model with XGBoost\n",
    "gbt = xgb.XGBClassifier()\n",
    "gbt.fit(X_train, np.ravel(y_train))\n",
    "\n",
    "# Scoring model\n",
    "gbt.score(X_test, y_test)"
   ]
  },
  {
   "cell_type": "code",
   "execution_count": 13,
   "metadata": {},
   "outputs": [
    {
     "data": {
      "text/plain": [
       "0.9351484350526897"
      ]
     },
     "execution_count": 13,
     "metadata": {},
     "output_type": "execute_result"
    }
   ],
   "source": [
    "# Validating model\n",
    "np.mean(cross_val_score(gbt, X_train, y_train, cv=5))"
   ]
  },
  {
   "cell_type": "markdown",
   "metadata": {},
   "source": [
    "Berdasarkan hasil scoring dan validasi model dapat dikatakan bahwa model yang dibuat dengan XGBoost Classifier tidak mengalami underfitting dan overfitting saat train dan test data dengan perbedaan akurasi sekitar **0,0001 atau 0,01%**."
   ]
  },
  {
   "cell_type": "code",
   "execution_count": 14,
   "metadata": {},
   "outputs": [
    {
     "data": {
      "text/html": [
       "<div>\n",
       "<style scoped>\n",
       "    .dataframe tbody tr th:only-of-type {\n",
       "        vertical-align: middle;\n",
       "    }\n",
       "\n",
       "    .dataframe tbody tr th {\n",
       "        vertical-align: top;\n",
       "    }\n",
       "\n",
       "    .dataframe thead th {\n",
       "        text-align: right;\n",
       "    }\n",
       "</style>\n",
       "<table border=\"1\" class=\"dataframe\">\n",
       "  <thead>\n",
       "    <tr style=\"text-align: right;\">\n",
       "      <th></th>\n",
       "      <th>loan_status</th>\n",
       "      <th>prob_default</th>\n",
       "      <th>pred_loan_status</th>\n",
       "    </tr>\n",
       "  </thead>\n",
       "  <tbody>\n",
       "    <tr>\n",
       "      <td>0</td>\n",
       "      <td>0</td>\n",
       "      <td>0.000332</td>\n",
       "      <td>0</td>\n",
       "    </tr>\n",
       "    <tr>\n",
       "      <td>1</td>\n",
       "      <td>0</td>\n",
       "      <td>0.450696</td>\n",
       "      <td>0</td>\n",
       "    </tr>\n",
       "    <tr>\n",
       "      <td>2</td>\n",
       "      <td>0</td>\n",
       "      <td>0.055941</td>\n",
       "      <td>0</td>\n",
       "    </tr>\n",
       "    <tr>\n",
       "      <td>3</td>\n",
       "      <td>1</td>\n",
       "      <td>0.994388</td>\n",
       "      <td>1</td>\n",
       "    </tr>\n",
       "    <tr>\n",
       "      <td>4</td>\n",
       "      <td>1</td>\n",
       "      <td>0.951896</td>\n",
       "      <td>1</td>\n",
       "    </tr>\n",
       "  </tbody>\n",
       "</table>\n",
       "</div>"
      ],
      "text/plain": [
       "   loan_status  prob_default  pred_loan_status\n",
       "0            0      0.000332                 0\n",
       "1            0      0.450696                 0\n",
       "2            0      0.055941                 0\n",
       "3            1      0.994388                 1\n",
       "4            1      0.951896                 1"
      ]
     },
     "execution_count": 14,
     "metadata": {},
     "output_type": "execute_result"
    }
   ],
   "source": [
    "# Predicting probability of default\n",
    "gbt_preds = gbt.predict_proba(X_test)\n",
    "\n",
    "# Convert into dataframe\n",
    "gbt_prob_df = pd.DataFrame(gbt_preds[:,1], columns=['prob_default'])\n",
    "\n",
    "# Concatenante with test label\n",
    "gbt_preds_df = pd.concat([y_test.reset_index(drop=True), gbt_prob_df], axis=1)\n",
    "\n",
    "# Predict with threshold 0.50\n",
    "gbt_preds_df['pred_loan_status'] = gbt_preds_df['prob_default'].apply(lambda x : 1 if x > 0.50 else 0)\n",
    "\n",
    "# Print first five rows\n",
    "gbt_preds_df.head()"
   ]
  },
  {
   "cell_type": "code",
   "execution_count": 15,
   "metadata": {},
   "outputs": [
    {
     "name": "stdout",
     "output_type": "stream",
     "text": [
      "[[7524   89]\n",
      " [ 544 1618]]\n"
     ]
    }
   ],
   "source": [
    "# Print confusion matrix\n",
    "print(confusion_matrix(y_test, gbt_preds_df['pred_loan_status']))"
   ]
  },
  {
   "cell_type": "markdown",
   "metadata": {},
   "source": [
    "Dari confusion matrix di atas dapat disimpulkan :\n",
    "- True Positive = 1618\n",
    "- False Positive = 89\n",
    "- False Negative = 544\n",
    "- True Negative = 7524"
   ]
  },
  {
   "cell_type": "code",
   "execution_count": 16,
   "metadata": {},
   "outputs": [
    {
     "name": "stdout",
     "output_type": "stream",
     "text": [
      "              precision    recall  f1-score   support\n",
      "\n",
      " Non-Default       0.93      0.99      0.96      7613\n",
      "     Default       0.95      0.75      0.84      2162\n",
      "\n",
      "    accuracy                           0.94      9775\n",
      "   macro avg       0.94      0.87      0.90      9775\n",
      "weighted avg       0.94      0.94      0.93      9775\n",
      "\n"
     ]
    }
   ],
   "source": [
    "# Print classification report\n",
    "print(classification_report(y_test, gbt_preds_df['pred_loan_status'], target_names=target_names))"
   ]
  },
  {
   "cell_type": "code",
   "execution_count": 17,
   "metadata": {},
   "outputs": [
    {
     "name": "stdout",
     "output_type": "stream",
     "text": [
      "0.7483811285846439\n"
     ]
    }
   ],
   "source": [
    "# Get recall value of default\n",
    "print(precision_recall_fscore_support(y_test, gbt_preds_df['pred_loan_status'])[1][1])"
   ]
  },
  {
   "cell_type": "markdown",
   "metadata": {},
   "source": [
    "Nilai tersebut menunjukkan sekitar 0.75 atau 75% dari pemodelan dengan XGBoost dapat memprediksi status pinjaman akan DEFAULT"
   ]
  },
  {
   "cell_type": "code",
   "execution_count": 18,
   "metadata": {},
   "outputs": [
    {
     "data": {
      "text/plain": [
       "{'loan_percent_income': 318,\n",
       " 'loan_grade': 155,\n",
       " 'person_emp_length': 287,\n",
       " 'person_home_ownership_RENT': 76,\n",
       " 'loan_intent_MEDICAL': 81,\n",
       " 'loan_intent_DEBTCONSOLIDATION': 70,\n",
       " 'person_home_ownership_OWN': 60,\n",
       " 'person_income': 868,\n",
       " 'loan_int_rate': 543,\n",
       " 'loan_intent_HOMEIMPROVEMENT': 45,\n",
       " 'loan_intent_PERSONAL': 42,\n",
       " 'loan_intent_VENTURE': 35,\n",
       " 'person_home_ownership_OTHER': 3,\n",
       " 'person_home_ownership_MORTGAGE': 62,\n",
       " 'loan_amnt': 376,\n",
       " 'person_age': 289,\n",
       " 'cb_person_cred_hist_length': 148,\n",
       " 'loan_intent_EDUCATION': 35,\n",
       " 'cb_person_default_on_file': 32}"
      ]
     },
     "execution_count": 18,
     "metadata": {},
     "output_type": "execute_result"
    }
   ],
   "source": [
    "# Print the column importances from the model\n",
    "gbt.get_booster().get_score(importance_type = 'weight')"
   ]
  },
  {
   "cell_type": "code",
   "execution_count": 19,
   "metadata": {},
   "outputs": [
    {
     "data": {
      "text/plain": [
       "<matplotlib.axes._subplots.AxesSubplot at 0x212ad739d48>"
      ]
     },
     "execution_count": 19,
     "metadata": {},
     "output_type": "execute_result"
    },
    {
     "data": {
      "image/png": "[encoded data removed]",
      "text/plain": [
       "<Figure size 432x288 with 1 Axes>"
      ]
     },
     "metadata": {
      "needs_background": "light"
     },
     "output_type": "display_data"
    }
   ],
   "source": [
    "# Plot the column importance for this model\n",
    "xgb.plot_importance(gbt, importance_type = 'weight')"
   ]
  },
  {
   "cell_type": "code",
   "execution_count": 20,
   "metadata": {},
   "outputs": [
    {
     "name": "stdout",
     "output_type": "stream",
     "text": [
      "   train-auc-mean  train-auc-std  test-auc-mean  test-auc-std\n",
      "0        0.905509       0.002284       0.901038      0.007755\n",
      "1        0.914522       0.004125       0.911000      0.008426\n",
      "2        0.919226       0.000882       0.914538      0.009438\n",
      "3        0.922152       0.001254       0.917374      0.009555\n",
      "4        0.925034       0.000964       0.919908      0.008347\n"
     ]
    }
   ],
   "source": [
    "# Set the values for number of folds and stopping iterations\n",
    "n_folds = 5\n",
    "early_stopping = 10\n",
    "\n",
    "# Set any specific parameters for cross validation\n",
    "params = {'objective': 'binary:logistic','seed': 99, 'eval_metric':'auc'}\n",
    "\n",
    "# Create the DTrain matrix for XGBoost\n",
    "DTrain = xgb.DMatrix(X_train, label = y_train)\n",
    "\n",
    "# Create the data frame of cross validations\n",
    "cv_df = xgb.cv(params, DTrain, num_boost_round = 5, nfold=n_folds,\n",
    "            early_stopping_rounds=early_stopping)\n",
    "\n",
    "# Print the cross validations data frame\n",
    "print(cv_df)"
   ]
  },
  {
   "cell_type": "code",
   "execution_count": 21,
   "metadata": {},
   "outputs": [],
   "source": [
    "# cv_results_big = xgb.cv(params, DTrain, num_boost_round = 600, nfold=10, shuffle = True)\n",
    "\n",
    "# # Print the first five rows of the CV results data frame\n",
    "# print(cv_results_big.head())\n",
    "\n",
    "# # Plot the test AUC scores for each iteration\n",
    "# plt.plot(cv_results_big['test-auc-mean'])\n",
    "# plt.title('Test AUC Score Over 600 Iterations')\n",
    "# plt.xlabel('Iteration Number')\n",
    "# plt.ylabel('Test AUC Score')"
   ]
  },
  {
   "cell_type": "markdown",
   "metadata": {},
   "source": [
    "<b>Undersampling Imbalance Dataset</b>\n",
    "\n",
    "Undersampling dapat digunakan untuk mengatasi imbalance data. Pada kasus ini jumlah data loan status NON DEFAULT memiliki jumlah yang lebih tinggi dibandingkan DEFAULT. Dengan undersampling kita mengambil sample dari data NON DEFAULT untuk digabungkan dengan DEFAULT dimana proprosi data akan menjadi 50:50."
   ]
  },
  {
   "cell_type": "code",
   "execution_count": 22,
   "metadata": {},
   "outputs": [
    {
     "data": {
      "text/plain": [
       "0    0.783127\n",
       "1    0.216873\n",
       "Name: loan_status, dtype: float64"
      ]
     },
     "execution_count": 22,
     "metadata": {},
     "output_type": "execute_result"
    }
   ],
   "source": [
    "# Check number of loan status train data\n",
    "y_train['loan_status'].value_counts(normalize=True)"
   ]
  },
  {
   "cell_type": "code",
   "execution_count": 23,
   "metadata": {},
   "outputs": [
    {
     "name": "stdout",
     "output_type": "stream",
     "text": [
      "1    4946\n",
      "0    4946\n",
      "Name: loan_status, dtype: int64\n"
     ]
    }
   ],
   "source": [
    "# Concate X_train and y_train\n",
    "X_y_train = pd.concat([X_train.reset_index(drop = True),\n",
    "                       y_train.reset_index(drop = True)], axis = 1)\n",
    "count_nondefault, count_default = X_y_train['loan_status'].value_counts()\n",
    "\n",
    "# Create data sets for defaults and non-defaults\n",
    "nondefaults = X_y_train[X_y_train['loan_status'] == 0]\n",
    "defaults = X_y_train[X_y_train['loan_status'] == 1]\n",
    "\n",
    "# Undersample the non-defaults\n",
    "nondefaults_under = nondefaults.sample(count_default)\n",
    "\n",
    "# Concatenate the undersampled nondefaults with defaults\n",
    "X_y_train_under = pd.concat([nondefaults_under.reset_index(drop = True),\n",
    "                             defaults.reset_index(drop = True)], axis = 0)\n",
    "\n",
    "# Print the value counts for loan status\n",
    "print(X_y_train_under['loan_status'].value_counts())"
   ]
  },
  {
   "cell_type": "code",
   "execution_count": 24,
   "metadata": {},
   "outputs": [],
   "source": [
    "# Splitting new train set after undersampling\n",
    "X2_train = X_y_train_under.drop('loan_status', axis=1)\n",
    "y2_train = X_y_train_under[['loan_status']]"
   ]
  },
  {
   "cell_type": "code",
   "execution_count": 25,
   "metadata": {},
   "outputs": [
    {
     "name": "stdout",
     "output_type": "stream",
     "text": [
      "              precision    recall  f1-score   support\n",
      "\n",
      " Non-Default       0.93      0.99      0.96      7613\n",
      "     Default       0.95      0.75      0.84      2162\n",
      "\n",
      "    accuracy                           0.94      9775\n",
      "   macro avg       0.94      0.87      0.90      9775\n",
      "weighted avg       0.94      0.94      0.93      9775\n",
      "\n",
      "              precision    recall  f1-score   support\n",
      "\n",
      " Non-Default       0.95      0.92      0.93      7613\n",
      "     Default       0.74      0.85      0.79      2162\n",
      "\n",
      "    accuracy                           0.90      9775\n",
      "   macro avg       0.85      0.88      0.86      9775\n",
      "weighted avg       0.91      0.90      0.90      9775\n",
      "\n"
     ]
    }
   ],
   "source": [
    "# Prediction old model\n",
    "gbt1 = xgb.XGBClassifier().fit(X_train, np.ravel(y_train))\n",
    "gbt1_pred = gbt1.predict(X_test)\n",
    "\n",
    "# Prediction new model\n",
    "gbt2 = xgb.XGBClassifier().fit(X2_train, np.ravel(y2_train))\n",
    "gbt2_pred = gbt2.predict(X_test)\n",
    "\n",
    "# Check the classification reports\n",
    "target_names = ['Non-Default', 'Default']\n",
    "print(classification_report(y_test, gbt1_pred, target_names=target_names))\n",
    "print(classification_report(y_test, gbt2_pred, target_names=target_names))\n"
   ]
  },
  {
   "cell_type": "code",
   "execution_count": 26,
   "metadata": {},
   "outputs": [
    {
     "name": "stdout",
     "output_type": "stream",
     "text": [
      "[[7524   89]\n",
      " [ 544 1618]]\n",
      "[[6972  641]\n",
      " [ 335 1827]]\n"
     ]
    }
   ],
   "source": [
    "# Print the confusion matrix for both old and new models\n",
    "print(confusion_matrix(y_test,gbt1_pred))\n",
    "print(confusion_matrix(y_test,gbt2_pred))"
   ]
  },
  {
   "cell_type": "code",
   "execution_count": 27,
   "metadata": {},
   "outputs": [
    {
     "name": "stdout",
     "output_type": "stream",
     "text": [
      "0.8683452996134832\n",
      "0.8804263982940715\n"
     ]
    }
   ],
   "source": [
    "# Print and compare the AUC scores of the old and new models\n",
    "print(roc_auc_score(y_test, gbt1_pred))\n",
    "print(roc_auc_score(y_test, gbt2_pred))"
   ]
  },
  {
   "cell_type": "markdown",
   "metadata": {},
   "source": [
    "Setelah training set dilakukan undersampling, performa model prediksi tidak hanya berefek pada kemungkinan DEFAULT pada test set tetapi juga scoring pada pinjaman baru yang masuk. Kita bisa lihat nilai recall dan auc score pada dataset baru sedikit lebih tinggi dibandingkan sebelumnya tetapi jumlah False Positive lebih tinggi. Artinya sebuah pinjaman DEFAULT diprediksi NON DEFAULT dapat lebih merugikan. Karena umumnya pada real case sering ditemukan imbalance data, maka pada kasus ini tetap digunakan data awal."
   ]
  },
  {
   "cell_type": "markdown",
   "metadata": {},
   "source": [
    "# Model Evaluation<a id=\"6\"></a>"
   ]
  },
  {
   "cell_type": "markdown",
   "metadata": {},
   "source": [
    "Sebelumnya kita telah membandingkan model Logistic Regression dengan XGBoost Classifier dalam memprediksi gagal bayar pada pinjaman. Salah satu cara termudah adalah melihat metrics yang dihasilkan dari classification report keduanya."
   ]
  },
  {
   "cell_type": "markdown",
   "metadata": {},
   "source": [
    "<b>Comparing Model Reports</b>"
   ]
  },
  {
   "cell_type": "code",
   "execution_count": 28,
   "metadata": {},
   "outputs": [
    {
     "name": "stdout",
     "output_type": "stream",
     "text": [
      "0.6009877578936359\n",
      "0.8980122545011653\n"
     ]
    }
   ],
   "source": [
    "# Print the default F-1 scores for the logistic regression\n",
    "print(precision_recall_fscore_support(y_test,lr_preds_df['pred_loan_status'], average = 'macro')[2])\n",
    "\n",
    "# Print the default F-1 scores for the gradient boosted tree\n",
    "print(precision_recall_fscore_support(y_test,gbt_preds_df['pred_loan_status'], average = 'macro')[2])"
   ]
  },
  {
   "cell_type": "markdown",
   "metadata": {},
   "source": [
    "Dari nilai F1 score keduanya terlihat jelas bahwa model Gradient Boosted Tree lebih unggul dibandingkan model Logistic Rregression."
   ]
  },
  {
   "cell_type": "markdown",
   "metadata": {},
   "source": [
    "<b>Comparing with ROC's</b>"
   ]
  },
  {
   "cell_type": "markdown",
   "metadata": {},
   "source": [
    "Selain itu kita juga harus membandingkan dengan ROC chart dan AUC score dari kedua model tersebut agar lebih meyakinkan"
   ]
  },
  {
   "cell_type": "code",
   "execution_count": 29,
   "metadata": {
    "scrolled": true
   },
   "outputs": [
    {
     "data": {
      "image/png": "[encoded data removed]",
      "text/plain": [
       "<Figure size 576x360 with 1 Axes>"
      ]
     },
     "metadata": {
      "needs_background": "light"
     },
     "output_type": "display_data"
    }
   ],
   "source": [
    "# ROC chart components\n",
    "fallout_lr, sensitivity_lr, thresholds_lr = roc_curve(y_test, lr_preds[:,1])\n",
    "fallout_gbt, sensitivity_gbt, thresholds_gbt = roc_curve(y_test, gbt_preds[:,1])\n",
    "\n",
    "# ROC Chart with both\n",
    "plt.figure(figsize=(8,5))\n",
    "plt.plot(fallout_lr, sensitivity_lr, color = 'blue', label='%s' % 'Logistic Regression')\n",
    "plt.plot(fallout_gbt, sensitivity_gbt, color = 'green', label='%s' % 'Gradient Boosted Tree')\n",
    "plt.plot([0, 1], [0, 1], linestyle='--', label='%s' % 'Random Prediction')\n",
    "plt.title(\"ROC Chart for LR and GBT on the Probability of Default\")\n",
    "plt.xlabel('Fall-out')\n",
    "plt.ylabel('Sensitivity')\n",
    "plt.legend()\n",
    "plt.show()"
   ]
  },
  {
   "cell_type": "code",
   "execution_count": 30,
   "metadata": {},
   "outputs": [
    {
     "name": "stdout",
     "output_type": "stream",
     "text": [
      "Logistic Regression AUC Score: 0.76\n",
      "Gradient Boosted Tree AUC Score: 0.95\n"
     ]
    }
   ],
   "source": [
    "# Print the logistic regression AUC with formatting\n",
    "print(\"Logistic Regression AUC Score: %0.2f\" % roc_auc_score(y_test, lr_preds[:,1]))\n",
    "\n",
    "# Print the gradient boosted tree AUC with formatting\n",
    "print(\"Gradient Boosted Tree AUC Score: %0.2f\" % roc_auc_score(y_test, gbt_preds[:,1]))"
   ]
  },
  {
   "cell_type": "markdown",
   "metadata": {},
   "source": [
    "Berdasarkan perbandingan ROC curve dan AUC score terlihat jelas bahwa model Gradient Boosted Tree dapat dipilih untuk prediksi gagal bayar pinjaman."
   ]
  },
  {
   "cell_type": "markdown",
   "metadata": {},
   "source": [
    "<b>Calibration Curve</b>"
   ]
  },
  {
   "cell_type": "code",
   "execution_count": 31,
   "metadata": {},
   "outputs": [
    {
     "data": {
      "image/png": "[encoded data removed]",
      "text/plain": [
       "<Figure size 576x576 with 1 Axes>"
      ]
     },
     "metadata": {
      "needs_background": "light"
     },
     "output_type": "display_data"
    }
   ],
   "source": [
    "# Setting calibration models\n",
    "mean_pred_val_lr, frac_of_pos_lr = calibration_curve(y_test, lr_preds[:,1], n_bins=20, normalize=True)\n",
    "mean_pred_val_gbt, frac_of_pos_gbt = calibration_curve(y_test, gbt_preds[:,1], n_bins=20, normalize=True)\n",
    "\n",
    "# Add the calibration curve for the gradient boosted tree\n",
    "plt.figure(figsize=(8,8))\n",
    "plt.plot([0, 1], [0, 1], 'k:', label='Perfectly calibrated')    \n",
    "plt.plot(mean_pred_val_lr, frac_of_pos_lr,\n",
    "         's-', label='%s' % 'Logistic Regression')\n",
    "plt.plot(mean_pred_val_gbt, frac_of_pos_gbt,\n",
    "         's-', label='%s' % 'Gradient Boosted Tree')\n",
    "plt.ylabel('Fraction of positives')\n",
    "plt.xlabel('Average Predicted Probability')\n",
    "plt.legend()\n",
    "plt.title('Calibration Curve')\n",
    "plt.show()"
   ]
  },
  {
   "cell_type": "markdown",
   "metadata": {},
   "source": [
    "# Making Strategy<a id=\"7\"></a>"
   ]
  },
  {
   "cell_type": "markdown",
   "metadata": {},
   "source": [
    "<b>Acceptance Rate</b>"
   ]
  },
  {
   "cell_type": "markdown",
   "metadata": {},
   "source": [
    "Acceptance Rate adalah persentase dalam menyetujui pinjaman yang baru masuk, untuk kasus ini test set dianggap sebagai pinjaman yang baru dengan batas pemisah (threshold) yang akan disesuaikan."
   ]
  },
  {
   "cell_type": "markdown",
   "metadata": {},
   "source": [
    "<b>Bad Rate</b>"
   ]
  },
  {
   "cell_type": "markdown",
   "metadata": {},
   "source": [
    "Bad Rate adalah persentase DEFAULT dalam pinjaman baru yang disetujui. Dimana kita harus memilih bad rate terkecil untuk menghemat dari segi finansial walaupun jumlah pinjaman yang disetujui akan semakin sedikit."
   ]
  },
  {
   "cell_type": "markdown",
   "metadata": {},
   "source": [
    "Sebagai contoh, jika kita memilih acceptance rate 85% pinjaman disetujui maka 15% pinjaman akan ditolak. Dari pinjaman yang disetujui tersebut terdapat bad rate mungkin 8% akan DEFAULT. Lalu dapat kita hitung biaya yang akan dikeluarkan."
   ]
  },
  {
   "cell_type": "code",
   "execution_count": 32,
   "metadata": {},
   "outputs": [
    {
     "name": "stdout",
     "output_type": "stream",
     "text": [
      "    Acceptance Rate  Threshold  Bad Rate\n",
      "0              1.00      1.000     0.221\n",
      "1              0.95      0.998     0.185\n",
      "2              0.90      0.992     0.134\n",
      "3              0.85      0.907     0.084\n",
      "4              0.80      0.323     0.056\n",
      "5              0.75      0.194     0.045\n",
      "6              0.70      0.130     0.038\n",
      "7              0.65      0.097     0.031\n",
      "8              0.60      0.072     0.027\n",
      "9              0.55      0.055     0.022\n",
      "10             0.50      0.042     0.019\n",
      "11             0.45      0.032     0.016\n",
      "12             0.40      0.024     0.014\n",
      "13             0.35      0.018     0.011\n",
      "14             0.30      0.012     0.010\n",
      "15             0.25      0.008     0.007\n",
      "16             0.20      0.005     0.004\n",
      "17             0.15      0.002     0.002\n",
      "18             0.10      0.001     0.001\n",
      "19             0.05      0.000     0.000\n"
     ]
    }
   ],
   "source": [
    "# Setting Gradient Boosted Tree for making strategy\n",
    "test_pred_df = gbt_preds_df.copy()\n",
    "\n",
    "# Define list of accept rates\n",
    "accept_rates = [1.0,0.95,0.9,0.85,0.8,0.75,0.7,0.65,0.6,0.55,\n",
    "                0.5,0.45,0.4,0.35,0.3,0.25,0.2,0.15,0.1,0.05]\n",
    "thresholds = []\n",
    "bad_rates = []\n",
    "\n",
    "# Populate the arrays for the strategy table with a for loop\n",
    "for rate in accept_rates:\n",
    "    # Calculate the threshold for the acceptance rate\n",
    "    thresh = np.quantile(test_pred_df['prob_default'], rate).round(3)\n",
    "    # Add the threshold value to the list of thresholds\n",
    "    thresholds.append(np.quantile(test_pred_df['prob_default'], rate).round(3))\n",
    "    # Reassign the loan_status value using the threshold\n",
    "    test_pred_df['pred_loan_status'] = test_pred_df['prob_default'].apply(lambda x: 1 if x > thresh else 0)\n",
    "    # Create a set of accepted loans using this acceptance rate\n",
    "    accepted_loans = test_pred_df[test_pred_df['pred_loan_status'] == 0]\n",
    "    # Calculate and append the bad rate using the acceptance rate\n",
    "    bad_rates.append(np.sum((accepted_loans['loan_status']) / len(accepted_loans['loan_status'])).round(3))\n",
    "\n",
    "# Create a data frame of the strategy table\n",
    "strat_df = pd.DataFrame(zip(accept_rates, thresholds, bad_rates),\n",
    "                        columns = ['Acceptance Rate','Threshold','Bad Rate'])\n",
    "\n",
    "# Print the entire table\n",
    "print(strat_df)"
   ]
  },
  {
   "cell_type": "code",
   "execution_count": 33,
   "metadata": {},
   "outputs": [
    {
     "data": {
      "text/plain": [
       "<matplotlib.axes._subplots.AxesSubplot at 0x212ae941748>"
      ]
     },
     "execution_count": 33,
     "metadata": {},
     "output_type": "execute_result"
    },
    {
     "data": {
      "image/png": "[encoded data removed]",
      "text/plain": [
       "<Figure size 432x288 with 1 Axes>"
      ]
     },
     "metadata": {
      "needs_background": "light"
     },
     "output_type": "display_data"
    }
   ],
   "source": [
    "# Visualize the distributions in the strategy table with a boxplot\n",
    "strat_df.boxplot()"
   ]
  },
  {
   "cell_type": "code",
   "execution_count": 34,
   "metadata": {},
   "outputs": [
    {
     "data": {
      "image/png": "[encoded data removed]",
      "text/plain": [
       "<Figure size 432x288 with 1 Axes>"
      ]
     },
     "metadata": {
      "needs_background": "light"
     },
     "output_type": "display_data"
    }
   ],
   "source": [
    "# Plot the strategy curve\n",
    "plt.plot(strat_df['Acceptance Rate'], strat_df['Bad Rate'], marker='.')\n",
    "plt.xlabel('Acceptance Rate')\n",
    "plt.ylabel('Bad Rate')\n",
    "plt.title('Acceptance and Bad Rates')\n",
    "plt.axes().yaxis.grid()\n",
    "plt.axes().xaxis.grid()\n",
    "plt.show()"
   ]
  },
  {
   "cell_type": "markdown",
   "metadata": {},
   "source": [
    "Boxplot untuk melihat perbedaan antara Acceptance Rate, Threshold, dan Bad Rate. Jika Acceptance Rate dan Bad Rate memiliki persamaan maka dikatakan masalah terhadap model yang dibuat. Pada kurva di atas Bad Rate semakin naik karena Accepted Rate naik. Terlihat bad rate cukup rendah sampai pada acceptance rate 0.6 yang mulai naik signifikan. Dari kurva tersebut memilih acceptance rate 0.6 sampai 0.8 dapat dijadikan saran."
   ]
  },
  {
   "cell_type": "markdown",
   "metadata": {},
   "source": [
    "<b>Estimated Loans</b>"
   ]
  },
  {
   "cell_type": "markdown",
   "metadata": {},
   "source": [
    "Estimated Loans adalah total biaya yang perlu dikeluarkan untuk peminjam."
   ]
  },
  {
   "cell_type": "code",
   "execution_count": 35,
   "metadata": {},
   "outputs": [
    {
     "data": {
      "text/html": [
       "<div>\n",
       "<style scoped>\n",
       "    .dataframe tbody tr th:only-of-type {\n",
       "        vertical-align: middle;\n",
       "    }\n",
       "\n",
       "    .dataframe tbody tr th {\n",
       "        vertical-align: top;\n",
       "    }\n",
       "\n",
       "    .dataframe thead th {\n",
       "        text-align: right;\n",
       "    }\n",
       "</style>\n",
       "<table border=\"1\" class=\"dataframe\">\n",
       "  <thead>\n",
       "    <tr style=\"text-align: right;\">\n",
       "      <th></th>\n",
       "      <th>Acceptance Rate</th>\n",
       "      <th>Threshold</th>\n",
       "      <th>Bad Rate</th>\n",
       "      <th>Num Accepted Loans</th>\n",
       "      <th>Avg Loans Amount</th>\n",
       "      <th>Estimated Value Loans</th>\n",
       "    </tr>\n",
       "  </thead>\n",
       "  <tbody>\n",
       "    <tr>\n",
       "      <td>0</td>\n",
       "      <td>1.00</td>\n",
       "      <td>1.000</td>\n",
       "      <td>0.221</td>\n",
       "      <td>9774</td>\n",
       "      <td>9378.347826</td>\n",
       "      <td>5.114850e+07</td>\n",
       "    </tr>\n",
       "    <tr>\n",
       "      <td>1</td>\n",
       "      <td>0.95</td>\n",
       "      <td>0.998</td>\n",
       "      <td>0.185</td>\n",
       "      <td>9285</td>\n",
       "      <td>9378.347826</td>\n",
       "      <td>5.485911e+07</td>\n",
       "    </tr>\n",
       "    <tr>\n",
       "      <td>2</td>\n",
       "      <td>0.90</td>\n",
       "      <td>0.992</td>\n",
       "      <td>0.134</td>\n",
       "      <td>8797</td>\n",
       "      <td>9378.347826</td>\n",
       "      <td>6.039097e+07</td>\n",
       "    </tr>\n",
       "    <tr>\n",
       "      <td>3</td>\n",
       "      <td>0.85</td>\n",
       "      <td>0.907</td>\n",
       "      <td>0.084</td>\n",
       "      <td>8308</td>\n",
       "      <td>9378.347826</td>\n",
       "      <td>6.482554e+07</td>\n",
       "    </tr>\n",
       "    <tr>\n",
       "      <td>4</td>\n",
       "      <td>0.80</td>\n",
       "      <td>0.323</td>\n",
       "      <td>0.056</td>\n",
       "      <td>7820</td>\n",
       "      <td>9378.347826</td>\n",
       "      <td>6.512475e+07</td>\n",
       "    </tr>\n",
       "  </tbody>\n",
       "</table>\n",
       "</div>"
      ],
      "text/plain": [
       "   Acceptance Rate  Threshold  Bad Rate  Num Accepted Loans  Avg Loans Amount  \\\n",
       "0             1.00      1.000     0.221                9774       9378.347826   \n",
       "1             0.95      0.998     0.185                9285       9378.347826   \n",
       "2             0.90      0.992     0.134                8797       9378.347826   \n",
       "3             0.85      0.907     0.084                8308       9378.347826   \n",
       "4             0.80      0.323     0.056                7820       9378.347826   \n",
       "\n",
       "   Estimated Value Loans  \n",
       "0           5.114850e+07  \n",
       "1           5.485911e+07  \n",
       "2           6.039097e+07  \n",
       "3           6.482554e+07  \n",
       "4           6.512475e+07  "
      ]
     },
     "execution_count": 35,
     "metadata": {},
     "output_type": "execute_result"
    }
   ],
   "source": [
    "# Store number of accepted loans\n",
    "num_accepted = []\n",
    "for rate in accept_rates:\n",
    "    acc_loans = len(test_pred_df[test_pred_df['prob_default'] < np.quantile(test_pred_df['prob_default'], rate)])\n",
    "    num_accepted.append(acc_loans)\n",
    "strat_df['Num Accepted Loans'] = num_accepted  \n",
    "# Store the average loan amount\n",
    "test_pred_df['loan_amnt'] = X_test['loan_amnt'].reset_index(drop=True)\n",
    "strat_df['Avg Loans Amount'] = np.mean(test_pred_df['loan_amnt'])\n",
    "strat_df['Estimated Value Loans'] = ((strat_df['Num Accepted Loans'] * (1-strat_df['Bad Rate'])) * strat_df['Avg Loans Amount']) \\\n",
    "                                    -(strat_df['Num Accepted Loans'] * strat_df['Bad Rate'] * strat_df['Avg Loans Amount']) \n",
    "strat_df.head()"
   ]
  },
  {
   "cell_type": "code",
   "execution_count": 36,
   "metadata": {},
   "outputs": [
    {
     "data": {
      "image/png": "[encoded data removed]",
      "text/plain": [
       "<Figure size 432x288 with 1 Axes>"
      ]
     },
     "metadata": {
      "needs_background": "light"
     },
     "output_type": "display_data"
    }
   ],
   "source": [
    "# Create a line plot of estimated value\n",
    "plt.plot(strat_df['Acceptance Rate'],strat_df['Estimated Value Loans'])\n",
    "plt.title('Estimated Value by Acceptance Rate')\n",
    "plt.xlabel('Acceptance Rate')\n",
    "plt.ylabel('Estimated Value')\n",
    "plt.axes().yaxis.grid()\n",
    "plt.show()"
   ]
  },
  {
   "cell_type": "code",
   "execution_count": 37,
   "metadata": {},
   "outputs": [
    {
     "data": {
      "text/html": [
       "<div>\n",
       "<style scoped>\n",
       "    .dataframe tbody tr th:only-of-type {\n",
       "        vertical-align: middle;\n",
       "    }\n",
       "\n",
       "    .dataframe tbody tr th {\n",
       "        vertical-align: top;\n",
       "    }\n",
       "\n",
       "    .dataframe thead th {\n",
       "        text-align: right;\n",
       "    }\n",
       "</style>\n",
       "<table border=\"1\" class=\"dataframe\">\n",
       "  <thead>\n",
       "    <tr style=\"text-align: right;\">\n",
       "      <th></th>\n",
       "      <th>Acceptance Rate</th>\n",
       "      <th>Threshold</th>\n",
       "      <th>Bad Rate</th>\n",
       "      <th>Num Accepted Loans</th>\n",
       "      <th>Avg Loans Amount</th>\n",
       "      <th>Estimated Value Loans</th>\n",
       "    </tr>\n",
       "  </thead>\n",
       "  <tbody>\n",
       "    <tr>\n",
       "      <td>4</td>\n",
       "      <td>0.8</td>\n",
       "      <td>0.323</td>\n",
       "      <td>0.056</td>\n",
       "      <td>7820</td>\n",
       "      <td>9378.347826</td>\n",
       "      <td>65124747.84</td>\n",
       "    </tr>\n",
       "  </tbody>\n",
       "</table>\n",
       "</div>"
      ],
      "text/plain": [
       "   Acceptance Rate  Threshold  Bad Rate  Num Accepted Loans  Avg Loans Amount  \\\n",
       "4              0.8      0.323     0.056                7820       9378.347826   \n",
       "\n",
       "   Estimated Value Loans  \n",
       "4            65124747.84  "
      ]
     },
     "execution_count": 37,
     "metadata": {},
     "output_type": "execute_result"
    }
   ],
   "source": [
    "# Print the row with the max estimated value\n",
    "strat_df.loc[strat_df['Estimated Value Loans'] == np.max(strat_df['Estimated Value Loans'])]"
   ]
  },
  {
   "cell_type": "markdown",
   "metadata": {},
   "source": [
    "Dari data diatas dapat disimpulkan bahwa strategi terbaik adalah acceptance rate 80% terdapat bad rate 5,6% dengan jumlah pinjaman yang akan disetujui sebanyak 7820 dan biaya pinjaman yang dibutuhkan maksimal sekitar 65 juta."
   ]
  },
  {
   "cell_type": "code",
   "execution_count": 38,
   "metadata": {},
   "outputs": [
    {
     "data": {
      "image/png": "[encoded data removed]",
      "text/plain": [
       "<Figure size 432x288 with 1 Axes>"
      ]
     },
     "metadata": {
      "needs_background": "light"
     },
     "output_type": "display_data"
    }
   ],
   "source": [
    "# Plot the predicted probabilities of default\n",
    "plt.hist(test_pred_df['prob_default'], color = 'blue', bins = 40)\n",
    "\n",
    "# Calculate the threshold with quantile\n",
    "threshold = np.quantile(test_pred_df['prob_default'], 0.80)\n",
    "\n",
    "# Add a reference line to the plot for the threshold\n",
    "plt.axvline(x = threshold, color = 'red')\n",
    "plt.show()"
   ]
  },
  {
   "cell_type": "markdown",
   "metadata": {},
   "source": [
    "Dari grafik di atas bahwa zona sebelah kiri garis merah adalah 80% pinjaman yang disetujui dan sebelah kanan adalah zona 20% pinjaman yang ditolak."
   ]
  },
  {
   "cell_type": "code",
   "execution_count": 39,
   "metadata": {},
   "outputs": [
    {
     "data": {
      "text/html": [
       "<div>\n",
       "<style scoped>\n",
       "    .dataframe tbody tr th:only-of-type {\n",
       "        vertical-align: middle;\n",
       "    }\n",
       "\n",
       "    .dataframe tbody tr th {\n",
       "        vertical-align: top;\n",
       "    }\n",
       "\n",
       "    .dataframe thead th {\n",
       "        text-align: right;\n",
       "    }\n",
       "</style>\n",
       "<table border=\"1\" class=\"dataframe\">\n",
       "  <thead>\n",
       "    <tr style=\"text-align: right;\">\n",
       "      <th></th>\n",
       "      <th>loan_status</th>\n",
       "      <th>prob_default</th>\n",
       "      <th>pred_loan_status</th>\n",
       "      <th>loan_amnt</th>\n",
       "      <th>loss_given_default</th>\n",
       "    </tr>\n",
       "  </thead>\n",
       "  <tbody>\n",
       "    <tr>\n",
       "      <td>0</td>\n",
       "      <td>0</td>\n",
       "      <td>0.000332</td>\n",
       "      <td>1</td>\n",
       "      <td>10000</td>\n",
       "      <td>1.0</td>\n",
       "    </tr>\n",
       "    <tr>\n",
       "      <td>1</td>\n",
       "      <td>0</td>\n",
       "      <td>0.450696</td>\n",
       "      <td>1</td>\n",
       "      <td>10000</td>\n",
       "      <td>1.0</td>\n",
       "    </tr>\n",
       "    <tr>\n",
       "      <td>2</td>\n",
       "      <td>0</td>\n",
       "      <td>0.055941</td>\n",
       "      <td>1</td>\n",
       "      <td>16000</td>\n",
       "      <td>1.0</td>\n",
       "    </tr>\n",
       "    <tr>\n",
       "      <td>3</td>\n",
       "      <td>1</td>\n",
       "      <td>0.994388</td>\n",
       "      <td>1</td>\n",
       "      <td>10000</td>\n",
       "      <td>1.0</td>\n",
       "    </tr>\n",
       "    <tr>\n",
       "      <td>4</td>\n",
       "      <td>1</td>\n",
       "      <td>0.951896</td>\n",
       "      <td>1</td>\n",
       "      <td>13000</td>\n",
       "      <td>1.0</td>\n",
       "    </tr>\n",
       "  </tbody>\n",
       "</table>\n",
       "</div>"
      ],
      "text/plain": [
       "   loan_status  prob_default  pred_loan_status  loan_amnt  loss_given_default\n",
       "0            0      0.000332                 1      10000                 1.0\n",
       "1            0      0.450696                 1      10000                 1.0\n",
       "2            0      0.055941                 1      16000                 1.0\n",
       "3            1      0.994388                 1      10000                 1.0\n",
       "4            1      0.951896                 1      13000                 1.0"
      ]
     },
     "execution_count": 39,
     "metadata": {},
     "output_type": "execute_result"
    }
   ],
   "source": [
    "# Loss given default = 1.0 for total loss (LGD)\n",
    "test_pred_df['loss_given_default'] = 1.0\n",
    "\n",
    "# Print the first five rows of the data frame\n",
    "test_pred_df.head()"
   ]
  },
  {
   "cell_type": "markdown",
   "metadata": {},
   "source": [
    "<b>Expected Loss</b>"
   ]
  },
  {
   "cell_type": "markdown",
   "metadata": {},
   "source": [
    "Expected Loss adalah nilai kerugian pada saat peminjam benar-benar akan gagal bayar."
   ]
  },
  {
   "cell_type": "code",
   "execution_count": 40,
   "metadata": {},
   "outputs": [
    {
     "name": "stdout",
     "output_type": "stream",
     "text": [
      "Total expected loss:  $22,024,952.59\n"
     ]
    }
   ],
   "source": [
    "# Calculate the bank's expected loss and assign it to a new column\n",
    "test_pred_df['expected_loss'] = test_pred_df['prob_default'] * test_pred_df['loss_given_default'] * test_pred_df['loan_amnt']\n",
    "\n",
    "# Calculate the total expected loss to two decimal places\n",
    "tot_exp_loss = round(np.sum(test_pred_df['expected_loss']),2)\n",
    "\n",
    "# Print the total expected loss\n",
    "print('Total expected loss: ', '${:,.2f}'.format(tot_exp_loss))"
   ]
  }
 ],
 "metadata": {
  "kernelspec": {
   "display_name": "Python 3",
   "language": "python",
   "name": "python3"
  },
  "language_info": {
   "codemirror_mode": {
    "name": "ipython",
    "version": 3
   },
   "file_extension": ".py",
   "mimetype": "text/x-python",
   "name": "python",
   "nbconvert_exporter": "python",
   "pygments_lexer": "ipython3",
   "version": "3.8.5"
  }
 },
 "nbformat": 4,
 "nbformat_minor": 2
}
